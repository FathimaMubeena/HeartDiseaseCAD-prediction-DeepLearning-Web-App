{
 "nbformat": 4,
 "nbformat_minor": 5,
 "metadata": {
  "kernelspec": {
   "display_name": "Python 3",
   "language": "python",
   "name": "python3"
  },
  "language_info": {
   "codemirror_mode": {
    "name": "ipython",
    "version": 3
   },
   "file_extension": ".py",
   "mimetype": "text/x-python",
   "name": "python",
   "nbconvert_exporter": "python",
   "pygments_lexer": "ipython3",
   "version": "3.7.10"
  },
  "colab": {
   "provenance": [],
   "collapsed_sections": [
    "2d719336-9560-4179-8d85-1d7581f15cf0",
    "3188d7da-11a4-4d7c-bd27-0bd622fd533a",
    "fd6e5585-b44d-4df4-b764-146b3714c08e",
    "XEwBrGiqG-7e",
    "pbX1Eu1AtOfo",
    "6f6de916-616d-4dce-916d-3ab9d3bf1084",
    "JC9VBEoUqOyc",
    "mXUAJTYrqVP-",
    "0069c1c8-018c-41a9-9c1a-2a38075133d4",
    "4fbdd040-923c-414c-a70b-64eae0e5461a",
    "0739db5d-1524-4b25-89f6-368c544b3951",
    "NqKuUcDLa01d",
    "e6b49a83-1dd0-4e47-b6b1-8a6435eb9fb6",
    "3ab395fe-cdf4-4c40-bcf8-c3058ccebe2f",
    "ec750a12-a6d5-4cbf-a556-3ff5ff0a27c8",
    "xwjb2Bw_FYzW",
    "XO5d1X7DDyc6",
    "ee03c23d-303d-4d56-afb8-034899497b9f",
    "ZHPVDRYxwxM4",
    "ba5a760b-9884-4036-92b7-63fa9f66a673",
    "71ab0e37-5266-46c6-b69c-b0c0097ead0e",
    "VrQINrubPeCf",
    "tAhunR3HLoHb"
   ]
  }
 },
 "cells": [
  {
   "cell_type": "markdown",
   "metadata": {
    "id": "f56b37ef-2d25-4035-ba28-c19f68768c53"
   },
   "source": [
    "# Pattern recognition using a Keras neural network for predicting Coronary Artery Dieases\n",
    "\n",
    "Heart diseases are often underestimated, but, in reality, they are the leading cause of death in the world. Among them, coronary artery disease (CAD) accounts for about a third of all deaths worldwide in people over 35 years of age. CAD is the result of arteriosclerosis, which consists in the narrowing of the blood vessels and the hardening of its walls. In some cases, CAD can completely block the influx of oxygen-rich blood to the heart muscle, causing a heart attack.\n",
    "\n",
    "\n",
    "**Goal :**\n",
    "The goal is to predict a condition of heart disease through a classification algorithm based on Keras neural networks.\n",
    "\n",
    "**Dataset:** Heart Disease Data Set is extracted from the  UCI Machine Learning Repository.\n",
    "\n",
    "https://archive.ics.uci.edu/dataset/45/heart+disease\n",
    "\n",
    "\n",
    "This dataset is provided by the following four clinical institutions:\n",
    "1. Cleveland Clinic Foundation (CCF),\n",
    "2. Hungarian Institute of Cardiology (HIC),\n",
    "3. Long Beach Medical Center (LBMC), and\n",
    "4. University Hospital in Switzerland (SUH).\n",
    "\n"
   ],
   "id": "f56b37ef-2d25-4035-ba28-c19f68768c53"
  },
  {
   "cell_type": "markdown",
   "metadata": {
    "id": "2d719336-9560-4179-8d85-1d7581f15cf0"
   },
   "source": [
    "# 1. Library"
   ],
   "id": "2d719336-9560-4179-8d85-1d7581f15cf0"
  },
  {
   "cell_type": "code",
   "metadata": {
    "id": "0050907e-b746-4cb3-885c-e41bc1b7027f"
   },
   "source": [
    "import pandas as pd\n",
    "import numpy as np\n",
    "import matplotlib.pyplot as plt"
   ],
   "id": "0050907e-b746-4cb3-885c-e41bc1b7027f",
   "execution_count": 141,
   "outputs": []
  },
  {
   "cell_type": "markdown",
   "metadata": {
    "id": "3188d7da-11a4-4d7c-bd27-0bd622fd533a"
   },
   "source": [
    "# 2. Data Extraction - Load data"
   ],
   "id": "3188d7da-11a4-4d7c-bd27-0bd622fd533a"
  },
  {
   "cell_type": "code",
   "source": [
    "! pip install ucimlrepo"
   ],
   "metadata": {
    "colab": {
     "base_uri": "https://localhost:8080/"
    },
    "id": "7iXfi7ghHM6w",
    "outputId": "6b831cc1-9f9d-40e5-9744-c6e41bf4d9a7"
   },
   "id": "7iXfi7ghHM6w",
   "execution_count": 142,
   "outputs": [
    {
     "output_type": "stream",
     "name": "stdout",
     "text": [
      "Collecting ucimlrepo\n",
      "  Downloading ucimlrepo-0.0.7-py3-none-any.whl.metadata (5.5 kB)\n",
      "Requirement already satisfied: pandas>=1.0.0 in /usr/local/lib/python3.10/dist-packages (from ucimlrepo) (2.1.4)\n",
      "Requirement already satisfied: certifi>=2020.12.5 in /usr/local/lib/python3.10/dist-packages (from ucimlrepo) (2024.8.30)\n",
      "Requirement already satisfied: numpy<2,>=1.22.4 in /usr/local/lib/python3.10/dist-packages (from pandas>=1.0.0->ucimlrepo) (1.26.4)\n",
      "Requirement already satisfied: python-dateutil>=2.8.2 in /usr/local/lib/python3.10/dist-packages (from pandas>=1.0.0->ucimlrepo) (2.8.2)\n",
      "Requirement already satisfied: pytz>=2020.1 in /usr/local/lib/python3.10/dist-packages (from pandas>=1.0.0->ucimlrepo) (2024.2)\n",
      "Requirement already satisfied: tzdata>=2022.1 in /usr/local/lib/python3.10/dist-packages (from pandas>=1.0.0->ucimlrepo) (2024.1)\n",
      "Requirement already satisfied: six>=1.5 in /usr/local/lib/python3.10/dist-packages (from python-dateutil>=2.8.2->pandas>=1.0.0->ucimlrepo) (1.16.0)\n",
      "Downloading ucimlrepo-0.0.7-py3-none-any.whl (8.0 kB)\n",
      "Installing collected packages: ucimlrepo\n",
      "Successfully installed ucimlrepo-0.0.7\n"
     ]
    }
   ]
  },
  {
   "cell_type": "code",
   "source": [
    "from ucimlrepo import fetch_ucirepo\n",
    "\n",
    "# fetch dataset\n",
    "heart_disease = fetch_ucirepo(id=45)\n",
    "\n",
    "# data (as pandas dataframes)\n",
    "X = heart_disease.data.features\n",
    "y = heart_disease.data.targets\n",
    "\n",
    "# metadata\n",
    "print(heart_disease.metadata)\n",
    "\n",
    "# variable information\n",
    "print(heart_disease.variables)\n"
   ],
   "metadata": {
    "colab": {
     "base_uri": "https://localhost:8080/"
    },
    "id": "mUobEF_zHGnO",
    "outputId": "a5e02db7-284f-454d-d8fa-6b5f3f1f2ffb"
   },
   "id": "mUobEF_zHGnO",
   "execution_count": 143,
   "outputs": [
    {
     "output_type": "stream",
     "name": "stdout",
     "text": [
      "{'uci_id': 45, 'name': 'Heart Disease', 'repository_url': 'https://archive.ics.uci.edu/dataset/45/heart+disease', 'data_url': 'https://archive.ics.uci.edu/static/public/45/data.csv', 'abstract': '4 databases: Cleveland, Hungary, Switzerland, and the VA Long Beach', 'area': 'Health and Medicine', 'tasks': ['Classification'], 'characteristics': ['Multivariate'], 'num_instances': 303, 'num_features': 13, 'feature_types': ['Categorical', 'Integer', 'Real'], 'demographics': ['Age', 'Sex'], 'target_col': ['num'], 'index_col': None, 'has_missing_values': 'yes', 'missing_values_symbol': 'NaN', 'year_of_dataset_creation': 1989, 'last_updated': 'Fri Nov 03 2023', 'dataset_doi': '10.24432/C52P4X', 'creators': ['Andras Janosi', 'William Steinbrunn', 'Matthias Pfisterer', 'Robert Detrano'], 'intro_paper': {'title': 'International application of a new probability algorithm for the diagnosis of coronary artery disease.', 'authors': 'R. Detrano, A. Jánosi, W. Steinbrunn, M. Pfisterer, J. Schmid, S. Sandhu, K. Guppy, S. Lee, V. Froelicher', 'published_in': 'American Journal of Cardiology', 'year': 1989, 'url': 'https://www.semanticscholar.org/paper/a7d714f8f87bfc41351eb5ae1e5472f0ebbe0574', 'doi': None}, 'additional_info': {'summary': 'This database contains 76 attributes, but all published experiments refer to using a subset of 14 of them.  In particular, the Cleveland database is the only one that has been used by ML researchers to date.  The \"goal\" field refers to the presence of heart disease in the patient.  It is integer valued from 0 (no presence) to 4. Experiments with the Cleveland database have concentrated on simply attempting to distinguish presence (values 1,2,3,4) from absence (value 0).  \\n   \\nThe names and social security numbers of the patients were recently removed from the database, replaced with dummy values.\\n\\nOne file has been \"processed\", that one containing the Cleveland database.  All four unprocessed files also exist in this directory.\\n\\nTo see Test Costs (donated by Peter Turney), please see the folder \"Costs\" ', 'purpose': None, 'funded_by': None, 'instances_represent': None, 'recommended_data_splits': None, 'sensitive_data': None, 'preprocessing_description': None, 'variable_info': 'Only 14 attributes used:\\r\\n      1. #3  (age)       \\r\\n      2. #4  (sex)       \\r\\n      3. #9  (cp)        \\r\\n      4. #10 (trestbps)  \\r\\n      5. #12 (chol)      \\r\\n      6. #16 (fbs)       \\r\\n      7. #19 (restecg)   \\r\\n      8. #32 (thalach)   \\r\\n      9. #38 (exang)     \\r\\n      10. #40 (oldpeak)   \\r\\n      11. #41 (slope)     \\r\\n      12. #44 (ca)        \\r\\n      13. #51 (thal)      \\r\\n      14. #58 (num)       (the predicted attribute)\\r\\n\\r\\nComplete attribute documentation:\\r\\n      1 id: patient identification number\\r\\n      2 ccf: social security number (I replaced this with a dummy value of 0)\\r\\n      3 age: age in years\\r\\n      4 sex: sex (1 = male; 0 = female)\\r\\n      5 painloc: chest pain location (1 = substernal; 0 = otherwise)\\r\\n      6 painexer (1 = provoked by exertion; 0 = otherwise)\\r\\n      7 relrest (1 = relieved after rest; 0 = otherwise)\\r\\n      8 pncaden (sum of 5, 6, and 7)\\r\\n      9 cp: chest pain type\\r\\n        -- Value 1: typical angina\\r\\n        -- Value 2: atypical angina\\r\\n        -- Value 3: non-anginal pain\\r\\n        -- Value 4: asymptomatic\\r\\n     10 trestbps: resting blood pressure (in mm Hg on admission to the hospital)\\r\\n     11 htn\\r\\n     12 chol: serum cholestoral in mg/dl\\r\\n     13 smoke: I believe this is 1 = yes; 0 = no (is or is not a smoker)\\r\\n     14 cigs (cigarettes per day)\\r\\n     15 years (number of years as a smoker)\\r\\n     16 fbs: (fasting blood sugar > 120 mg/dl)  (1 = true; 0 = false)\\r\\n     17 dm (1 = history of diabetes; 0 = no such history)\\r\\n     18 famhist: family history of coronary artery disease (1 = yes; 0 = no)\\r\\n     19 restecg: resting electrocardiographic results\\r\\n        -- Value 0: normal\\r\\n        -- Value 1: having ST-T wave abnormality (T wave inversions and/or ST elevation or depression of > 0.05 mV)\\r\\n        -- Value 2: showing probable or definite left ventricular hypertrophy by Estes\\' criteria\\r\\n     20 ekgmo (month of exercise ECG reading)\\r\\n     21 ekgday(day of exercise ECG reading)\\r\\n     22 ekgyr (year of exercise ECG reading)\\r\\n     23 dig (digitalis used furing exercise ECG: 1 = yes; 0 = no)\\r\\n     24 prop (Beta blocker used during exercise ECG: 1 = yes; 0 = no)\\r\\n     25 nitr (nitrates used during exercise ECG: 1 = yes; 0 = no)\\r\\n     26 pro (calcium channel blocker used during exercise ECG: 1 = yes; 0 = no)\\r\\n     27 diuretic (diuretic used used during exercise ECG: 1 = yes; 0 = no)\\r\\n     28 proto: exercise protocol\\r\\n          1 = Bruce     \\r\\n          2 = Kottus\\r\\n          3 = McHenry\\r\\n          4 = fast Balke\\r\\n          5 = Balke\\r\\n          6 = Noughton \\r\\n          7 = bike 150 kpa min/min  (Not sure if \"kpa min/min\" is what was written!)\\r\\n          8 = bike 125 kpa min/min  \\r\\n          9 = bike 100 kpa min/min\\r\\n         10 = bike 75 kpa min/min\\r\\n         11 = bike 50 kpa min/min\\r\\n         12 = arm ergometer\\r\\n     29 thaldur: duration of exercise test in minutes\\r\\n     30 thaltime: time when ST measure depression was noted\\r\\n     31 met: mets achieved\\r\\n     32 thalach: maximum heart rate achieved\\r\\n     33 thalrest: resting heart rate\\r\\n     34 tpeakbps: peak exercise blood pressure (first of 2 parts)\\r\\n     35 tpeakbpd: peak exercise blood pressure (second of 2 parts)\\r\\n     36 dummy\\r\\n     37 trestbpd: resting blood pressure\\r\\n     38 exang: exercise induced angina (1 = yes; 0 = no)\\r\\n     39 xhypo: (1 = yes; 0 = no)\\r\\n     40 oldpeak = ST depression induced by exercise relative to rest\\r\\n     41 slope: the slope of the peak exercise ST segment\\r\\n        -- Value 1: upsloping\\r\\n        -- Value 2: flat\\r\\n        -- Value 3: downsloping\\r\\n     42 rldv5: height at rest\\r\\n     43 rldv5e: height at peak exercise\\r\\n     44 ca: number of major vessels (0-3) colored by flourosopy\\r\\n     45 restckm: irrelevant\\r\\n     46 exerckm: irrelevant\\r\\n     47 restef: rest raidonuclid (sp?) ejection fraction\\r\\n     48 restwm: rest wall (sp?) motion abnormality\\r\\n        0 = none\\r\\n        1 = mild or moderate\\r\\n        2 = moderate or severe\\r\\n        3 = akinesis or dyskmem (sp?)\\r\\n     49 exeref: exercise radinalid (sp?) ejection fraction\\r\\n     50 exerwm: exercise wall (sp?) motion \\r\\n     51 thal: 3 = normal; 6 = fixed defect; 7 = reversable defect\\r\\n     52 thalsev: not used\\r\\n     53 thalpul: not used\\r\\n     54 earlobe: not used\\r\\n     55 cmo: month of cardiac cath (sp?)  (perhaps \"call\")\\r\\n     56 cday: day of cardiac cath (sp?)\\r\\n     57 cyr: year of cardiac cath (sp?)\\r\\n     58 num: diagnosis of heart disease (angiographic disease status)\\r\\n        -- Value 0: < 50% diameter narrowing\\r\\n        -- Value 1: > 50% diameter narrowing\\r\\n        (in any major vessel: attributes 59 through 68 are vessels)\\r\\n     59 lmt\\r\\n     60 ladprox\\r\\n     61 laddist\\r\\n     62 diag\\r\\n     63 cxmain\\r\\n     64 ramus\\r\\n     65 om1\\r\\n     66 om2\\r\\n     67 rcaprox\\r\\n     68 rcadist\\r\\n     69 lvx1: not used\\r\\n     70 lvx2: not used\\r\\n     71 lvx3: not used\\r\\n     72 lvx4: not used\\r\\n     73 lvf: not used\\r\\n     74 cathef: not used\\r\\n     75 junk: not used\\r\\n     76 name: last name of patient  (I replaced this with the dummy string \"name\")', 'citation': None}}\n",
      "        name     role         type demographic  \\\n",
      "0        age  Feature      Integer         Age   \n",
      "1        sex  Feature  Categorical         Sex   \n",
      "2         cp  Feature  Categorical        None   \n",
      "3   trestbps  Feature      Integer        None   \n",
      "4       chol  Feature      Integer        None   \n",
      "5        fbs  Feature  Categorical        None   \n",
      "6    restecg  Feature  Categorical        None   \n",
      "7    thalach  Feature      Integer        None   \n",
      "8      exang  Feature  Categorical        None   \n",
      "9    oldpeak  Feature      Integer        None   \n",
      "10     slope  Feature  Categorical        None   \n",
      "11        ca  Feature      Integer        None   \n",
      "12      thal  Feature  Categorical        None   \n",
      "13       num   Target      Integer        None   \n",
      "\n",
      "                                          description  units missing_values  \n",
      "0                                                None  years             no  \n",
      "1                                                None   None             no  \n",
      "2                                                None   None             no  \n",
      "3   resting blood pressure (on admission to the ho...  mm Hg             no  \n",
      "4                                   serum cholestoral  mg/dl             no  \n",
      "5                     fasting blood sugar > 120 mg/dl   None             no  \n",
      "6                                                None   None             no  \n",
      "7                         maximum heart rate achieved   None             no  \n",
      "8                             exercise induced angina   None             no  \n",
      "9   ST depression induced by exercise relative to ...   None             no  \n",
      "10                                               None   None             no  \n",
      "11  number of major vessels (0-3) colored by flour...   None            yes  \n",
      "12                                               None   None            yes  \n",
      "13                         diagnosis of heart disease   None             no  \n"
     ]
    }
   ]
  },
  {
   "cell_type": "code",
   "metadata": {
    "id": "a81a0022-a532-4360-8259-5c410c098aaa",
    "colab": {
     "base_uri": "https://localhost:8080/",
     "height": 0
    },
    "outputId": "d5864654-27cc-4386-8f48-9b3f4ce443dd"
   },
   "source": [
    "dataset_url = 'https://archive.ics.uci.edu/static/public/45/data.csv'\n",
    "df = pd.read_csv(dataset_url)\n",
    "df.head()"
   ],
   "id": "a81a0022-a532-4360-8259-5c410c098aaa",
   "execution_count": 144,
   "outputs": [
    {
     "output_type": "execute_result",
     "data": {
      "text/plain": [
       "   age  sex  cp  trestbps  chol  fbs  restecg  thalach  exang  oldpeak  slope  \\\n",
       "0   63    1   1       145   233    1        2      150      0      2.3      3   \n",
       "1   67    1   4       160   286    0        2      108      1      1.5      2   \n",
       "2   67    1   4       120   229    0        2      129      1      2.6      2   \n",
       "3   37    1   3       130   250    0        0      187      0      3.5      3   \n",
       "4   41    0   2       130   204    0        2      172      0      1.4      1   \n",
       "\n",
       "    ca  thal  num  \n",
       "0  0.0   6.0    0  \n",
       "1  3.0   3.0    2  \n",
       "2  2.0   7.0    1  \n",
       "3  0.0   3.0    0  \n",
       "4  0.0   3.0    0  "
      ],
      "text/html": [
       "\n",
       "  <div id=\"df-90c2dc0b-a836-4849-8f7b-83b41807e4b0\" class=\"colab-df-container\">\n",
       "    <div>\n",
       "<style scoped>\n",
       "    .dataframe tbody tr th:only-of-type {\n",
       "        vertical-align: middle;\n",
       "    }\n",
       "\n",
       "    .dataframe tbody tr th {\n",
       "        vertical-align: top;\n",
       "    }\n",
       "\n",
       "    .dataframe thead th {\n",
       "        text-align: right;\n",
       "    }\n",
       "</style>\n",
       "<table border=\"1\" class=\"dataframe\">\n",
       "  <thead>\n",
       "    <tr style=\"text-align: right;\">\n",
       "      <th></th>\n",
       "      <th>age</th>\n",
       "      <th>sex</th>\n",
       "      <th>cp</th>\n",
       "      <th>trestbps</th>\n",
       "      <th>chol</th>\n",
       "      <th>fbs</th>\n",
       "      <th>restecg</th>\n",
       "      <th>thalach</th>\n",
       "      <th>exang</th>\n",
       "      <th>oldpeak</th>\n",
       "      <th>slope</th>\n",
       "      <th>ca</th>\n",
       "      <th>thal</th>\n",
       "      <th>num</th>\n",
       "    </tr>\n",
       "  </thead>\n",
       "  <tbody>\n",
       "    <tr>\n",
       "      <th>0</th>\n",
       "      <td>63</td>\n",
       "      <td>1</td>\n",
       "      <td>1</td>\n",
       "      <td>145</td>\n",
       "      <td>233</td>\n",
       "      <td>1</td>\n",
       "      <td>2</td>\n",
       "      <td>150</td>\n",
       "      <td>0</td>\n",
       "      <td>2.3</td>\n",
       "      <td>3</td>\n",
       "      <td>0.0</td>\n",
       "      <td>6.0</td>\n",
       "      <td>0</td>\n",
       "    </tr>\n",
       "    <tr>\n",
       "      <th>1</th>\n",
       "      <td>67</td>\n",
       "      <td>1</td>\n",
       "      <td>4</td>\n",
       "      <td>160</td>\n",
       "      <td>286</td>\n",
       "      <td>0</td>\n",
       "      <td>2</td>\n",
       "      <td>108</td>\n",
       "      <td>1</td>\n",
       "      <td>1.5</td>\n",
       "      <td>2</td>\n",
       "      <td>3.0</td>\n",
       "      <td>3.0</td>\n",
       "      <td>2</td>\n",
       "    </tr>\n",
       "    <tr>\n",
       "      <th>2</th>\n",
       "      <td>67</td>\n",
       "      <td>1</td>\n",
       "      <td>4</td>\n",
       "      <td>120</td>\n",
       "      <td>229</td>\n",
       "      <td>0</td>\n",
       "      <td>2</td>\n",
       "      <td>129</td>\n",
       "      <td>1</td>\n",
       "      <td>2.6</td>\n",
       "      <td>2</td>\n",
       "      <td>2.0</td>\n",
       "      <td>7.0</td>\n",
       "      <td>1</td>\n",
       "    </tr>\n",
       "    <tr>\n",
       "      <th>3</th>\n",
       "      <td>37</td>\n",
       "      <td>1</td>\n",
       "      <td>3</td>\n",
       "      <td>130</td>\n",
       "      <td>250</td>\n",
       "      <td>0</td>\n",
       "      <td>0</td>\n",
       "      <td>187</td>\n",
       "      <td>0</td>\n",
       "      <td>3.5</td>\n",
       "      <td>3</td>\n",
       "      <td>0.0</td>\n",
       "      <td>3.0</td>\n",
       "      <td>0</td>\n",
       "    </tr>\n",
       "    <tr>\n",
       "      <th>4</th>\n",
       "      <td>41</td>\n",
       "      <td>0</td>\n",
       "      <td>2</td>\n",
       "      <td>130</td>\n",
       "      <td>204</td>\n",
       "      <td>0</td>\n",
       "      <td>2</td>\n",
       "      <td>172</td>\n",
       "      <td>0</td>\n",
       "      <td>1.4</td>\n",
       "      <td>1</td>\n",
       "      <td>0.0</td>\n",
       "      <td>3.0</td>\n",
       "      <td>0</td>\n",
       "    </tr>\n",
       "  </tbody>\n",
       "</table>\n",
       "</div>\n",
       "    <div class=\"colab-df-buttons\">\n",
       "\n",
       "  <div class=\"colab-df-container\">\n",
       "    <button class=\"colab-df-convert\" onclick=\"convertToInteractive('df-90c2dc0b-a836-4849-8f7b-83b41807e4b0')\"\n",
       "            title=\"Convert this dataframe to an interactive table.\"\n",
       "            style=\"display:none;\">\n",
       "\n",
       "  <svg xmlns=\"http://www.w3.org/2000/svg\" height=\"24px\" viewBox=\"0 -960 960 960\">\n",
       "    <path d=\"M120-120v-720h720v720H120Zm60-500h600v-160H180v160Zm220 220h160v-160H400v160Zm0 220h160v-160H400v160ZM180-400h160v-160H180v160Zm440 0h160v-160H620v160ZM180-180h160v-160H180v160Zm440 0h160v-160H620v160Z\"/>\n",
       "  </svg>\n",
       "    </button>\n",
       "\n",
       "  <style>\n",
       "    .colab-df-container {\n",
       "      display:flex;\n",
       "      gap: 12px;\n",
       "    }\n",
       "\n",
       "    .colab-df-convert {\n",
       "      background-color: #E8F0FE;\n",
       "      border: none;\n",
       "      border-radius: 50%;\n",
       "      cursor: pointer;\n",
       "      display: none;\n",
       "      fill: #1967D2;\n",
       "      height: 32px;\n",
       "      padding: 0 0 0 0;\n",
       "      width: 32px;\n",
       "    }\n",
       "\n",
       "    .colab-df-convert:hover {\n",
       "      background-color: #E2EBFA;\n",
       "      box-shadow: 0px 1px 2px rgba(60, 64, 67, 0.3), 0px 1px 3px 1px rgba(60, 64, 67, 0.15);\n",
       "      fill: #174EA6;\n",
       "    }\n",
       "\n",
       "    .colab-df-buttons div {\n",
       "      margin-bottom: 4px;\n",
       "    }\n",
       "\n",
       "    [theme=dark] .colab-df-convert {\n",
       "      background-color: #3B4455;\n",
       "      fill: #D2E3FC;\n",
       "    }\n",
       "\n",
       "    [theme=dark] .colab-df-convert:hover {\n",
       "      background-color: #434B5C;\n",
       "      box-shadow: 0px 1px 3px 1px rgba(0, 0, 0, 0.15);\n",
       "      filter: drop-shadow(0px 1px 2px rgba(0, 0, 0, 0.3));\n",
       "      fill: #FFFFFF;\n",
       "    }\n",
       "  </style>\n",
       "\n",
       "    <script>\n",
       "      const buttonEl =\n",
       "        document.querySelector('#df-90c2dc0b-a836-4849-8f7b-83b41807e4b0 button.colab-df-convert');\n",
       "      buttonEl.style.display =\n",
       "        google.colab.kernel.accessAllowed ? 'block' : 'none';\n",
       "\n",
       "      async function convertToInteractive(key) {\n",
       "        const element = document.querySelector('#df-90c2dc0b-a836-4849-8f7b-83b41807e4b0');\n",
       "        const dataTable =\n",
       "          await google.colab.kernel.invokeFunction('convertToInteractive',\n",
       "                                                    [key], {});\n",
       "        if (!dataTable) return;\n",
       "\n",
       "        const docLinkHtml = 'Like what you see? Visit the ' +\n",
       "          '<a target=\"_blank\" href=https://colab.research.google.com/notebooks/data_table.ipynb>data table notebook</a>'\n",
       "          + ' to learn more about interactive tables.';\n",
       "        element.innerHTML = '';\n",
       "        dataTable['output_type'] = 'display_data';\n",
       "        await google.colab.output.renderOutput(dataTable, element);\n",
       "        const docLink = document.createElement('div');\n",
       "        docLink.innerHTML = docLinkHtml;\n",
       "        element.appendChild(docLink);\n",
       "      }\n",
       "    </script>\n",
       "  </div>\n",
       "\n",
       "\n",
       "<div id=\"df-785fe2c1-9b2f-4628-8e25-4b399e3b9aee\">\n",
       "  <button class=\"colab-df-quickchart\" onclick=\"quickchart('df-785fe2c1-9b2f-4628-8e25-4b399e3b9aee')\"\n",
       "            title=\"Suggest charts\"\n",
       "            style=\"display:none;\">\n",
       "\n",
       "<svg xmlns=\"http://www.w3.org/2000/svg\" height=\"24px\"viewBox=\"0 0 24 24\"\n",
       "     width=\"24px\">\n",
       "    <g>\n",
       "        <path d=\"M19 3H5c-1.1 0-2 .9-2 2v14c0 1.1.9 2 2 2h14c1.1 0 2-.9 2-2V5c0-1.1-.9-2-2-2zM9 17H7v-7h2v7zm4 0h-2V7h2v10zm4 0h-2v-4h2v4z\"/>\n",
       "    </g>\n",
       "</svg>\n",
       "  </button>\n",
       "\n",
       "<style>\n",
       "  .colab-df-quickchart {\n",
       "      --bg-color: #E8F0FE;\n",
       "      --fill-color: #1967D2;\n",
       "      --hover-bg-color: #E2EBFA;\n",
       "      --hover-fill-color: #174EA6;\n",
       "      --disabled-fill-color: #AAA;\n",
       "      --disabled-bg-color: #DDD;\n",
       "  }\n",
       "\n",
       "  [theme=dark] .colab-df-quickchart {\n",
       "      --bg-color: #3B4455;\n",
       "      --fill-color: #D2E3FC;\n",
       "      --hover-bg-color: #434B5C;\n",
       "      --hover-fill-color: #FFFFFF;\n",
       "      --disabled-bg-color: #3B4455;\n",
       "      --disabled-fill-color: #666;\n",
       "  }\n",
       "\n",
       "  .colab-df-quickchart {\n",
       "    background-color: var(--bg-color);\n",
       "    border: none;\n",
       "    border-radius: 50%;\n",
       "    cursor: pointer;\n",
       "    display: none;\n",
       "    fill: var(--fill-color);\n",
       "    height: 32px;\n",
       "    padding: 0;\n",
       "    width: 32px;\n",
       "  }\n",
       "\n",
       "  .colab-df-quickchart:hover {\n",
       "    background-color: var(--hover-bg-color);\n",
       "    box-shadow: 0 1px 2px rgba(60, 64, 67, 0.3), 0 1px 3px 1px rgba(60, 64, 67, 0.15);\n",
       "    fill: var(--button-hover-fill-color);\n",
       "  }\n",
       "\n",
       "  .colab-df-quickchart-complete:disabled,\n",
       "  .colab-df-quickchart-complete:disabled:hover {\n",
       "    background-color: var(--disabled-bg-color);\n",
       "    fill: var(--disabled-fill-color);\n",
       "    box-shadow: none;\n",
       "  }\n",
       "\n",
       "  .colab-df-spinner {\n",
       "    border: 2px solid var(--fill-color);\n",
       "    border-color: transparent;\n",
       "    border-bottom-color: var(--fill-color);\n",
       "    animation:\n",
       "      spin 1s steps(1) infinite;\n",
       "  }\n",
       "\n",
       "  @keyframes spin {\n",
       "    0% {\n",
       "      border-color: transparent;\n",
       "      border-bottom-color: var(--fill-color);\n",
       "      border-left-color: var(--fill-color);\n",
       "    }\n",
       "    20% {\n",
       "      border-color: transparent;\n",
       "      border-left-color: var(--fill-color);\n",
       "      border-top-color: var(--fill-color);\n",
       "    }\n",
       "    30% {\n",
       "      border-color: transparent;\n",
       "      border-left-color: var(--fill-color);\n",
       "      border-top-color: var(--fill-color);\n",
       "      border-right-color: var(--fill-color);\n",
       "    }\n",
       "    40% {\n",
       "      border-color: transparent;\n",
       "      border-right-color: var(--fill-color);\n",
       "      border-top-color: var(--fill-color);\n",
       "    }\n",
       "    60% {\n",
       "      border-color: transparent;\n",
       "      border-right-color: var(--fill-color);\n",
       "    }\n",
       "    80% {\n",
       "      border-color: transparent;\n",
       "      border-right-color: var(--fill-color);\n",
       "      border-bottom-color: var(--fill-color);\n",
       "    }\n",
       "    90% {\n",
       "      border-color: transparent;\n",
       "      border-bottom-color: var(--fill-color);\n",
       "    }\n",
       "  }\n",
       "</style>\n",
       "\n",
       "  <script>\n",
       "    async function quickchart(key) {\n",
       "      const quickchartButtonEl =\n",
       "        document.querySelector('#' + key + ' button');\n",
       "      quickchartButtonEl.disabled = true;  // To prevent multiple clicks.\n",
       "      quickchartButtonEl.classList.add('colab-df-spinner');\n",
       "      try {\n",
       "        const charts = await google.colab.kernel.invokeFunction(\n",
       "            'suggestCharts', [key], {});\n",
       "      } catch (error) {\n",
       "        console.error('Error during call to suggestCharts:', error);\n",
       "      }\n",
       "      quickchartButtonEl.classList.remove('colab-df-spinner');\n",
       "      quickchartButtonEl.classList.add('colab-df-quickchart-complete');\n",
       "    }\n",
       "    (() => {\n",
       "      let quickchartButtonEl =\n",
       "        document.querySelector('#df-785fe2c1-9b2f-4628-8e25-4b399e3b9aee button');\n",
       "      quickchartButtonEl.style.display =\n",
       "        google.colab.kernel.accessAllowed ? 'block' : 'none';\n",
       "    })();\n",
       "  </script>\n",
       "</div>\n",
       "\n",
       "    </div>\n",
       "  </div>\n"
      ],
      "application/vnd.google.colaboratory.intrinsic+json": {
       "type": "dataframe",
       "variable_name": "df",
       "summary": "{\n  \"name\": \"df\",\n  \"rows\": 303,\n  \"fields\": [\n    {\n      \"column\": \"age\",\n      \"properties\": {\n        \"dtype\": \"number\",\n        \"std\": 9,\n        \"min\": 29,\n        \"max\": 77,\n        \"num_unique_values\": 41,\n        \"samples\": [\n          61,\n          64,\n          44\n        ],\n        \"semantic_type\": \"\",\n        \"description\": \"\"\n      }\n    },\n    {\n      \"column\": \"sex\",\n      \"properties\": {\n        \"dtype\": \"number\",\n        \"std\": 0,\n        \"min\": 0,\n        \"max\": 1,\n        \"num_unique_values\": 2,\n        \"samples\": [\n          0,\n          1\n        ],\n        \"semantic_type\": \"\",\n        \"description\": \"\"\n      }\n    },\n    {\n      \"column\": \"cp\",\n      \"properties\": {\n        \"dtype\": \"number\",\n        \"std\": 0,\n        \"min\": 1,\n        \"max\": 4,\n        \"num_unique_values\": 4,\n        \"samples\": [\n          4,\n          2\n        ],\n        \"semantic_type\": \"\",\n        \"description\": \"\"\n      }\n    },\n    {\n      \"column\": \"trestbps\",\n      \"properties\": {\n        \"dtype\": \"number\",\n        \"std\": 17,\n        \"min\": 94,\n        \"max\": 200,\n        \"num_unique_values\": 50,\n        \"samples\": [\n          124,\n          192\n        ],\n        \"semantic_type\": \"\",\n        \"description\": \"\"\n      }\n    },\n    {\n      \"column\": \"chol\",\n      \"properties\": {\n        \"dtype\": \"number\",\n        \"std\": 51,\n        \"min\": 126,\n        \"max\": 564,\n        \"num_unique_values\": 152,\n        \"samples\": [\n          321,\n          187\n        ],\n        \"semantic_type\": \"\",\n        \"description\": \"\"\n      }\n    },\n    {\n      \"column\": \"fbs\",\n      \"properties\": {\n        \"dtype\": \"number\",\n        \"std\": 0,\n        \"min\": 0,\n        \"max\": 1,\n        \"num_unique_values\": 2,\n        \"samples\": [\n          0,\n          1\n        ],\n        \"semantic_type\": \"\",\n        \"description\": \"\"\n      }\n    },\n    {\n      \"column\": \"restecg\",\n      \"properties\": {\n        \"dtype\": \"number\",\n        \"std\": 0,\n        \"min\": 0,\n        \"max\": 2,\n        \"num_unique_values\": 3,\n        \"samples\": [\n          2,\n          0\n        ],\n        \"semantic_type\": \"\",\n        \"description\": \"\"\n      }\n    },\n    {\n      \"column\": \"thalach\",\n      \"properties\": {\n        \"dtype\": \"number\",\n        \"std\": 22,\n        \"min\": 71,\n        \"max\": 202,\n        \"num_unique_values\": 91,\n        \"samples\": [\n          170,\n          114\n        ],\n        \"semantic_type\": \"\",\n        \"description\": \"\"\n      }\n    },\n    {\n      \"column\": \"exang\",\n      \"properties\": {\n        \"dtype\": \"number\",\n        \"std\": 0,\n        \"min\": 0,\n        \"max\": 1,\n        \"num_unique_values\": 2,\n        \"samples\": [\n          1,\n          0\n        ],\n        \"semantic_type\": \"\",\n        \"description\": \"\"\n      }\n    },\n    {\n      \"column\": \"oldpeak\",\n      \"properties\": {\n        \"dtype\": \"number\",\n        \"std\": 1.1610750220686348,\n        \"min\": 0.0,\n        \"max\": 6.2,\n        \"num_unique_values\": 40,\n        \"samples\": [\n          2.4,\n          0.2\n        ],\n        \"semantic_type\": \"\",\n        \"description\": \"\"\n      }\n    },\n    {\n      \"column\": \"slope\",\n      \"properties\": {\n        \"dtype\": \"number\",\n        \"std\": 0,\n        \"min\": 1,\n        \"max\": 3,\n        \"num_unique_values\": 3,\n        \"samples\": [\n          3,\n          2\n        ],\n        \"semantic_type\": \"\",\n        \"description\": \"\"\n      }\n    },\n    {\n      \"column\": \"ca\",\n      \"properties\": {\n        \"dtype\": \"number\",\n        \"std\": 0.9374383177242163,\n        \"min\": 0.0,\n        \"max\": 3.0,\n        \"num_unique_values\": 4,\n        \"samples\": [\n          3.0,\n          1.0\n        ],\n        \"semantic_type\": \"\",\n        \"description\": \"\"\n      }\n    },\n    {\n      \"column\": \"thal\",\n      \"properties\": {\n        \"dtype\": \"number\",\n        \"std\": 1.939705769378644,\n        \"min\": 3.0,\n        \"max\": 7.0,\n        \"num_unique_values\": 3,\n        \"samples\": [\n          6.0,\n          3.0\n        ],\n        \"semantic_type\": \"\",\n        \"description\": \"\"\n      }\n    },\n    {\n      \"column\": \"num\",\n      \"properties\": {\n        \"dtype\": \"number\",\n        \"std\": 1,\n        \"min\": 0,\n        \"max\": 4,\n        \"num_unique_values\": 5,\n        \"samples\": [\n          2,\n          4\n        ],\n        \"semantic_type\": \"\",\n        \"description\": \"\"\n      }\n    }\n  ]\n}"
      }
     },
     "metadata": {},
     "execution_count": 144
    }
   ]
  },
  {
   "cell_type": "markdown",
   "source": [
    "Each of the attributes are detailed as follows:\n",
    "\n",
    "1. age: Age in years\n",
    "2. sex: Sex (1 = male; 0 = female)\n",
    "3. cp: Chest pain type (Value 1: typical angina; Value 2: atypical angina; Value 3: non-anginal pain, Value 4: asymptomatic)\n",
    "4. trestbps: Resting blood pressure (in mm Hg on admission to the hospital)\n",
    "5. chol: Serum cholestoral in mg/dl\n",
    "6. fbs: (fasting blood sugar > 120 mg/dl) (1 = true; 0 = false)\n",
    "7. restecg: Resting electrocardiographic results (Value 0: normal; Value 1: having ST-T wave abnormality (T wave inversions and/or ST elevation or depression of > 0.05 mV), Value 2: showing probable or definite left ventricular hypertrophy by Estes' criteria)\n",
    "8. thalach: Maximum heart rate achieved\n",
    "9. exang: Exercise induced angina (1 = yes; 0 = no)\n",
    "10. oldpeak: ST depression induced by exercise relative to rest\n",
    "11. slope: The slope of the peak exercise ST segment (Value 1: upsloping; Value 2: flat; Value 3: downsloping)\n",
    "12. ca: Number of major vessels (0-3) colored by flourosopy\n",
    "13. thal: 3 = normal; 6 = fixed defect; 7 = reversable defect\n",
    "\n",
    "\n",
    "14. num: HeartDisease: Diagnosis of heart disease – angiographic disease status (Value 0: < 50% diameter narrowing; Value 1: > 50% diameter narrowing)—in any major vessel: attributes 59 through 68 are vessels"
   ],
   "metadata": {
    "id": "I03TyoNiNqAJ"
   },
   "id": "I03TyoNiNqAJ"
  },
  {
   "cell_type": "markdown",
   "metadata": {
    "id": "fd6e5585-b44d-4df4-b764-146b3714c08e"
   },
   "source": [
    "# EDA\n",
    "* There are 303 rows and 14 columns\n",
    "* There is no missing data\n",
    "* Columns contain text data: -NA-\n",
    "* Columns contain categoriacal data:\n",
    "* Object data:\n",
    "* The target is: num"
   ],
   "id": "fd6e5585-b44d-4df4-b764-146b3714c08e"
  },
  {
   "cell_type": "code",
   "source": [
    "df.columns"
   ],
   "metadata": {
    "colab": {
     "base_uri": "https://localhost:8080/"
    },
    "id": "7hlj3qvEgTq0",
    "outputId": "f65eab5c-9ac5-45c7-90ad-dbf8bea5f5f8"
   },
   "id": "7hlj3qvEgTq0",
   "execution_count": 145,
   "outputs": [
    {
     "output_type": "execute_result",
     "data": {
      "text/plain": [
       "Index(['age', 'sex', 'cp', 'trestbps', 'chol', 'fbs', 'restecg', 'thalach',\n",
       "       'exang', 'oldpeak', 'slope', 'ca', 'thal', 'num'],\n",
       "      dtype='object')"
      ]
     },
     "metadata": {},
     "execution_count": 145
    }
   ]
  },
  {
   "cell_type": "code",
   "metadata": {
    "id": "5363c4f1-de6e-49c0-933b-19b4b5898c85",
    "colab": {
     "base_uri": "https://localhost:8080/"
    },
    "outputId": "307812c4-039c-4c9d-82a5-766fee9ac34c"
   },
   "source": [
    "df.info()"
   ],
   "id": "5363c4f1-de6e-49c0-933b-19b4b5898c85",
   "execution_count": 146,
   "outputs": [
    {
     "output_type": "stream",
     "name": "stdout",
     "text": [
      "<class 'pandas.core.frame.DataFrame'>\n",
      "RangeIndex: 303 entries, 0 to 302\n",
      "Data columns (total 14 columns):\n",
      " #   Column    Non-Null Count  Dtype  \n",
      "---  ------    --------------  -----  \n",
      " 0   age       303 non-null    int64  \n",
      " 1   sex       303 non-null    int64  \n",
      " 2   cp        303 non-null    int64  \n",
      " 3   trestbps  303 non-null    int64  \n",
      " 4   chol      303 non-null    int64  \n",
      " 5   fbs       303 non-null    int64  \n",
      " 6   restecg   303 non-null    int64  \n",
      " 7   thalach   303 non-null    int64  \n",
      " 8   exang     303 non-null    int64  \n",
      " 9   oldpeak   303 non-null    float64\n",
      " 10  slope     303 non-null    int64  \n",
      " 11  ca        299 non-null    float64\n",
      " 12  thal      301 non-null    float64\n",
      " 13  num       303 non-null    int64  \n",
      "dtypes: float64(3), int64(11)\n",
      "memory usage: 33.3 KB\n"
     ]
    }
   ]
  },
  {
   "cell_type": "markdown",
   "source": [
    "**Conclusion:**\n",
    "\n",
    "1. Total number of rows are 303\n",
    "2. Columns: `oldpeak`, `ca` and `thal` are dtype - `float64`\n",
    "3. `ca` and `thal` contains the NAN values."
   ],
   "metadata": {
    "id": "O0u0l3kjzrmV"
   },
   "id": "O0u0l3kjzrmV"
  },
  {
   "cell_type": "markdown",
   "metadata": {
    "id": "b577a225-f110-496e-9f37-3f6d675eb45e"
   },
   "source": [
    "## Explore on the data Columns\n",
    "* There are 5 unique nums\n"
   ],
   "id": "b577a225-f110-496e-9f37-3f6d675eb45e"
  },
  {
   "cell_type": "markdown",
   "source": [
    "### Explore Target/Label Parameter"
   ],
   "metadata": {
    "id": "XEwBrGiqG-7e"
   },
   "id": "XEwBrGiqG-7e"
  },
  {
   "cell_type": "code",
   "metadata": {
    "id": "69747e75-f903-44b1-8ceb-9c145b06a800",
    "colab": {
     "base_uri": "https://localhost:8080/"
    },
    "outputId": "e7dbfdda-925b-4ad0-a21d-9fd5fbce614d"
   },
   "source": [
    "df.num.nunique() # df.column.nunique(), number of unique values in a column"
   ],
   "id": "69747e75-f903-44b1-8ceb-9c145b06a800",
   "execution_count": 147,
   "outputs": [
    {
     "output_type": "execute_result",
     "data": {
      "text/plain": [
       "5"
      ]
     },
     "metadata": {},
     "execution_count": 147
    }
   ]
  },
  {
   "cell_type": "code",
   "source": [
    "# 'target=num' is the column containing the labels (0 or 1 or 2 )\n",
    "class_counts = df.groupby('num').size()\n",
    "\n",
    "# Alternatively, you can also use value_counts for a simpler approach:\n",
    "class_counts = df['num'].value_counts()\n",
    "\n",
    "# Display the counts for each class\n",
    "print(class_counts)"
   ],
   "metadata": {
    "colab": {
     "base_uri": "https://localhost:8080/"
    },
    "id": "d1WxdRvmGbaH",
    "outputId": "5dc5d888-08d4-4e08-f697-e9dbdf9c1065"
   },
   "id": "d1WxdRvmGbaH",
   "execution_count": 148,
   "outputs": [
    {
     "output_type": "stream",
     "name": "stdout",
     "text": [
      "num\n",
      "0    164\n",
      "1     55\n",
      "2     36\n",
      "3     35\n",
      "4     13\n",
      "Name: count, dtype: int64\n"
     ]
    }
   ]
  },
  {
   "cell_type": "markdown",
   "source": [
    "#### Result : Since the num column has 5 labels (ranging from 0 to 4, which typically indicate different levels of heart disease severity), this is a **multi-class classification** problem, not a **binary classification problem**."
   ],
   "metadata": {
    "id": "kqlOdIQiG48e"
   },
   "id": "kqlOdIQiG48e"
  },
  {
   "cell_type": "markdown",
   "source": [
    "### Explore Features"
   ],
   "metadata": {
    "id": "pbX1Eu1AtOfo"
   },
   "id": "pbX1Eu1AtOfo"
  },
  {
   "cell_type": "code",
   "source": [
    "categorical_columns = ['cp','slope','thal']\n",
    "numerical_col = ['age','thalach','oldpeak']"
   ],
   "metadata": {
    "id": "Fx-ryQnttTLA"
   },
   "id": "Fx-ryQnttTLA",
   "execution_count": 149,
   "outputs": []
  },
  {
   "cell_type": "code",
   "source": [
    "# ChestPain Type\n",
    "cp_dict = {1: 'typical_angina', 2: 'atypical_angina', 3: 'non-anginal_pain', 4: 'asymptomatic'}\n",
    "\n",
    "cp_count = df.cp.nunique()\n",
    "print(cp_count)\n",
    "\n",
    "df.groupby('cp').size() # group by chest_pain - cp"
   ],
   "metadata": {
    "colab": {
     "base_uri": "https://localhost:8080/",
     "height": 0
    },
    "id": "W5bBneNJuI88",
    "outputId": "26e9a5de-8ecf-4249-b5b6-a490971681b5"
   },
   "id": "W5bBneNJuI88",
   "execution_count": 150,
   "outputs": [
    {
     "output_type": "stream",
     "name": "stdout",
     "text": [
      "4\n"
     ]
    },
    {
     "output_type": "execute_result",
     "data": {
      "text/plain": [
       "cp\n",
       "1     23\n",
       "2     50\n",
       "3     86\n",
       "4    144\n",
       "dtype: int64"
      ],
      "text/html": [
       "<div>\n",
       "<style scoped>\n",
       "    .dataframe tbody tr th:only-of-type {\n",
       "        vertical-align: middle;\n",
       "    }\n",
       "\n",
       "    .dataframe tbody tr th {\n",
       "        vertical-align: top;\n",
       "    }\n",
       "\n",
       "    .dataframe thead th {\n",
       "        text-align: right;\n",
       "    }\n",
       "</style>\n",
       "<table border=\"1\" class=\"dataframe\">\n",
       "  <thead>\n",
       "    <tr style=\"text-align: right;\">\n",
       "      <th></th>\n",
       "      <th>0</th>\n",
       "    </tr>\n",
       "    <tr>\n",
       "      <th>cp</th>\n",
       "      <th></th>\n",
       "    </tr>\n",
       "  </thead>\n",
       "  <tbody>\n",
       "    <tr>\n",
       "      <th>1</th>\n",
       "      <td>23</td>\n",
       "    </tr>\n",
       "    <tr>\n",
       "      <th>2</th>\n",
       "      <td>50</td>\n",
       "    </tr>\n",
       "    <tr>\n",
       "      <th>3</th>\n",
       "      <td>86</td>\n",
       "    </tr>\n",
       "    <tr>\n",
       "      <th>4</th>\n",
       "      <td>144</td>\n",
       "    </tr>\n",
       "  </tbody>\n",
       "</table>\n",
       "</div><br><label><b>dtype:</b> int64</label>"
      ]
     },
     "metadata": {},
     "execution_count": 150
    }
   ]
  },
  {
   "cell_type": "code",
   "source": [
    "for key in cp_dict.keys():\n",
    "  print(key)"
   ],
   "metadata": {
    "colab": {
     "base_uri": "https://localhost:8080/"
    },
    "id": "dpu_SW-RvJAp",
    "outputId": "c7e47850-14ac-4c51-8338-adc44a0e89c8"
   },
   "id": "dpu_SW-RvJAp",
   "execution_count": 151,
   "outputs": [
    {
     "output_type": "stream",
     "name": "stdout",
     "text": [
      "1\n",
      "2\n",
      "3\n",
      "4\n"
     ]
    }
   ]
  },
  {
   "cell_type": "markdown",
   "metadata": {
    "id": "6f6de916-616d-4dce-916d-3ab9d3bf1084"
   },
   "source": [
    "## Descriptive statistics\n",
    "* The min finishedsqft is 1, which suggests there will be outliers in the data\n",
    "* The min lastsoldprice is 535, which suggests there will be outliers in the data\n"
   ],
   "id": "6f6de916-616d-4dce-916d-3ab9d3bf1084"
  },
  {
   "cell_type": "code",
   "metadata": {
    "id": "8d721164-4ea6-4904-a463-103bda30878c",
    "colab": {
     "base_uri": "https://localhost:8080/",
     "height": 0
    },
    "outputId": "175c5937-5059-4a29-af3b-2397c5162ac8"
   },
   "source": [
    "df.describe()"
   ],
   "id": "8d721164-4ea6-4904-a463-103bda30878c",
   "execution_count": 152,
   "outputs": [
    {
     "output_type": "execute_result",
     "data": {
      "text/plain": [
       "              age         sex          cp    trestbps        chol         fbs  \\\n",
       "count  303.000000  303.000000  303.000000  303.000000  303.000000  303.000000   \n",
       "mean    54.438944    0.679868    3.158416  131.689769  246.693069    0.148515   \n",
       "std      9.038662    0.467299    0.960126   17.599748   51.776918    0.356198   \n",
       "min     29.000000    0.000000    1.000000   94.000000  126.000000    0.000000   \n",
       "25%     48.000000    0.000000    3.000000  120.000000  211.000000    0.000000   \n",
       "50%     56.000000    1.000000    3.000000  130.000000  241.000000    0.000000   \n",
       "75%     61.000000    1.000000    4.000000  140.000000  275.000000    0.000000   \n",
       "max     77.000000    1.000000    4.000000  200.000000  564.000000    1.000000   \n",
       "\n",
       "          restecg     thalach       exang     oldpeak       slope          ca  \\\n",
       "count  303.000000  303.000000  303.000000  303.000000  303.000000  299.000000   \n",
       "mean     0.990099  149.607261    0.326733    1.039604    1.600660    0.672241   \n",
       "std      0.994971   22.875003    0.469794    1.161075    0.616226    0.937438   \n",
       "min      0.000000   71.000000    0.000000    0.000000    1.000000    0.000000   \n",
       "25%      0.000000  133.500000    0.000000    0.000000    1.000000    0.000000   \n",
       "50%      1.000000  153.000000    0.000000    0.800000    2.000000    0.000000   \n",
       "75%      2.000000  166.000000    1.000000    1.600000    2.000000    1.000000   \n",
       "max      2.000000  202.000000    1.000000    6.200000    3.000000    3.000000   \n",
       "\n",
       "             thal         num  \n",
       "count  301.000000  303.000000  \n",
       "mean     4.734219    0.937294  \n",
       "std      1.939706    1.228536  \n",
       "min      3.000000    0.000000  \n",
       "25%      3.000000    0.000000  \n",
       "50%      3.000000    0.000000  \n",
       "75%      7.000000    2.000000  \n",
       "max      7.000000    4.000000  "
      ],
      "text/html": [
       "\n",
       "  <div id=\"df-a30dfb9c-53ae-4b1e-b786-f696220a81a4\" class=\"colab-df-container\">\n",
       "    <div>\n",
       "<style scoped>\n",
       "    .dataframe tbody tr th:only-of-type {\n",
       "        vertical-align: middle;\n",
       "    }\n",
       "\n",
       "    .dataframe tbody tr th {\n",
       "        vertical-align: top;\n",
       "    }\n",
       "\n",
       "    .dataframe thead th {\n",
       "        text-align: right;\n",
       "    }\n",
       "</style>\n",
       "<table border=\"1\" class=\"dataframe\">\n",
       "  <thead>\n",
       "    <tr style=\"text-align: right;\">\n",
       "      <th></th>\n",
       "      <th>age</th>\n",
       "      <th>sex</th>\n",
       "      <th>cp</th>\n",
       "      <th>trestbps</th>\n",
       "      <th>chol</th>\n",
       "      <th>fbs</th>\n",
       "      <th>restecg</th>\n",
       "      <th>thalach</th>\n",
       "      <th>exang</th>\n",
       "      <th>oldpeak</th>\n",
       "      <th>slope</th>\n",
       "      <th>ca</th>\n",
       "      <th>thal</th>\n",
       "      <th>num</th>\n",
       "    </tr>\n",
       "  </thead>\n",
       "  <tbody>\n",
       "    <tr>\n",
       "      <th>count</th>\n",
       "      <td>303.000000</td>\n",
       "      <td>303.000000</td>\n",
       "      <td>303.000000</td>\n",
       "      <td>303.000000</td>\n",
       "      <td>303.000000</td>\n",
       "      <td>303.000000</td>\n",
       "      <td>303.000000</td>\n",
       "      <td>303.000000</td>\n",
       "      <td>303.000000</td>\n",
       "      <td>303.000000</td>\n",
       "      <td>303.000000</td>\n",
       "      <td>299.000000</td>\n",
       "      <td>301.000000</td>\n",
       "      <td>303.000000</td>\n",
       "    </tr>\n",
       "    <tr>\n",
       "      <th>mean</th>\n",
       "      <td>54.438944</td>\n",
       "      <td>0.679868</td>\n",
       "      <td>3.158416</td>\n",
       "      <td>131.689769</td>\n",
       "      <td>246.693069</td>\n",
       "      <td>0.148515</td>\n",
       "      <td>0.990099</td>\n",
       "      <td>149.607261</td>\n",
       "      <td>0.326733</td>\n",
       "      <td>1.039604</td>\n",
       "      <td>1.600660</td>\n",
       "      <td>0.672241</td>\n",
       "      <td>4.734219</td>\n",
       "      <td>0.937294</td>\n",
       "    </tr>\n",
       "    <tr>\n",
       "      <th>std</th>\n",
       "      <td>9.038662</td>\n",
       "      <td>0.467299</td>\n",
       "      <td>0.960126</td>\n",
       "      <td>17.599748</td>\n",
       "      <td>51.776918</td>\n",
       "      <td>0.356198</td>\n",
       "      <td>0.994971</td>\n",
       "      <td>22.875003</td>\n",
       "      <td>0.469794</td>\n",
       "      <td>1.161075</td>\n",
       "      <td>0.616226</td>\n",
       "      <td>0.937438</td>\n",
       "      <td>1.939706</td>\n",
       "      <td>1.228536</td>\n",
       "    </tr>\n",
       "    <tr>\n",
       "      <th>min</th>\n",
       "      <td>29.000000</td>\n",
       "      <td>0.000000</td>\n",
       "      <td>1.000000</td>\n",
       "      <td>94.000000</td>\n",
       "      <td>126.000000</td>\n",
       "      <td>0.000000</td>\n",
       "      <td>0.000000</td>\n",
       "      <td>71.000000</td>\n",
       "      <td>0.000000</td>\n",
       "      <td>0.000000</td>\n",
       "      <td>1.000000</td>\n",
       "      <td>0.000000</td>\n",
       "      <td>3.000000</td>\n",
       "      <td>0.000000</td>\n",
       "    </tr>\n",
       "    <tr>\n",
       "      <th>25%</th>\n",
       "      <td>48.000000</td>\n",
       "      <td>0.000000</td>\n",
       "      <td>3.000000</td>\n",
       "      <td>120.000000</td>\n",
       "      <td>211.000000</td>\n",
       "      <td>0.000000</td>\n",
       "      <td>0.000000</td>\n",
       "      <td>133.500000</td>\n",
       "      <td>0.000000</td>\n",
       "      <td>0.000000</td>\n",
       "      <td>1.000000</td>\n",
       "      <td>0.000000</td>\n",
       "      <td>3.000000</td>\n",
       "      <td>0.000000</td>\n",
       "    </tr>\n",
       "    <tr>\n",
       "      <th>50%</th>\n",
       "      <td>56.000000</td>\n",
       "      <td>1.000000</td>\n",
       "      <td>3.000000</td>\n",
       "      <td>130.000000</td>\n",
       "      <td>241.000000</td>\n",
       "      <td>0.000000</td>\n",
       "      <td>1.000000</td>\n",
       "      <td>153.000000</td>\n",
       "      <td>0.000000</td>\n",
       "      <td>0.800000</td>\n",
       "      <td>2.000000</td>\n",
       "      <td>0.000000</td>\n",
       "      <td>3.000000</td>\n",
       "      <td>0.000000</td>\n",
       "    </tr>\n",
       "    <tr>\n",
       "      <th>75%</th>\n",
       "      <td>61.000000</td>\n",
       "      <td>1.000000</td>\n",
       "      <td>4.000000</td>\n",
       "      <td>140.000000</td>\n",
       "      <td>275.000000</td>\n",
       "      <td>0.000000</td>\n",
       "      <td>2.000000</td>\n",
       "      <td>166.000000</td>\n",
       "      <td>1.000000</td>\n",
       "      <td>1.600000</td>\n",
       "      <td>2.000000</td>\n",
       "      <td>1.000000</td>\n",
       "      <td>7.000000</td>\n",
       "      <td>2.000000</td>\n",
       "    </tr>\n",
       "    <tr>\n",
       "      <th>max</th>\n",
       "      <td>77.000000</td>\n",
       "      <td>1.000000</td>\n",
       "      <td>4.000000</td>\n",
       "      <td>200.000000</td>\n",
       "      <td>564.000000</td>\n",
       "      <td>1.000000</td>\n",
       "      <td>2.000000</td>\n",
       "      <td>202.000000</td>\n",
       "      <td>1.000000</td>\n",
       "      <td>6.200000</td>\n",
       "      <td>3.000000</td>\n",
       "      <td>3.000000</td>\n",
       "      <td>7.000000</td>\n",
       "      <td>4.000000</td>\n",
       "    </tr>\n",
       "  </tbody>\n",
       "</table>\n",
       "</div>\n",
       "    <div class=\"colab-df-buttons\">\n",
       "\n",
       "  <div class=\"colab-df-container\">\n",
       "    <button class=\"colab-df-convert\" onclick=\"convertToInteractive('df-a30dfb9c-53ae-4b1e-b786-f696220a81a4')\"\n",
       "            title=\"Convert this dataframe to an interactive table.\"\n",
       "            style=\"display:none;\">\n",
       "\n",
       "  <svg xmlns=\"http://www.w3.org/2000/svg\" height=\"24px\" viewBox=\"0 -960 960 960\">\n",
       "    <path d=\"M120-120v-720h720v720H120Zm60-500h600v-160H180v160Zm220 220h160v-160H400v160Zm0 220h160v-160H400v160ZM180-400h160v-160H180v160Zm440 0h160v-160H620v160ZM180-180h160v-160H180v160Zm440 0h160v-160H620v160Z\"/>\n",
       "  </svg>\n",
       "    </button>\n",
       "\n",
       "  <style>\n",
       "    .colab-df-container {\n",
       "      display:flex;\n",
       "      gap: 12px;\n",
       "    }\n",
       "\n",
       "    .colab-df-convert {\n",
       "      background-color: #E8F0FE;\n",
       "      border: none;\n",
       "      border-radius: 50%;\n",
       "      cursor: pointer;\n",
       "      display: none;\n",
       "      fill: #1967D2;\n",
       "      height: 32px;\n",
       "      padding: 0 0 0 0;\n",
       "      width: 32px;\n",
       "    }\n",
       "\n",
       "    .colab-df-convert:hover {\n",
       "      background-color: #E2EBFA;\n",
       "      box-shadow: 0px 1px 2px rgba(60, 64, 67, 0.3), 0px 1px 3px 1px rgba(60, 64, 67, 0.15);\n",
       "      fill: #174EA6;\n",
       "    }\n",
       "\n",
       "    .colab-df-buttons div {\n",
       "      margin-bottom: 4px;\n",
       "    }\n",
       "\n",
       "    [theme=dark] .colab-df-convert {\n",
       "      background-color: #3B4455;\n",
       "      fill: #D2E3FC;\n",
       "    }\n",
       "\n",
       "    [theme=dark] .colab-df-convert:hover {\n",
       "      background-color: #434B5C;\n",
       "      box-shadow: 0px 1px 3px 1px rgba(0, 0, 0, 0.15);\n",
       "      filter: drop-shadow(0px 1px 2px rgba(0, 0, 0, 0.3));\n",
       "      fill: #FFFFFF;\n",
       "    }\n",
       "  </style>\n",
       "\n",
       "    <script>\n",
       "      const buttonEl =\n",
       "        document.querySelector('#df-a30dfb9c-53ae-4b1e-b786-f696220a81a4 button.colab-df-convert');\n",
       "      buttonEl.style.display =\n",
       "        google.colab.kernel.accessAllowed ? 'block' : 'none';\n",
       "\n",
       "      async function convertToInteractive(key) {\n",
       "        const element = document.querySelector('#df-a30dfb9c-53ae-4b1e-b786-f696220a81a4');\n",
       "        const dataTable =\n",
       "          await google.colab.kernel.invokeFunction('convertToInteractive',\n",
       "                                                    [key], {});\n",
       "        if (!dataTable) return;\n",
       "\n",
       "        const docLinkHtml = 'Like what you see? Visit the ' +\n",
       "          '<a target=\"_blank\" href=https://colab.research.google.com/notebooks/data_table.ipynb>data table notebook</a>'\n",
       "          + ' to learn more about interactive tables.';\n",
       "        element.innerHTML = '';\n",
       "        dataTable['output_type'] = 'display_data';\n",
       "        await google.colab.output.renderOutput(dataTable, element);\n",
       "        const docLink = document.createElement('div');\n",
       "        docLink.innerHTML = docLinkHtml;\n",
       "        element.appendChild(docLink);\n",
       "      }\n",
       "    </script>\n",
       "  </div>\n",
       "\n",
       "\n",
       "<div id=\"df-526926b5-1870-41d8-bbd0-239f9bf12bfb\">\n",
       "  <button class=\"colab-df-quickchart\" onclick=\"quickchart('df-526926b5-1870-41d8-bbd0-239f9bf12bfb')\"\n",
       "            title=\"Suggest charts\"\n",
       "            style=\"display:none;\">\n",
       "\n",
       "<svg xmlns=\"http://www.w3.org/2000/svg\" height=\"24px\"viewBox=\"0 0 24 24\"\n",
       "     width=\"24px\">\n",
       "    <g>\n",
       "        <path d=\"M19 3H5c-1.1 0-2 .9-2 2v14c0 1.1.9 2 2 2h14c1.1 0 2-.9 2-2V5c0-1.1-.9-2-2-2zM9 17H7v-7h2v7zm4 0h-2V7h2v10zm4 0h-2v-4h2v4z\"/>\n",
       "    </g>\n",
       "</svg>\n",
       "  </button>\n",
       "\n",
       "<style>\n",
       "  .colab-df-quickchart {\n",
       "      --bg-color: #E8F0FE;\n",
       "      --fill-color: #1967D2;\n",
       "      --hover-bg-color: #E2EBFA;\n",
       "      --hover-fill-color: #174EA6;\n",
       "      --disabled-fill-color: #AAA;\n",
       "      --disabled-bg-color: #DDD;\n",
       "  }\n",
       "\n",
       "  [theme=dark] .colab-df-quickchart {\n",
       "      --bg-color: #3B4455;\n",
       "      --fill-color: #D2E3FC;\n",
       "      --hover-bg-color: #434B5C;\n",
       "      --hover-fill-color: #FFFFFF;\n",
       "      --disabled-bg-color: #3B4455;\n",
       "      --disabled-fill-color: #666;\n",
       "  }\n",
       "\n",
       "  .colab-df-quickchart {\n",
       "    background-color: var(--bg-color);\n",
       "    border: none;\n",
       "    border-radius: 50%;\n",
       "    cursor: pointer;\n",
       "    display: none;\n",
       "    fill: var(--fill-color);\n",
       "    height: 32px;\n",
       "    padding: 0;\n",
       "    width: 32px;\n",
       "  }\n",
       "\n",
       "  .colab-df-quickchart:hover {\n",
       "    background-color: var(--hover-bg-color);\n",
       "    box-shadow: 0 1px 2px rgba(60, 64, 67, 0.3), 0 1px 3px 1px rgba(60, 64, 67, 0.15);\n",
       "    fill: var(--button-hover-fill-color);\n",
       "  }\n",
       "\n",
       "  .colab-df-quickchart-complete:disabled,\n",
       "  .colab-df-quickchart-complete:disabled:hover {\n",
       "    background-color: var(--disabled-bg-color);\n",
       "    fill: var(--disabled-fill-color);\n",
       "    box-shadow: none;\n",
       "  }\n",
       "\n",
       "  .colab-df-spinner {\n",
       "    border: 2px solid var(--fill-color);\n",
       "    border-color: transparent;\n",
       "    border-bottom-color: var(--fill-color);\n",
       "    animation:\n",
       "      spin 1s steps(1) infinite;\n",
       "  }\n",
       "\n",
       "  @keyframes spin {\n",
       "    0% {\n",
       "      border-color: transparent;\n",
       "      border-bottom-color: var(--fill-color);\n",
       "      border-left-color: var(--fill-color);\n",
       "    }\n",
       "    20% {\n",
       "      border-color: transparent;\n",
       "      border-left-color: var(--fill-color);\n",
       "      border-top-color: var(--fill-color);\n",
       "    }\n",
       "    30% {\n",
       "      border-color: transparent;\n",
       "      border-left-color: var(--fill-color);\n",
       "      border-top-color: var(--fill-color);\n",
       "      border-right-color: var(--fill-color);\n",
       "    }\n",
       "    40% {\n",
       "      border-color: transparent;\n",
       "      border-right-color: var(--fill-color);\n",
       "      border-top-color: var(--fill-color);\n",
       "    }\n",
       "    60% {\n",
       "      border-color: transparent;\n",
       "      border-right-color: var(--fill-color);\n",
       "    }\n",
       "    80% {\n",
       "      border-color: transparent;\n",
       "      border-right-color: var(--fill-color);\n",
       "      border-bottom-color: var(--fill-color);\n",
       "    }\n",
       "    90% {\n",
       "      border-color: transparent;\n",
       "      border-bottom-color: var(--fill-color);\n",
       "    }\n",
       "  }\n",
       "</style>\n",
       "\n",
       "  <script>\n",
       "    async function quickchart(key) {\n",
       "      const quickchartButtonEl =\n",
       "        document.querySelector('#' + key + ' button');\n",
       "      quickchartButtonEl.disabled = true;  // To prevent multiple clicks.\n",
       "      quickchartButtonEl.classList.add('colab-df-spinner');\n",
       "      try {\n",
       "        const charts = await google.colab.kernel.invokeFunction(\n",
       "            'suggestCharts', [key], {});\n",
       "      } catch (error) {\n",
       "        console.error('Error during call to suggestCharts:', error);\n",
       "      }\n",
       "      quickchartButtonEl.classList.remove('colab-df-spinner');\n",
       "      quickchartButtonEl.classList.add('colab-df-quickchart-complete');\n",
       "    }\n",
       "    (() => {\n",
       "      let quickchartButtonEl =\n",
       "        document.querySelector('#df-526926b5-1870-41d8-bbd0-239f9bf12bfb button');\n",
       "      quickchartButtonEl.style.display =\n",
       "        google.colab.kernel.accessAllowed ? 'block' : 'none';\n",
       "    })();\n",
       "  </script>\n",
       "</div>\n",
       "\n",
       "    </div>\n",
       "  </div>\n"
      ],
      "application/vnd.google.colaboratory.intrinsic+json": {
       "type": "dataframe",
       "summary": "{\n  \"name\": \"df\",\n  \"rows\": 8,\n  \"fields\": [\n    {\n      \"column\": \"age\",\n      \"properties\": {\n        \"dtype\": \"number\",\n        \"std\": 92.5728159022223,\n        \"min\": 9.038662442446746,\n        \"max\": 303.0,\n        \"num_unique_values\": 8,\n        \"samples\": [\n          54.43894389438944,\n          56.0,\n          303.0\n        ],\n        \"semantic_type\": \"\",\n        \"description\": \"\"\n      }\n    },\n    {\n      \"column\": \"sex\",\n      \"properties\": {\n        \"dtype\": \"number\",\n        \"std\": 106.91803123915392,\n        \"min\": 0.0,\n        \"max\": 303.0,\n        \"num_unique_values\": 5,\n        \"samples\": [\n          0.6798679867986799,\n          1.0,\n          0.46729882777012993\n        ],\n        \"semantic_type\": \"\",\n        \"description\": \"\"\n      }\n    },\n    {\n      \"column\": \"cp\",\n      \"properties\": {\n        \"dtype\": \"number\",\n        \"std\": 106.16755832732339,\n        \"min\": 0.9601256119600138,\n        \"max\": 303.0,\n        \"num_unique_values\": 6,\n        \"samples\": [\n          303.0,\n          3.1584158415841586,\n          4.0\n        ],\n        \"semantic_type\": \"\",\n        \"description\": \"\"\n      }\n    },\n    {\n      \"column\": \"trestbps\",\n      \"properties\": {\n        \"dtype\": \"number\",\n        \"std\": 82.63751582423215,\n        \"min\": 17.59974772958769,\n        \"max\": 303.0,\n        \"num_unique_values\": 8,\n        \"samples\": [\n          131.68976897689768,\n          130.0,\n          303.0\n        ],\n        \"semantic_type\": \"\",\n        \"description\": \"\"\n      }\n    },\n    {\n      \"column\": \"chol\",\n      \"properties\": {\n        \"dtype\": \"number\",\n        \"std\": 150.36559430635785,\n        \"min\": 51.77691754263704,\n        \"max\": 564.0,\n        \"num_unique_values\": 8,\n        \"samples\": [\n          246.69306930693068,\n          241.0,\n          303.0\n        ],\n        \"semantic_type\": \"\",\n        \"description\": \"\"\n      }\n    },\n    {\n      \"column\": \"fbs\",\n      \"properties\": {\n        \"dtype\": \"number\",\n        \"std\": 107.0512286741478,\n        \"min\": 0.0,\n        \"max\": 303.0,\n        \"num_unique_values\": 5,\n        \"samples\": [\n          0.1485148514851485,\n          1.0,\n          0.35619787492797644\n        ],\n        \"semantic_type\": \"\",\n        \"description\": \"\"\n      }\n    },\n    {\n      \"column\": \"restecg\",\n      \"properties\": {\n        \"dtype\": \"number\",\n        \"std\": 106.77655393236438,\n        \"min\": 0.0,\n        \"max\": 303.0,\n        \"num_unique_values\": 6,\n        \"samples\": [\n          303.0,\n          0.9900990099009901,\n          2.0\n        ],\n        \"semantic_type\": \"\",\n        \"description\": \"\"\n      }\n    },\n    {\n      \"column\": \"thalach\",\n      \"properties\": {\n        \"dtype\": \"number\",\n        \"std\": 83.71042641207808,\n        \"min\": 22.875003276980376,\n        \"max\": 303.0,\n        \"num_unique_values\": 8,\n        \"samples\": [\n          149.6072607260726,\n          153.0,\n          303.0\n        ],\n        \"semantic_type\": \"\",\n        \"description\": \"\"\n      }\n    },\n    {\n      \"column\": \"exang\",\n      \"properties\": {\n        \"dtype\": \"number\",\n        \"std\": 106.9862394088184,\n        \"min\": 0.0,\n        \"max\": 303.0,\n        \"num_unique_values\": 5,\n        \"samples\": [\n          0.32673267326732675,\n          1.0,\n          0.46979446452231655\n        ],\n        \"semantic_type\": \"\",\n        \"description\": \"\"\n      }\n    },\n    {\n      \"column\": \"oldpeak\",\n      \"properties\": {\n        \"dtype\": \"number\",\n        \"std\": 106.59952466080658,\n        \"min\": 0.0,\n        \"max\": 303.0,\n        \"num_unique_values\": 7,\n        \"samples\": [\n          303.0,\n          1.0396039603960396,\n          1.6\n        ],\n        \"semantic_type\": \"\",\n        \"description\": \"\"\n      }\n    },\n    {\n      \"column\": \"slope\",\n      \"properties\": {\n        \"dtype\": \"number\",\n        \"std\": 106.5627986546393,\n        \"min\": 0.6162261453459619,\n        \"max\": 303.0,\n        \"num_unique_values\": 6,\n        \"samples\": [\n          303.0,\n          1.6006600660066006,\n          3.0\n        ],\n        \"semantic_type\": \"\",\n        \"description\": \"\"\n      }\n    },\n    {\n      \"column\": \"ca\",\n      \"properties\": {\n        \"dtype\": \"number\",\n        \"std\": 105.4337629723496,\n        \"min\": 0.0,\n        \"max\": 299.0,\n        \"num_unique_values\": 6,\n        \"samples\": [\n          299.0,\n          0.6722408026755853,\n          3.0\n        ],\n        \"semantic_type\": \"\",\n        \"description\": \"\"\n      }\n    },\n    {\n      \"column\": \"thal\",\n      \"properties\": {\n        \"dtype\": \"number\",\n        \"std\": 104.93809039007937,\n        \"min\": 1.939705769378644,\n        \"max\": 301.0,\n        \"num_unique_values\": 5,\n        \"samples\": [\n          4.73421926910299,\n          7.0,\n          1.939705769378644\n        ],\n        \"semantic_type\": \"\",\n        \"description\": \"\"\n      }\n    },\n    {\n      \"column\": \"num\",\n      \"properties\": {\n        \"dtype\": \"number\",\n        \"std\": 106.72284943779034,\n        \"min\": 0.0,\n        \"max\": 303.0,\n        \"num_unique_values\": 6,\n        \"samples\": [\n          303.0,\n          0.9372937293729373,\n          4.0\n        ],\n        \"semantic_type\": \"\",\n        \"description\": \"\"\n      }\n    }\n  ]\n}"
      }
     },
     "metadata": {},
     "execution_count": 152
    }
   ]
  },
  {
   "cell_type": "markdown",
   "source": [
    "# Data Cleaning"
   ],
   "metadata": {
    "id": "JC9VBEoUqOyc"
   },
   "id": "JC9VBEoUqOyc"
  },
  {
   "cell_type": "markdown",
   "source": [
    "## Drop Duplicates rows\n",
    "* Return DataFrame with duplicate rows removed\n",
    "* It turns out in this case there is no dupliates rows\n"
   ],
   "metadata": {
    "id": "mXUAJTYrqVP-"
   },
   "id": "mXUAJTYrqVP-"
  },
  {
   "cell_type": "code",
   "source": [
    "df.drop_duplicates(inplace=True)"
   ],
   "metadata": {
    "id": "ukk0M1lZqXFW"
   },
   "id": "ukk0M1lZqXFW",
   "execution_count": 153,
   "outputs": []
  },
  {
   "cell_type": "markdown",
   "source": [
    "## Missing Values\n",
    "\n",
    "You can check for missing values (NaNs) in your dataset using the following methods in pandas:\n"
   ],
   "metadata": {
    "id": "1TdeSO44NL7D"
   },
   "id": "1TdeSO44NL7D"
  },
  {
   "cell_type": "markdown",
   "source": [
    "### 1. Check if Any NaNs Exist in the Dataset**"
   ],
   "metadata": {
    "id": "Gi7xKKtEq4dj"
   },
   "id": "Gi7xKKtEq4dj"
  },
  {
   "cell_type": "code",
   "source": [
    "df.isna().any().any()"
   ],
   "metadata": {
    "colab": {
     "base_uri": "https://localhost:8080/"
    },
    "id": "DI3LSnJyNswa",
    "outputId": "3a2cac8f-6517-4fce-9a5b-ca8bc24522aa"
   },
   "id": "DI3LSnJyNswa",
   "execution_count": 154,
   "outputs": [
    {
     "output_type": "execute_result",
     "data": {
      "text/plain": [
       "True"
      ]
     },
     "metadata": {},
     "execution_count": 154
    }
   ]
  },
  {
   "cell_type": "markdown",
   "source": [
    "### 2.Check for NaNs in Each Column"
   ],
   "metadata": {
    "id": "N7k71rNXOVP3"
   },
   "id": "N7k71rNXOVP3"
  },
  {
   "cell_type": "code",
   "source": [
    "# Check for NaN values in each column\n",
    "print(df.isna().sum())  # Shows the count of NaNs per column"
   ],
   "metadata": {
    "colab": {
     "base_uri": "https://localhost:8080/"
    },
    "id": "1NYUu__hOUqP",
    "outputId": "7f206c77-bb98-48a7-fa58-462f5080098b"
   },
   "id": "1NYUu__hOUqP",
   "execution_count": 155,
   "outputs": [
    {
     "output_type": "stream",
     "name": "stdout",
     "text": [
      "age         0\n",
      "sex         0\n",
      "cp          0\n",
      "trestbps    0\n",
      "chol        0\n",
      "fbs         0\n",
      "restecg     0\n",
      "thalach     0\n",
      "exang       0\n",
      "oldpeak     0\n",
      "slope       0\n",
      "ca          4\n",
      "thal        2\n",
      "num         0\n",
      "dtype: int64\n"
     ]
    }
   ]
  },
  {
   "cell_type": "markdown",
   "source": [
    "### 3. Visualize Missing Data\n",
    "\n",
    "You can use the seaborn library's heatmap function to visualize the missing values in the dataset:"
   ],
   "metadata": {
    "id": "NGbgkSfNOgqH"
   },
   "id": "NGbgkSfNOgqH"
  },
  {
   "cell_type": "code",
   "source": [
    "import seaborn as sns\n",
    "import matplotlib.pyplot as plt\n",
    "\n",
    "# Visualize missing data\n",
    "sns.heatmap(df.isna(), cbar=False, cmap=\"viridis\")\n",
    "plt.title(\"Missing Data Heatmap\")\n",
    "plt.show()"
   ],
   "metadata": {
    "colab": {
     "base_uri": "https://localhost:8080/",
     "height": 0
    },
    "id": "IVmz02GHNyIT",
    "outputId": "d83ef394-1c9b-4092-d0fd-af130ed2b3a3"
   },
   "id": "IVmz02GHNyIT",
   "execution_count": 156,
   "outputs": [
    {
     "output_type": "display_data",
     "data": {
      "text/plain": [
       "<Figure size 640x480 with 1 Axes>"
      ],
      "image/png": "[encoded data removed]"
     },
     "metadata": {}
    }
   ]
  },
  {
   "cell_type": "markdown",
   "source": [
    "### 4. Check Specific Columns for Missing Values"
   ],
   "metadata": {
    "id": "SKb6Q2M_OrgV"
   },
   "id": "SKb6Q2M_OrgV"
  },
  {
   "cell_type": "code",
   "source": [
    "# Check for NaNs in a specific column, e.g., 'age'\n",
    "df['thal'].isna().sum()  # Shows the number of NaNs in the 'age' column"
   ],
   "metadata": {
    "colab": {
     "base_uri": "https://localhost:8080/"
    },
    "id": "MYjFJusIOw3J",
    "outputId": "e1e9fd40-b3a6-4bf2-9be7-0a676f0644d7"
   },
   "id": "MYjFJusIOw3J",
   "execution_count": 157,
   "outputs": [
    {
     "output_type": "execute_result",
     "data": {
      "text/plain": [
       "2"
      ]
     },
     "metadata": {},
     "execution_count": 157
    }
   ]
  },
  {
   "cell_type": "code",
   "source": [
    "# Get rows with NaN values\n",
    "rows_with_nan = df[df.isna().any(axis=1)]\n",
    "print(rows_with_nan)"
   ],
   "metadata": {
    "colab": {
     "base_uri": "https://localhost:8080/"
    },
    "id": "3F8g0u1QN1du",
    "outputId": "991d2c72-5ff6-45cc-da8d-9b0e58e3b8c5"
   },
   "id": "3F8g0u1QN1du",
   "execution_count": 158,
   "outputs": [
    {
     "output_type": "stream",
     "name": "stdout",
     "text": [
      "     age  sex  cp  trestbps  chol  fbs  restecg  thalach  exang  oldpeak  \\\n",
      "87    53    0   3       128   216    0        2      115      0      0.0   \n",
      "166   52    1   3       138   223    0        0      169      0      0.0   \n",
      "192   43    1   4       132   247    1        2      143      1      0.1   \n",
      "266   52    1   4       128   204    1        0      156      1      1.0   \n",
      "287   58    1   2       125   220    0        0      144      0      0.4   \n",
      "302   38    1   3       138   175    0        0      173      0      0.0   \n",
      "\n",
      "     slope   ca  thal  num  \n",
      "87       1  0.0   NaN    0  \n",
      "166      1  NaN   3.0    0  \n",
      "192      2  NaN   7.0    1  \n",
      "266      2  0.0   NaN    2  \n",
      "287      2  NaN   7.0    0  \n",
      "302      1  NaN   3.0    0  \n"
     ]
    }
   ]
  },
  {
   "cell_type": "markdown",
   "source": [
    "### Ways to Handle Missing Values:\n",
    "\n",
    "Once you've identified the missing values, you can proceed to either remove them or impute them\n",
    "\n",
    "\n",
    "**1. Remove Rows with Missing Values:**\n",
    "If the number of rows with missing values is small, you can drop those rows from your dataset.\n",
    "\n",
    "**2. Imputation:**\n",
    "\n",
    "1.  **Mean/Median/Mode Imputation:** Replace missing values with the mean, median, or mode of the respective columns.\n",
    "\n",
    "2. **KNN Imputation:** Use a more sophisticated approach like K-Nearest Neighbors (KNN) to impute missing values based on similar samples.\n",
    "\n",
    "\n",
    "RESULTS : `THAL` and `CA` has NAN values , since the dataset is already small , we will go with `mean` Imputation\n",
    "\n",
    "\n",
    "\n",
    "```\n",
    "missing_columns = ['ca', 'thal']\n",
    "```\n",
    "\n"
   ],
   "metadata": {
    "id": "iv18utb_NsbG"
   },
   "id": "iv18utb_NsbG"
  },
  {
   "cell_type": "code",
   "source": [
    "# Columns that have missing values\n",
    "missing_values_columns = ['ca', 'thal']"
   ],
   "metadata": {
    "id": "_BN-tDkl36zi"
   },
   "id": "_BN-tDkl36zi",
   "execution_count": 159,
   "outputs": []
  },
  {
   "cell_type": "markdown",
   "source": [
    "**Remove Rows with Missing Values**"
   ],
   "metadata": {
    "id": "kF75xTkurFPu"
   },
   "id": "kF75xTkurFPu"
  },
  {
   "cell_type": "code",
   "source": [
    "# Drop rows where 'ca' or 'thal' columns have NaN values\n",
    "df_clean = df.dropna(subset=missing_values_columns)\n",
    "\n",
    "# Check if there are any missing values left in 'ca' and 'thal'\n",
    "print(df_clean[missing_values_columns].isna().sum())\n"
   ],
   "metadata": {
    "id": "rKQzbbCZPph5",
    "colab": {
     "base_uri": "https://localhost:8080/"
    },
    "outputId": "42f46ccb-4518-4816-fce8-bc4ec2c72466"
   },
   "id": "rKQzbbCZPph5",
   "execution_count": 160,
   "outputs": [
    {
     "output_type": "stream",
     "name": "stdout",
     "text": [
      "ca      0\n",
      "thal    0\n",
      "dtype: int64\n"
     ]
    }
   ]
  },
  {
   "cell_type": "markdown",
   "source": [
    "**Mean/Median/Mode Imputation:**\n",
    "\n",
    "Replace missing values with the mean, median, or mode of the respective columns."
   ],
   "metadata": {
    "id": "yJxXyfzx2A6V"
   },
   "id": "yJxXyfzx2A6V"
  },
  {
   "cell_type": "code",
   "source": [
    "from sklearn.impute import SimpleImputer\n",
    "\n",
    "# Impute missing values in 'ca' and 'thal' columns using the mean (or median, etc.)\n",
    "imputer = SimpleImputer(strategy='mean')  # You can change strategy to 'median' or 'most_frequent'\n",
    "df[missing_values_columns] = imputer.fit_transform(df[missing_values_columns])\n",
    "\n",
    "# Check if imputation was successful\n",
    "print(df[missing_values_columns].isna().sum())\n"
   ],
   "metadata": {
    "colab": {
     "base_uri": "https://localhost:8080/"
    },
    "id": "IKB5YYXtQQ_o",
    "outputId": "6de22abd-ec52-4fa0-fe29-1a0bf30825e6"
   },
   "id": "IKB5YYXtQQ_o",
   "execution_count": 161,
   "outputs": [
    {
     "output_type": "stream",
     "name": "stdout",
     "text": [
      "ca      0\n",
      "thal    0\n",
      "dtype: int64\n"
     ]
    }
   ]
  },
  {
   "cell_type": "markdown",
   "source": [
    "**KNN Imputation:**\n",
    "\n",
    "Use a more sophisticated approach like K-Nearest Neighbors (KNN) to impute missing values based on similar samples."
   ],
   "metadata": {
    "id": "tQgIOJkK2HqH"
   },
   "id": "tQgIOJkK2HqH"
  },
  {
   "cell_type": "code",
   "source": [
    "from sklearn.impute import KNNImputer\n",
    "\n",
    "# Use KNNImputer to fill missing values\n",
    "imputer = KNNImputer(n_neighbors=10)  # You can change the number of neighbors\n",
    "X = df.drop('ca', axis=1).values\n",
    "X = imputer.fit_transform(X)\n",
    "\n",
    "# Proceed with encoding the target and resampling\n",
    "# y = df['num'].values"
   ],
   "metadata": {
    "id": "lHs-_B-p2PoW"
   },
   "id": "lHs-_B-p2PoW",
   "execution_count": 162,
   "outputs": []
  },
  {
   "cell_type": "code",
   "source": [
    "# Define features and target\n",
    "X = df.drop('num', axis=1).values\n",
    "y = df['num'].values"
   ],
   "metadata": {
    "id": "xCX7Rfhq2Whw"
   },
   "id": "xCX7Rfhq2Whw",
   "execution_count": 163,
   "outputs": []
  },
  {
   "cell_type": "code",
   "source": [
    "# Apply train/test split\n",
    "# X_train, X_test, y_train, y_test = train_test_split(X, y, test_size=0.2, random_state=42)\n"
   ],
   "metadata": {
    "id": "pRUfPB9M4ZVJ"
   },
   "id": "pRUfPB9M4ZVJ",
   "execution_count": 164,
   "outputs": []
  },
  {
   "cell_type": "markdown",
   "source": [
    "### Visualise the Missing Data after fixing it"
   ],
   "metadata": {
    "id": "kvmzkVhzMKGL"
   },
   "id": "kvmzkVhzMKGL"
  },
  {
   "cell_type": "code",
   "source": [
    "import seaborn as sns\n",
    "import matplotlib.pyplot as plt\n",
    "\n",
    "# Visualize missing data\n",
    "sns.heatmap(df.isna(), cbar=False, cmap=\"viridis\")\n",
    "plt.title(\"Missing Data Heatmap\")\n",
    "plt.show()"
   ],
   "metadata": {
    "colab": {
     "base_uri": "https://localhost:8080/",
     "height": 0
    },
    "id": "MRn_r_CVMIVu",
    "outputId": "cae0cba9-7850-40c4-f601-97de57cdd3e3"
   },
   "id": "MRn_r_CVMIVu",
   "execution_count": 165,
   "outputs": [
    {
     "output_type": "display_data",
     "data": {
      "text/plain": [
       "<Figure size 640x480 with 1 Axes>"
      ],
      "image/png": "[encoded data removed]"
     },
     "metadata": {}
    }
   ]
  },
  {
   "cell_type": "markdown",
   "metadata": {
    "id": "0069c1c8-018c-41a9-9c1a-2a38075133d4"
   },
   "source": [
    "# EDA (new)"
   ],
   "id": "0069c1c8-018c-41a9-9c1a-2a38075133d4"
  },
  {
   "cell_type": "markdown",
   "metadata": {
    "id": "49d94851-88d1-4bda-8869-f939f42e60e1"
   },
   "source": [
    "### Histgram"
   ],
   "id": "49d94851-88d1-4bda-8869-f939f42e60e1"
  },
  {
   "cell_type": "code",
   "metadata": {
    "id": "536aa807-5105-4821-95c9-cf1fe4396cd6",
    "colab": {
     "base_uri": "https://localhost:8080/",
     "height": 0
    },
    "outputId": "9a36c7d2-1dcc-4060-f907-b4318f3c9274"
   },
   "source": [
    "df.hist(bins=50, figsize=(20,15));"
   ],
   "id": "536aa807-5105-4821-95c9-cf1fe4396cd6",
   "execution_count": 169,
   "outputs": [
    {
     "output_type": "display_data",
     "data": {
      "text/plain": [
       "<Figure size 2000x1500 with 16 Axes>"
      ],
      "image/png": "[encoded data removed]"
     },
     "metadata": {}
    }
   ]
  },
  {
   "cell_type": "markdown",
   "metadata": {
    "id": "4fbdd040-923c-414c-a70b-64eae0e5461a"
   },
   "source": [
    "### Correlation matrix\n",
    "The target variable is the `num`, so we are going to look at how much each feature variable correlates the target variable."
   ],
   "id": "4fbdd040-923c-414c-a70b-64eae0e5461a"
  },
  {
   "cell_type": "code",
   "metadata": {
    "id": "89c2d345-3b82-40b8-b54c-169ac93a059b",
    "colab": {
     "base_uri": "https://localhost:8080/",
     "height": 0
    },
    "outputId": "6ea4c945-7659-4e84-9edf-1b19f9f0de08"
   },
   "source": [
    "corr_matrix = df.corr()\n",
    "corr_matrix['num'].sort_values(ascending=False)"
   ],
   "id": "89c2d345-3b82-40b8-b54c-169ac93a059b",
   "execution_count": 170,
   "outputs": [
    {
     "output_type": "execute_result",
     "data": {
      "text/plain": [
       "num         1.000000\n",
       "ca          0.517390\n",
       "thal        0.508799\n",
       "oldpeak     0.504092\n",
       "cp          0.407075\n",
       "exang       0.397057\n",
       "slope       0.377957\n",
       "sex         0.224469\n",
       "age         0.222853\n",
       "restecg     0.183696\n",
       "trestbps    0.157754\n",
       "chol        0.070909\n",
       "fbs         0.059186\n",
       "thalach    -0.415040\n",
       "Name: num, dtype: float64"
      ],
      "text/html": [
       "<div>\n",
       "<style scoped>\n",
       "    .dataframe tbody tr th:only-of-type {\n",
       "        vertical-align: middle;\n",
       "    }\n",
       "\n",
       "    .dataframe tbody tr th {\n",
       "        vertical-align: top;\n",
       "    }\n",
       "\n",
       "    .dataframe thead th {\n",
       "        text-align: right;\n",
       "    }\n",
       "</style>\n",
       "<table border=\"1\" class=\"dataframe\">\n",
       "  <thead>\n",
       "    <tr style=\"text-align: right;\">\n",
       "      <th></th>\n",
       "      <th>num</th>\n",
       "    </tr>\n",
       "  </thead>\n",
       "  <tbody>\n",
       "    <tr>\n",
       "      <th>num</th>\n",
       "      <td>1.000000</td>\n",
       "    </tr>\n",
       "    <tr>\n",
       "      <th>ca</th>\n",
       "      <td>0.517390</td>\n",
       "    </tr>\n",
       "    <tr>\n",
       "      <th>thal</th>\n",
       "      <td>0.508799</td>\n",
       "    </tr>\n",
       "    <tr>\n",
       "      <th>oldpeak</th>\n",
       "      <td>0.504092</td>\n",
       "    </tr>\n",
       "    <tr>\n",
       "      <th>cp</th>\n",
       "      <td>0.407075</td>\n",
       "    </tr>\n",
       "    <tr>\n",
       "      <th>exang</th>\n",
       "      <td>0.397057</td>\n",
       "    </tr>\n",
       "    <tr>\n",
       "      <th>slope</th>\n",
       "      <td>0.377957</td>\n",
       "    </tr>\n",
       "    <tr>\n",
       "      <th>sex</th>\n",
       "      <td>0.224469</td>\n",
       "    </tr>\n",
       "    <tr>\n",
       "      <th>age</th>\n",
       "      <td>0.222853</td>\n",
       "    </tr>\n",
       "    <tr>\n",
       "      <th>restecg</th>\n",
       "      <td>0.183696</td>\n",
       "    </tr>\n",
       "    <tr>\n",
       "      <th>trestbps</th>\n",
       "      <td>0.157754</td>\n",
       "    </tr>\n",
       "    <tr>\n",
       "      <th>chol</th>\n",
       "      <td>0.070909</td>\n",
       "    </tr>\n",
       "    <tr>\n",
       "      <th>fbs</th>\n",
       "      <td>0.059186</td>\n",
       "    </tr>\n",
       "    <tr>\n",
       "      <th>thalach</th>\n",
       "      <td>-0.415040</td>\n",
       "    </tr>\n",
       "  </tbody>\n",
       "</table>\n",
       "</div><br><label><b>dtype:</b> float64</label>"
      ]
     },
     "metadata": {},
     "execution_count": 170
    }
   ]
  },
  {
   "cell_type": "markdown",
   "metadata": {
    "id": "0739db5d-1524-4b25-89f6-368c544b3951"
   },
   "source": [
    "### Scatter matrix between num, thal, ca, chol"
   ],
   "id": "0739db5d-1524-4b25-89f6-368c544b3951"
  },
  {
   "cell_type": "code",
   "metadata": {
    "id": "3da4c38a-b92a-4f09-84d4-0e0433c88cdc"
   },
   "source": [
    "scat_cols = ['num', 'thal', 'ca', 'chol']"
   ],
   "id": "3da4c38a-b92a-4f09-84d4-0e0433c88cdc",
   "execution_count": 171,
   "outputs": []
  },
  {
   "cell_type": "code",
   "metadata": {
    "id": "67e64f0a-276d-4a59-8e08-aac9dc881a0e",
    "colab": {
     "base_uri": "https://localhost:8080/",
     "height": 0
    },
    "outputId": "1ef12664-6066-40be-f1cb-9c8df181ab47"
   },
   "source": [
    "_ = pd.plotting.scatter_matrix(df[scat_cols], figsize = [10, 10],\n",
    "                      s = 20, marker = 'o')"
   ],
   "id": "67e64f0a-276d-4a59-8e08-aac9dc881a0e",
   "execution_count": 172,
   "outputs": [
    {
     "output_type": "display_data",
     "data": {
      "text/plain": [
       "<Figure size 1000x1000 with 16 Axes>"
      ],
      "image/png": "[encoded data removed]"
     },
     "metadata": {}
    }
   ]
  },
  {
   "cell_type": "markdown",
   "metadata": {
    "id": "5b15ca56-0c74-4f76-aeee-18a2a28d4132"
   },
   "source": [
    "# 3. Data PreProcessing"
   ],
   "id": "5b15ca56-0c74-4f76-aeee-18a2a28d4132"
  },
  {
   "cell_type": "markdown",
   "metadata": {
    "id": "c1b45962-70db-40aa-b2d4-2b6f972796d2"
   },
   "source": [
    "## 3.1 Inspecting outliers"
   ],
   "id": "c1b45962-70db-40aa-b2d4-2b6f972796d2"
  },
  {
   "cell_type": "code",
   "metadata": {
    "id": "22f016b9-1da5-4860-bfc6-6212b82fa310",
    "colab": {
     "base_uri": "https://localhost:8080/"
    },
    "outputId": "99b6d3e6-1be8-48cd-96a4-2f9fb075ec78"
   },
   "source": [
    "df.info()"
   ],
   "id": "22f016b9-1da5-4860-bfc6-6212b82fa310",
   "execution_count": 173,
   "outputs": [
    {
     "output_type": "stream",
     "name": "stdout",
     "text": [
      "<class 'pandas.core.frame.DataFrame'>\n",
      "RangeIndex: 303 entries, 0 to 302\n",
      "Data columns (total 14 columns):\n",
      " #   Column    Non-Null Count  Dtype  \n",
      "---  ------    --------------  -----  \n",
      " 0   age       303 non-null    int64  \n",
      " 1   sex       303 non-null    int64  \n",
      " 2   cp        303 non-null    int64  \n",
      " 3   trestbps  303 non-null    int64  \n",
      " 4   chol      303 non-null    int64  \n",
      " 5   fbs       303 non-null    int64  \n",
      " 6   restecg   303 non-null    int64  \n",
      " 7   thalach   303 non-null    int64  \n",
      " 8   exang     303 non-null    int64  \n",
      " 9   oldpeak   303 non-null    float64\n",
      " 10  slope     303 non-null    int64  \n",
      " 11  ca        303 non-null    float64\n",
      " 12  thal      303 non-null    float64\n",
      " 13  num       303 non-null    int64  \n",
      "dtypes: float64(3), int64(11)\n",
      "memory usage: 33.3 KB\n"
     ]
    }
   ]
  },
  {
   "cell_type": "markdown",
   "source": [
    "### Detect outliers using IQR"
   ],
   "metadata": {
    "id": "vloj_cMibq8n"
   },
   "id": "vloj_cMibq8n"
  },
  {
   "cell_type": "code",
   "metadata": {
    "id": "fdbf25a9-9a28-4811-a758-239ec7c8c8b1",
    "colab": {
     "base_uri": "https://localhost:8080/",
     "height": 1000
    },
    "outputId": "7ab42c7c-42e7-41ae-80ee-23fb58f7eaa5"
   },
   "source": [
    "# Identify numerical columns\n",
    "numerical_columns = df.select_dtypes(include=[np.number]).columns\n",
    "\n",
    "# Function to detect outliers using IQR\n",
    "def detect_outliers(df, column):\n",
    "    Q1 = df[column].quantile(0.25)\n",
    "    Q3 = df[column].quantile(0.75)\n",
    "    IQR = Q3 - Q1\n",
    "    lower_bound = Q1 - 1.5 * IQR\n",
    "    upper_bound = Q3 + 1.5 * IQR\n",
    "    outliers = df[(df[column] < lower_bound) | (df[column] > upper_bound)]\n",
    "    return outliers\n",
    "\n",
    "# Detect and print outliers for each numerical column\n",
    "for column in numerical_columns:\n",
    "    outliers = detect_outliers(df, column)\n",
    "    print(f\"Outliers in {column}:\\n\", outliers)\n",
    "\n",
    "# Visualize outliers using box plots\n",
    "plt.figure(figsize=(15, 10))\n",
    "for i, column in enumerate(numerical_columns, 1):\n",
    "    plt.subplot(len(numerical_columns) // 3 + 1, 3, i)\n",
    "    sns.boxplot(x=df[column])\n",
    "    plt.title(f'Box plot of {column}')\n",
    "plt.tight_layout()\n",
    "plt.show()"
   ],
   "id": "fdbf25a9-9a28-4811-a758-239ec7c8c8b1",
   "execution_count": 174,
   "outputs": [
    {
     "output_type": "stream",
     "name": "stdout",
     "text": [
      "Outliers in age:\n",
      " Empty DataFrame\n",
      "Columns: [age, sex, cp, trestbps, chol, fbs, restecg, thalach, exang, oldpeak, slope, ca, thal, num]\n",
      "Index: []\n",
      "Outliers in sex:\n",
      " Empty DataFrame\n",
      "Columns: [age, sex, cp, trestbps, chol, fbs, restecg, thalach, exang, oldpeak, slope, ca, thal, num]\n",
      "Index: []\n",
      "Outliers in cp:\n",
      "      age  sex  cp  trestbps  chol  fbs  restecg  thalach  exang  oldpeak  \\\n",
      "0     63    1   1       145   233    1        2      150      0      2.3   \n",
      "20    64    1   1       110   211    0        2      144      1      1.8   \n",
      "21    58    0   1       150   283    1        2      162      0      1.0   \n",
      "27    66    0   1       150   226    0        0      114      0      2.6   \n",
      "30    69    0   1       140   239    0        0      151      0      1.8   \n",
      "41    40    1   1       140   199    0        0      178      1      1.4   \n",
      "59    51    1   1       125   213    0        2      125      1      1.4   \n",
      "101   34    1   1       118   182    0        2      174      0      0.0   \n",
      "112   52    1   1       118   186    0        2      190      0      0.0   \n",
      "124   65    1   1       138   282    1        2      174      0      1.4   \n",
      "141   59    1   1       170   288    0        2      159      0      0.2   \n",
      "150   52    1   1       152   298    1        0      178      0      1.2   \n",
      "182   42    1   1       148   244    0        2      178      0      0.8   \n",
      "183   59    1   1       178   270    0        2      145      0      4.2   \n",
      "196   69    1   1       160   234    1        2      131      0      0.1   \n",
      "199   59    1   1       160   273    0        2      125      0      0.0   \n",
      "211   38    1   1       120   231    0        0      182      1      3.8   \n",
      "215   56    1   1       120   193    0        2      162      0      1.9   \n",
      "243   61    1   1       134   234    0        0      145      0      2.6   \n",
      "262   60    0   1       150   240    0        0      171      0      0.9   \n",
      "274   59    1   1       134   204    0        0      162      0      0.8   \n",
      "275   64    1   1       170   227    0        2      155      0      0.6   \n",
      "298   45    1   1       110   264    0        0      132      0      1.2   \n",
      "\n",
      "     slope   ca  thal  num  \n",
      "0        3  0.0   6.0    0  \n",
      "20       2  0.0   3.0    0  \n",
      "21       1  0.0   3.0    0  \n",
      "27       3  0.0   3.0    0  \n",
      "30       1  2.0   3.0    0  \n",
      "41       1  0.0   7.0    0  \n",
      "59       1  1.0   3.0    0  \n",
      "101      1  0.0   3.0    0  \n",
      "112      2  0.0   6.0    0  \n",
      "124      2  1.0   3.0    1  \n",
      "141      2  0.0   7.0    1  \n",
      "150      2  0.0   7.0    0  \n",
      "182      1  2.0   3.0    0  \n",
      "183      3  0.0   7.0    0  \n",
      "196      2  1.0   3.0    0  \n",
      "199      1  0.0   3.0    1  \n",
      "211      2  0.0   7.0    4  \n",
      "215      2  0.0   7.0    0  \n",
      "243      2  2.0   3.0    2  \n",
      "262      1  0.0   3.0    0  \n",
      "274      1  2.0   3.0    1  \n",
      "275      2  0.0   7.0    0  \n",
      "298      2  0.0   7.0    1  \n",
      "Outliers in trestbps:\n",
      "      age  sex  cp  trestbps  chol  fbs  restecg  thalach  exang  oldpeak  \\\n",
      "14    52    1   3       172   199    1        0      162      0      0.5   \n",
      "83    68    1   3       180   274    1        2      150      1      1.6   \n",
      "126   56    0   4       200   288    1        2      133      1      4.0   \n",
      "172   59    0   4       174   249    0        0      143      1      0.0   \n",
      "183   59    1   1       178   270    0        2      145      0      4.2   \n",
      "188   54    1   2       192   283    0        2      195      0      0.0   \n",
      "201   64    0   4       180   325    0        0      154      1      0.0   \n",
      "213   66    0   4       178   228    1        0      165      1      1.0   \n",
      "231   55    0   4       180   327    0        1      117      1      3.4   \n",
      "\n",
      "     slope   ca  thal  num  \n",
      "14       1  0.0   7.0    0  \n",
      "83       2  0.0   7.0    3  \n",
      "126      3  2.0   7.0    3  \n",
      "172      2  0.0   3.0    1  \n",
      "183      3  0.0   7.0    0  \n",
      "188      1  1.0   7.0    1  \n",
      "201      1  0.0   3.0    0  \n",
      "213      2  2.0   7.0    3  \n",
      "231      2  0.0   3.0    2  \n",
      "Outliers in chol:\n",
      "      age  sex  cp  trestbps  chol  fbs  restecg  thalach  exang  oldpeak  \\\n",
      "48    65    0   3       140   417    1        2      157      0      0.8   \n",
      "121   63    0   4       150   407    0        2      154      0      4.0   \n",
      "152   67    0   3       115   564    0        2      160      0      1.6   \n",
      "173   62    0   4       140   394    0        2      157      0      1.2   \n",
      "181   56    0   4       134   409    0        2      150      1      1.9   \n",
      "\n",
      "     slope   ca  thal  num  \n",
      "48       1  1.0   3.0    0  \n",
      "121      2  3.0   7.0    4  \n",
      "152      2  0.0   7.0    0  \n",
      "173      2  0.0   3.0    0  \n",
      "181      2  2.0   7.0    2  \n",
      "Outliers in fbs:\n",
      "      age  sex  cp  trestbps  chol  fbs  restecg  thalach  exang  oldpeak  \\\n",
      "0     63    1   1       145   233    1        2      150      0      2.3   \n",
      "9     53    1   4       140   203    1        2      155      1      3.1   \n",
      "12    56    1   3       130   256    1        2      142      1      0.6   \n",
      "14    52    1   3       172   199    1        0      162      0      0.5   \n",
      "21    58    0   1       150   283    1        2      162      0      1.0   \n",
      "31    60    1   4       117   230    1        0      160      1      1.4   \n",
      "39    61    1   3       150   243    1        0      137      1      1.0   \n",
      "43    59    1   3       150   212    1        0      157      0      1.6   \n",
      "48    65    0   3       140   417    1        2      157      0      0.8   \n",
      "49    53    1   3       130   197    1        2      152      0      1.2   \n",
      "63    54    0   3       135   304    1        0      170      0      0.0   \n",
      "71    67    1   4       125   254    1        0      163      0      0.2   \n",
      "83    68    1   3       180   274    1        2      150      1      1.6   \n",
      "103   71    0   3       110   265    1        2      130      0      0.0   \n",
      "111   56    1   4       125   249    1        2      144      1      1.2   \n",
      "113   43    0   4       132   341    1        2      136      1      3.0   \n",
      "116   58    1   3       140   211    1        2      165      0      0.0   \n",
      "118   63    1   4       130   330    1        2      132      1      1.8   \n",
      "120   48    1   4       130   256    1        2      150      1      0.0   \n",
      "124   65    1   1       138   282    1        2      174      0      1.4   \n",
      "126   56    0   4       200   288    1        2      133      1      4.0   \n",
      "139   51    1   3       125   245    1        2      166      0      2.4   \n",
      "142   52    1   2       128   205    1        0      184      0      0.0   \n",
      "146   57    1   4       165   289    1        2      124      0      1.0   \n",
      "150   52    1   1       152   298    1        0      178      0      1.2   \n",
      "160   46    1   2       101   197    1        0      156      0      0.0   \n",
      "164   48    1   3       124   255    1        0      175      0      0.0   \n",
      "167   54    0   2       132   288    1        2      159      1      0.0   \n",
      "176   52    1   4       108   233    1        0      147      0      0.1   \n",
      "179   53    1   3       130   246    1        2      173      0      0.0   \n",
      "186   42    1   3       120   240    1        0      194      0      0.8   \n",
      "192   43    1   4       132   247    1        2      143      1      0.1   \n",
      "193   62    0   4       138   294    1        0      106      0      1.9   \n",
      "196   69    1   1       160   234    1        2      131      0      0.1   \n",
      "202   57    1   3       150   126    1        0      173      0      0.2   \n",
      "213   66    0   4       178   228    1        0      165      1      1.0   \n",
      "236   56    1   4       130   283    1        2      103      1      1.6   \n",
      "244   60    0   3       120   178    1        0       96      0      0.0   \n",
      "249   62    1   2       128   208    1        2      140      0      0.0   \n",
      "261   58    0   2       136   319    1        2      152      0      0.0   \n",
      "266   52    1   4       128   204    1        0      156      1      1.0   \n",
      "267   59    1   3       126   218    1        0      134      0      2.2   \n",
      "286   58    0   4       170   225    1        2      146      1      2.8   \n",
      "296   59    1   4       164   176    1        2       90      0      1.0   \n",
      "299   68    1   4       144   193    1        0      141      0      3.4   \n",
      "\n",
      "     slope        ca      thal  num  \n",
      "0        3  0.000000  6.000000    0  \n",
      "9        3  0.000000  7.000000    1  \n",
      "12       2  1.000000  6.000000    2  \n",
      "14       1  0.000000  7.000000    0  \n",
      "21       1  0.000000  3.000000    0  \n",
      "31       1  2.000000  7.000000    2  \n",
      "39       2  0.000000  3.000000    0  \n",
      "43       1  0.000000  3.000000    0  \n",
      "48       1  1.000000  3.000000    0  \n",
      "49       3  0.000000  3.000000    0  \n",
      "63       1  0.000000  3.000000    0  \n",
      "71       2  2.000000  7.000000    3  \n",
      "83       2  0.000000  7.000000    3  \n",
      "103      1  1.000000  3.000000    0  \n",
      "111      2  1.000000  3.000000    1  \n",
      "113      2  0.000000  7.000000    2  \n",
      "116      1  0.000000  3.000000    0  \n",
      "118      1  3.000000  7.000000    3  \n",
      "120      1  2.000000  7.000000    3  \n",
      "124      2  1.000000  3.000000    1  \n",
      "126      3  2.000000  7.000000    3  \n",
      "139      2  0.000000  3.000000    0  \n",
      "142      1  0.000000  3.000000    0  \n",
      "146      2  3.000000  7.000000    4  \n",
      "150      2  0.000000  7.000000    0  \n",
      "160      1  0.000000  7.000000    0  \n",
      "164      1  2.000000  3.000000    0  \n",
      "167      1  1.000000  3.000000    0  \n",
      "176      1  3.000000  7.000000    0  \n",
      "179      1  3.000000  3.000000    0  \n",
      "186      3  0.000000  7.000000    0  \n",
      "192      2  0.672241  7.000000    1  \n",
      "193      2  3.000000  3.000000    2  \n",
      "196      2  1.000000  3.000000    0  \n",
      "202      1  1.000000  7.000000    0  \n",
      "213      2  2.000000  7.000000    3  \n",
      "236      3  0.000000  7.000000    2  \n",
      "244      1  0.000000  3.000000    0  \n",
      "249      1  0.000000  3.000000    0  \n",
      "261      1  2.000000  3.000000    3  \n",
      "266      2  0.000000  4.734219    2  \n",
      "267      2  1.000000  6.000000    2  \n",
      "286      2  2.000000  6.000000    2  \n",
      "296      2  2.000000  6.000000    3  \n",
      "299      2  2.000000  7.000000    2  \n",
      "Outliers in restecg:\n",
      " Empty DataFrame\n",
      "Columns: [age, sex, cp, trestbps, chol, fbs, restecg, thalach, exang, oldpeak, slope, ca, thal, num]\n",
      "Index: []\n",
      "Outliers in thalach:\n",
      "      age  sex  cp  trestbps  chol  fbs  restecg  thalach  exang  oldpeak  \\\n",
      "245   67    1   4       120   237    0        0       71      0      1.0   \n",
      "\n",
      "     slope   ca  thal  num  \n",
      "245      2  0.0   3.0    2  \n",
      "Outliers in exang:\n",
      " Empty DataFrame\n",
      "Columns: [age, sex, cp, trestbps, chol, fbs, restecg, thalach, exang, oldpeak, slope, ca, thal, num]\n",
      "Index: []\n",
      "Outliers in oldpeak:\n",
      "      age  sex  cp  trestbps  chol  fbs  restecg  thalach  exang  oldpeak  \\\n",
      "91    62    0   4       160   164    0        2      145      0      6.2   \n",
      "123   55    1   4       140   217    0        0      111      1      5.6   \n",
      "183   59    1   1       178   270    0        2      145      0      4.2   \n",
      "191   51    1   4       140   298    0        0      122      1      4.2   \n",
      "285   58    1   4       114   318    0        1      140      0      4.4   \n",
      "\n",
      "     slope   ca  thal  num  \n",
      "91       3  3.0   7.0    3  \n",
      "123      3  0.0   7.0    3  \n",
      "183      3  0.0   7.0    0  \n",
      "191      2  3.0   7.0    3  \n",
      "285      3  3.0   6.0    4  \n",
      "Outliers in slope:\n",
      " Empty DataFrame\n",
      "Columns: [age, sex, cp, trestbps, chol, fbs, restecg, thalach, exang, oldpeak, slope, ca, thal, num]\n",
      "Index: []\n",
      "Outliers in ca:\n",
      "      age  sex  cp  trestbps  chol  fbs  restecg  thalach  exang  oldpeak  \\\n",
      "1     67    1   4       160   286    0        2      108      1      1.5   \n",
      "40    65    0   4       150   225    0        2      114      0      1.0   \n",
      "62    58    1   4       128   216    0        2      131      1      2.2   \n",
      "91    62    0   4       160   164    0        2      145      0      6.2   \n",
      "92    62    1   3       130   231    0        0      146      0      1.8   \n",
      "104   49    1   3       120   188    0        0      139      0      2.0   \n",
      "118   63    1   4       130   330    1        2      132      1      1.8   \n",
      "121   63    0   4       150   407    0        2      154      0      4.0   \n",
      "146   57    1   4       165   289    1        2      124      0      1.0   \n",
      "155   70    1   4       130   322    0        2      109      0      2.4   \n",
      "161   77    1   4       125   304    0        2      162      1      0.0   \n",
      "176   52    1   4       108   233    1        0      147      0      0.1   \n",
      "179   53    1   3       130   246    1        2      173      0      0.0   \n",
      "187   66    1   2       160   246    0        0      120      1      0.0   \n",
      "189   69    1   3       140   254    0        2      146      0      2.0   \n",
      "191   51    1   4       140   298    0        0      122      1      4.2   \n",
      "193   62    0   4       138   294    1        0      106      0      1.9   \n",
      "205   45    1   4       142   309    0        2      147      1      0.0   \n",
      "232   49    1   3       118   149    0        2      126      0      0.8   \n",
      "285   58    1   4       114   318    0        1      140      0      4.4   \n",
      "\n",
      "     slope   ca  thal  num  \n",
      "1        2  3.0   3.0    2  \n",
      "40       2  3.0   7.0    4  \n",
      "62       2  3.0   7.0    1  \n",
      "91       3  3.0   7.0    3  \n",
      "92       2  3.0   7.0    0  \n",
      "104      2  3.0   7.0    3  \n",
      "118      1  3.0   7.0    3  \n",
      "121      2  3.0   7.0    4  \n",
      "146      2  3.0   7.0    4  \n",
      "155      2  3.0   3.0    1  \n",
      "161      1  3.0   3.0    4  \n",
      "176      1  3.0   7.0    0  \n",
      "179      1  3.0   3.0    0  \n",
      "187      2  3.0   6.0    2  \n",
      "189      2  3.0   7.0    2  \n",
      "191      2  3.0   7.0    3  \n",
      "193      2  3.0   3.0    2  \n",
      "205      2  3.0   7.0    3  \n",
      "232      1  3.0   3.0    1  \n",
      "285      3  3.0   6.0    4  \n",
      "Outliers in thal:\n",
      " Empty DataFrame\n",
      "Columns: [age, sex, cp, trestbps, chol, fbs, restecg, thalach, exang, oldpeak, slope, ca, thal, num]\n",
      "Index: []\n",
      "Outliers in num:\n",
      " Empty DataFrame\n",
      "Columns: [age, sex, cp, trestbps, chol, fbs, restecg, thalach, exang, oldpeak, slope, ca, thal, num]\n",
      "Index: []\n"
     ]
    },
    {
     "output_type": "display_data",
     "data": {
      "text/plain": [
       "<Figure size 1500x1000 with 14 Axes>"
      ],
      "image/png": "[encoded data removed]"
     },
     "metadata": {}
    }
   ]
  },
  {
   "cell_type": "markdown",
   "source": [
    "### Handle outliers using Capping Technique\n",
    "\n",
    "by either removing them or capping them to a certain threshold."
   ],
   "metadata": {
    "id": "NqKuUcDLa01d"
   },
   "id": "NqKuUcDLa01d"
  },
  {
   "cell_type": "code",
   "source": [
    "# Function to handle outliers by capping them\n",
    "def cap_outliers(df, column):\n",
    "    Q1 = df[column].quantile(0.25)\n",
    "    Q3 = df[column].quantile(0.75)\n",
    "    IQR = Q3 - Q1\n",
    "    lower_bound = Q1 - 1.5 * IQR\n",
    "    upper_bound = Q3 + 1.5 * IQR\n",
    "    df[column] = np.where(df[column] < lower_bound, lower_bound, df[column])\n",
    "    df[column] = np.where(df[column] > upper_bound, upper_bound, df[column])\n"
   ],
   "metadata": {
    "id": "H0RQEG5Na40A"
   },
   "id": "H0RQEG5Na40A",
   "execution_count": 176,
   "outputs": []
  },
  {
   "cell_type": "code",
   "source": [
    "# Detect and handle outliers for each numerical column\n",
    "for column in numerical_columns:\n",
    "    outliers = detect_outliers(df, column)\n",
    "    print(f\"Outliers in {column}:\\n\", outliers)\n",
    "    cap_outliers(df, column)"
   ],
   "metadata": {
    "colab": {
     "base_uri": "https://localhost:8080/"
    },
    "id": "LpnvgC02bJ46",
    "outputId": "e63cf769-a461-4a22-9234-7e9abbbaeddc"
   },
   "id": "LpnvgC02bJ46",
   "execution_count": 177,
   "outputs": [
    {
     "output_type": "stream",
     "name": "stdout",
     "text": [
      "Outliers in age:\n",
      " Empty DataFrame\n",
      "Columns: [age, sex, cp, trestbps, chol, fbs, restecg, thalach, exang, oldpeak, slope, ca, thal, num]\n",
      "Index: []\n",
      "Outliers in sex:\n",
      " Empty DataFrame\n",
      "Columns: [age, sex, cp, trestbps, chol, fbs, restecg, thalach, exang, oldpeak, slope, ca, thal, num]\n",
      "Index: []\n",
      "Outliers in cp:\n",
      "       age  sex  cp  trestbps  chol  fbs  restecg  thalach  exang  oldpeak  \\\n",
      "0    63.0  1.0   1       145   233    1        2      150      0      2.3   \n",
      "20   64.0  1.0   1       110   211    0        2      144      1      1.8   \n",
      "21   58.0  0.0   1       150   283    1        2      162      0      1.0   \n",
      "27   66.0  0.0   1       150   226    0        0      114      0      2.6   \n",
      "30   69.0  0.0   1       140   239    0        0      151      0      1.8   \n",
      "41   40.0  1.0   1       140   199    0        0      178      1      1.4   \n",
      "59   51.0  1.0   1       125   213    0        2      125      1      1.4   \n",
      "101  34.0  1.0   1       118   182    0        2      174      0      0.0   \n",
      "112  52.0  1.0   1       118   186    0        2      190      0      0.0   \n",
      "124  65.0  1.0   1       138   282    1        2      174      0      1.4   \n",
      "141  59.0  1.0   1       170   288    0        2      159      0      0.2   \n",
      "150  52.0  1.0   1       152   298    1        0      178      0      1.2   \n",
      "182  42.0  1.0   1       148   244    0        2      178      0      0.8   \n",
      "183  59.0  1.0   1       178   270    0        2      145      0      4.2   \n",
      "196  69.0  1.0   1       160   234    1        2      131      0      0.1   \n",
      "199  59.0  1.0   1       160   273    0        2      125      0      0.0   \n",
      "211  38.0  1.0   1       120   231    0        0      182      1      3.8   \n",
      "215  56.0  1.0   1       120   193    0        2      162      0      1.9   \n",
      "243  61.0  1.0   1       134   234    0        0      145      0      2.6   \n",
      "262  60.0  0.0   1       150   240    0        0      171      0      0.9   \n",
      "274  59.0  1.0   1       134   204    0        0      162      0      0.8   \n",
      "275  64.0  1.0   1       170   227    0        2      155      0      0.6   \n",
      "298  45.0  1.0   1       110   264    0        0      132      0      1.2   \n",
      "\n",
      "     slope   ca  thal  num  \n",
      "0        3  0.0   6.0    0  \n",
      "20       2  0.0   3.0    0  \n",
      "21       1  0.0   3.0    0  \n",
      "27       3  0.0   3.0    0  \n",
      "30       1  2.0   3.0    0  \n",
      "41       1  0.0   7.0    0  \n",
      "59       1  1.0   3.0    0  \n",
      "101      1  0.0   3.0    0  \n",
      "112      2  0.0   6.0    0  \n",
      "124      2  1.0   3.0    1  \n",
      "141      2  0.0   7.0    1  \n",
      "150      2  0.0   7.0    0  \n",
      "182      1  2.0   3.0    0  \n",
      "183      3  0.0   7.0    0  \n",
      "196      2  1.0   3.0    0  \n",
      "199      1  0.0   3.0    1  \n",
      "211      2  0.0   7.0    4  \n",
      "215      2  0.0   7.0    0  \n",
      "243      2  2.0   3.0    2  \n",
      "262      1  0.0   3.0    0  \n",
      "274      1  2.0   3.0    1  \n",
      "275      2  0.0   7.0    0  \n",
      "298      2  0.0   7.0    1  \n",
      "Outliers in trestbps:\n",
      "       age  sex   cp  trestbps  chol  fbs  restecg  thalach  exang  oldpeak  \\\n",
      "14   52.0  1.0  3.0       172   199    1        0      162      0      0.5   \n",
      "83   68.0  1.0  3.0       180   274    1        2      150      1      1.6   \n",
      "126  56.0  0.0  4.0       200   288    1        2      133      1      4.0   \n",
      "172  59.0  0.0  4.0       174   249    0        0      143      1      0.0   \n",
      "183  59.0  1.0  1.5       178   270    0        2      145      0      4.2   \n",
      "188  54.0  1.0  2.0       192   283    0        2      195      0      0.0   \n",
      "201  64.0  0.0  4.0       180   325    0        0      154      1      0.0   \n",
      "213  66.0  0.0  4.0       178   228    1        0      165      1      1.0   \n",
      "231  55.0  0.0  4.0       180   327    0        1      117      1      3.4   \n",
      "\n",
      "     slope   ca  thal  num  \n",
      "14       1  0.0   7.0    0  \n",
      "83       2  0.0   7.0    3  \n",
      "126      3  2.0   7.0    3  \n",
      "172      2  0.0   3.0    1  \n",
      "183      3  0.0   7.0    0  \n",
      "188      1  1.0   7.0    1  \n",
      "201      1  0.0   3.0    0  \n",
      "213      2  2.0   7.0    3  \n",
      "231      2  0.0   3.0    2  \n",
      "Outliers in chol:\n",
      "       age  sex   cp  trestbps  chol  fbs  restecg  thalach  exang  oldpeak  \\\n",
      "48   65.0  0.0  3.0     140.0   417    1        2      157      0      0.8   \n",
      "121  63.0  0.0  4.0     150.0   407    0        2      154      0      4.0   \n",
      "152  67.0  0.0  3.0     115.0   564    0        2      160      0      1.6   \n",
      "173  62.0  0.0  4.0     140.0   394    0        2      157      0      1.2   \n",
      "181  56.0  0.0  4.0     134.0   409    0        2      150      1      1.9   \n",
      "\n",
      "     slope   ca  thal  num  \n",
      "48       1  1.0   3.0    0  \n",
      "121      2  3.0   7.0    4  \n",
      "152      2  0.0   7.0    0  \n",
      "173      2  0.0   3.0    0  \n",
      "181      2  2.0   7.0    2  \n",
      "Outliers in fbs:\n",
      "       age  sex   cp  trestbps   chol  fbs  restecg  thalach  exang  oldpeak  \\\n",
      "0    63.0  1.0  1.5     145.0  233.0    1        2      150      0      2.3   \n",
      "9    53.0  1.0  4.0     140.0  203.0    1        2      155      1      3.1   \n",
      "12   56.0  1.0  3.0     130.0  256.0    1        2      142      1      0.6   \n",
      "14   52.0  1.0  3.0     170.0  199.0    1        0      162      0      0.5   \n",
      "21   58.0  0.0  1.5     150.0  283.0    1        2      162      0      1.0   \n",
      "31   60.0  1.0  4.0     117.0  230.0    1        0      160      1      1.4   \n",
      "39   61.0  1.0  3.0     150.0  243.0    1        0      137      1      1.0   \n",
      "43   59.0  1.0  3.0     150.0  212.0    1        0      157      0      1.6   \n",
      "48   65.0  0.0  3.0     140.0  371.0    1        2      157      0      0.8   \n",
      "49   53.0  1.0  3.0     130.0  197.0    1        2      152      0      1.2   \n",
      "63   54.0  0.0  3.0     135.0  304.0    1        0      170      0      0.0   \n",
      "71   67.0  1.0  4.0     125.0  254.0    1        0      163      0      0.2   \n",
      "83   68.0  1.0  3.0     170.0  274.0    1        2      150      1      1.6   \n",
      "103  71.0  0.0  3.0     110.0  265.0    1        2      130      0      0.0   \n",
      "111  56.0  1.0  4.0     125.0  249.0    1        2      144      1      1.2   \n",
      "113  43.0  0.0  4.0     132.0  341.0    1        2      136      1      3.0   \n",
      "116  58.0  1.0  3.0     140.0  211.0    1        2      165      0      0.0   \n",
      "118  63.0  1.0  4.0     130.0  330.0    1        2      132      1      1.8   \n",
      "120  48.0  1.0  4.0     130.0  256.0    1        2      150      1      0.0   \n",
      "124  65.0  1.0  1.5     138.0  282.0    1        2      174      0      1.4   \n",
      "126  56.0  0.0  4.0     170.0  288.0    1        2      133      1      4.0   \n",
      "139  51.0  1.0  3.0     125.0  245.0    1        2      166      0      2.4   \n",
      "142  52.0  1.0  2.0     128.0  205.0    1        0      184      0      0.0   \n",
      "146  57.0  1.0  4.0     165.0  289.0    1        2      124      0      1.0   \n",
      "150  52.0  1.0  1.5     152.0  298.0    1        0      178      0      1.2   \n",
      "160  46.0  1.0  2.0     101.0  197.0    1        0      156      0      0.0   \n",
      "164  48.0  1.0  3.0     124.0  255.0    1        0      175      0      0.0   \n",
      "167  54.0  0.0  2.0     132.0  288.0    1        2      159      1      0.0   \n",
      "176  52.0  1.0  4.0     108.0  233.0    1        0      147      0      0.1   \n",
      "179  53.0  1.0  3.0     130.0  246.0    1        2      173      0      0.0   \n",
      "186  42.0  1.0  3.0     120.0  240.0    1        0      194      0      0.8   \n",
      "192  43.0  1.0  4.0     132.0  247.0    1        2      143      1      0.1   \n",
      "193  62.0  0.0  4.0     138.0  294.0    1        0      106      0      1.9   \n",
      "196  69.0  1.0  1.5     160.0  234.0    1        2      131      0      0.1   \n",
      "202  57.0  1.0  3.0     150.0  126.0    1        0      173      0      0.2   \n",
      "213  66.0  0.0  4.0     170.0  228.0    1        0      165      1      1.0   \n",
      "236  56.0  1.0  4.0     130.0  283.0    1        2      103      1      1.6   \n",
      "244  60.0  0.0  3.0     120.0  178.0    1        0       96      0      0.0   \n",
      "249  62.0  1.0  2.0     128.0  208.0    1        2      140      0      0.0   \n",
      "261  58.0  0.0  2.0     136.0  319.0    1        2      152      0      0.0   \n",
      "266  52.0  1.0  4.0     128.0  204.0    1        0      156      1      1.0   \n",
      "267  59.0  1.0  3.0     126.0  218.0    1        0      134      0      2.2   \n",
      "286  58.0  0.0  4.0     170.0  225.0    1        2      146      1      2.8   \n",
      "296  59.0  1.0  4.0     164.0  176.0    1        2       90      0      1.0   \n",
      "299  68.0  1.0  4.0     144.0  193.0    1        0      141      0      3.4   \n",
      "\n",
      "     slope        ca      thal  num  \n",
      "0        3  0.000000  6.000000    0  \n",
      "9        3  0.000000  7.000000    1  \n",
      "12       2  1.000000  6.000000    2  \n",
      "14       1  0.000000  7.000000    0  \n",
      "21       1  0.000000  3.000000    0  \n",
      "31       1  2.000000  7.000000    2  \n",
      "39       2  0.000000  3.000000    0  \n",
      "43       1  0.000000  3.000000    0  \n",
      "48       1  1.000000  3.000000    0  \n",
      "49       3  0.000000  3.000000    0  \n",
      "63       1  0.000000  3.000000    0  \n",
      "71       2  2.000000  7.000000    3  \n",
      "83       2  0.000000  7.000000    3  \n",
      "103      1  1.000000  3.000000    0  \n",
      "111      2  1.000000  3.000000    1  \n",
      "113      2  0.000000  7.000000    2  \n",
      "116      1  0.000000  3.000000    0  \n",
      "118      1  3.000000  7.000000    3  \n",
      "120      1  2.000000  7.000000    3  \n",
      "124      2  1.000000  3.000000    1  \n",
      "126      3  2.000000  7.000000    3  \n",
      "139      2  0.000000  3.000000    0  \n",
      "142      1  0.000000  3.000000    0  \n",
      "146      2  3.000000  7.000000    4  \n",
      "150      2  0.000000  7.000000    0  \n",
      "160      1  0.000000  7.000000    0  \n",
      "164      1  2.000000  3.000000    0  \n",
      "167      1  1.000000  3.000000    0  \n",
      "176      1  3.000000  7.000000    0  \n",
      "179      1  3.000000  3.000000    0  \n",
      "186      3  0.000000  7.000000    0  \n",
      "192      2  0.672241  7.000000    1  \n",
      "193      2  3.000000  3.000000    2  \n",
      "196      2  1.000000  3.000000    0  \n",
      "202      1  1.000000  7.000000    0  \n",
      "213      2  2.000000  7.000000    3  \n",
      "236      3  0.000000  7.000000    2  \n",
      "244      1  0.000000  3.000000    0  \n",
      "249      1  0.000000  3.000000    0  \n",
      "261      1  2.000000  3.000000    3  \n",
      "266      2  0.000000  4.734219    2  \n",
      "267      2  1.000000  6.000000    2  \n",
      "286      2  2.000000  6.000000    2  \n",
      "296      2  2.000000  6.000000    3  \n",
      "299      2  2.000000  7.000000    2  \n",
      "Outliers in restecg:\n",
      " Empty DataFrame\n",
      "Columns: [age, sex, cp, trestbps, chol, fbs, restecg, thalach, exang, oldpeak, slope, ca, thal, num]\n",
      "Index: []\n",
      "Outliers in thalach:\n",
      "       age  sex   cp  trestbps   chol  fbs  restecg  thalach  exang  oldpeak  \\\n",
      "245  67.0  1.0  4.0     120.0  237.0  0.0      0.0       71      0      1.0   \n",
      "\n",
      "     slope   ca  thal  num  \n",
      "245      2  0.0   3.0    2  \n",
      "Outliers in exang:\n",
      " Empty DataFrame\n",
      "Columns: [age, sex, cp, trestbps, chol, fbs, restecg, thalach, exang, oldpeak, slope, ca, thal, num]\n",
      "Index: []\n",
      "Outliers in oldpeak:\n",
      "       age  sex   cp  trestbps   chol  fbs  restecg  thalach  exang  oldpeak  \\\n",
      "91   62.0  0.0  4.0     160.0  164.0  0.0      2.0    145.0    0.0      6.2   \n",
      "123  55.0  1.0  4.0     140.0  217.0  0.0      0.0    111.0    1.0      5.6   \n",
      "183  59.0  1.0  1.5     170.0  270.0  0.0      2.0    145.0    0.0      4.2   \n",
      "191  51.0  1.0  4.0     140.0  298.0  0.0      0.0    122.0    1.0      4.2   \n",
      "285  58.0  1.0  4.0     114.0  318.0  0.0      1.0    140.0    0.0      4.4   \n",
      "\n",
      "     slope   ca  thal  num  \n",
      "91       3  3.0   7.0    3  \n",
      "123      3  0.0   7.0    3  \n",
      "183      3  0.0   7.0    0  \n",
      "191      2  3.0   7.0    3  \n",
      "285      3  3.0   6.0    4  \n",
      "Outliers in slope:\n",
      " Empty DataFrame\n",
      "Columns: [age, sex, cp, trestbps, chol, fbs, restecg, thalach, exang, oldpeak, slope, ca, thal, num]\n",
      "Index: []\n",
      "Outliers in ca:\n",
      "       age  sex   cp  trestbps   chol  fbs  restecg  thalach  exang  oldpeak  \\\n",
      "1    67.0  1.0  4.0     160.0  286.0  0.0      2.0    108.0    1.0      1.5   \n",
      "40   65.0  0.0  4.0     150.0  225.0  0.0      2.0    114.0    0.0      1.0   \n",
      "62   58.0  1.0  4.0     128.0  216.0  0.0      2.0    131.0    1.0      2.2   \n",
      "91   62.0  0.0  4.0     160.0  164.0  0.0      2.0    145.0    0.0      4.0   \n",
      "92   62.0  1.0  3.0     130.0  231.0  0.0      0.0    146.0    0.0      1.8   \n",
      "104  49.0  1.0  3.0     120.0  188.0  0.0      0.0    139.0    0.0      2.0   \n",
      "118  63.0  1.0  4.0     130.0  330.0  0.0      2.0    132.0    1.0      1.8   \n",
      "121  63.0  0.0  4.0     150.0  371.0  0.0      2.0    154.0    0.0      4.0   \n",
      "146  57.0  1.0  4.0     165.0  289.0  0.0      2.0    124.0    0.0      1.0   \n",
      "155  70.0  1.0  4.0     130.0  322.0  0.0      2.0    109.0    0.0      2.4   \n",
      "161  77.0  1.0  4.0     125.0  304.0  0.0      2.0    162.0    1.0      0.0   \n",
      "176  52.0  1.0  4.0     108.0  233.0  0.0      0.0    147.0    0.0      0.1   \n",
      "179  53.0  1.0  3.0     130.0  246.0  0.0      2.0    173.0    0.0      0.0   \n",
      "187  66.0  1.0  2.0     160.0  246.0  0.0      0.0    120.0    1.0      0.0   \n",
      "189  69.0  1.0  3.0     140.0  254.0  0.0      2.0    146.0    0.0      2.0   \n",
      "191  51.0  1.0  4.0     140.0  298.0  0.0      0.0    122.0    1.0      4.0   \n",
      "193  62.0  0.0  4.0     138.0  294.0  0.0      0.0    106.0    0.0      1.9   \n",
      "205  45.0  1.0  4.0     142.0  309.0  0.0      2.0    147.0    1.0      0.0   \n",
      "232  49.0  1.0  3.0     118.0  149.0  0.0      2.0    126.0    0.0      0.8   \n",
      "285  58.0  1.0  4.0     114.0  318.0  0.0      1.0    140.0    0.0      4.0   \n",
      "\n",
      "     slope   ca  thal  num  \n",
      "1      2.0  3.0   3.0    2  \n",
      "40     2.0  3.0   7.0    4  \n",
      "62     2.0  3.0   7.0    1  \n",
      "91     3.0  3.0   7.0    3  \n",
      "92     2.0  3.0   7.0    0  \n",
      "104    2.0  3.0   7.0    3  \n",
      "118    1.0  3.0   7.0    3  \n",
      "121    2.0  3.0   7.0    4  \n",
      "146    2.0  3.0   7.0    4  \n",
      "155    2.0  3.0   3.0    1  \n",
      "161    1.0  3.0   3.0    4  \n",
      "176    1.0  3.0   7.0    0  \n",
      "179    1.0  3.0   3.0    0  \n",
      "187    2.0  3.0   6.0    2  \n",
      "189    2.0  3.0   7.0    2  \n",
      "191    2.0  3.0   7.0    3  \n",
      "193    2.0  3.0   3.0    2  \n",
      "205    2.0  3.0   7.0    3  \n",
      "232    1.0  3.0   3.0    1  \n",
      "285    3.0  3.0   6.0    4  \n",
      "Outliers in thal:\n",
      " Empty DataFrame\n",
      "Columns: [age, sex, cp, trestbps, chol, fbs, restecg, thalach, exang, oldpeak, slope, ca, thal, num]\n",
      "Index: []\n",
      "Outliers in num:\n",
      " Empty DataFrame\n",
      "Columns: [age, sex, cp, trestbps, chol, fbs, restecg, thalach, exang, oldpeak, slope, ca, thal, num]\n",
      "Index: []\n"
     ]
    }
   ]
  },
  {
   "cell_type": "code",
   "source": [
    "# Verify that outliers have been handled\n",
    "for column in numerical_columns:\n",
    "    outliers = detect_outliers(df, column)\n",
    "    print(f\"Outliers in {column} after capping:\\n\", outliers)"
   ],
   "metadata": {
    "colab": {
     "base_uri": "https://localhost:8080/"
    },
    "id": "hci4LBr2bSGI",
    "outputId": "ed439550-d795-4935-c85d-27232ecdabeb"
   },
   "id": "hci4LBr2bSGI",
   "execution_count": 178,
   "outputs": [
    {
     "output_type": "stream",
     "name": "stdout",
     "text": [
      "Outliers in age after capping:\n",
      " Empty DataFrame\n",
      "Columns: [age, sex, cp, trestbps, chol, fbs, restecg, thalach, exang, oldpeak, slope, ca, thal, num]\n",
      "Index: []\n",
      "Outliers in sex after capping:\n",
      " Empty DataFrame\n",
      "Columns: [age, sex, cp, trestbps, chol, fbs, restecg, thalach, exang, oldpeak, slope, ca, thal, num]\n",
      "Index: []\n",
      "Outliers in cp after capping:\n",
      " Empty DataFrame\n",
      "Columns: [age, sex, cp, trestbps, chol, fbs, restecg, thalach, exang, oldpeak, slope, ca, thal, num]\n",
      "Index: []\n",
      "Outliers in trestbps after capping:\n",
      " Empty DataFrame\n",
      "Columns: [age, sex, cp, trestbps, chol, fbs, restecg, thalach, exang, oldpeak, slope, ca, thal, num]\n",
      "Index: []\n",
      "Outliers in chol after capping:\n",
      " Empty DataFrame\n",
      "Columns: [age, sex, cp, trestbps, chol, fbs, restecg, thalach, exang, oldpeak, slope, ca, thal, num]\n",
      "Index: []\n",
      "Outliers in fbs after capping:\n",
      " Empty DataFrame\n",
      "Columns: [age, sex, cp, trestbps, chol, fbs, restecg, thalach, exang, oldpeak, slope, ca, thal, num]\n",
      "Index: []\n",
      "Outliers in restecg after capping:\n",
      " Empty DataFrame\n",
      "Columns: [age, sex, cp, trestbps, chol, fbs, restecg, thalach, exang, oldpeak, slope, ca, thal, num]\n",
      "Index: []\n",
      "Outliers in thalach after capping:\n",
      " Empty DataFrame\n",
      "Columns: [age, sex, cp, trestbps, chol, fbs, restecg, thalach, exang, oldpeak, slope, ca, thal, num]\n",
      "Index: []\n",
      "Outliers in exang after capping:\n",
      " Empty DataFrame\n",
      "Columns: [age, sex, cp, trestbps, chol, fbs, restecg, thalach, exang, oldpeak, slope, ca, thal, num]\n",
      "Index: []\n",
      "Outliers in oldpeak after capping:\n",
      " Empty DataFrame\n",
      "Columns: [age, sex, cp, trestbps, chol, fbs, restecg, thalach, exang, oldpeak, slope, ca, thal, num]\n",
      "Index: []\n",
      "Outliers in slope after capping:\n",
      " Empty DataFrame\n",
      "Columns: [age, sex, cp, trestbps, chol, fbs, restecg, thalach, exang, oldpeak, slope, ca, thal, num]\n",
      "Index: []\n",
      "Outliers in ca after capping:\n",
      " Empty DataFrame\n",
      "Columns: [age, sex, cp, trestbps, chol, fbs, restecg, thalach, exang, oldpeak, slope, ca, thal, num]\n",
      "Index: []\n",
      "Outliers in thal after capping:\n",
      " Empty DataFrame\n",
      "Columns: [age, sex, cp, trestbps, chol, fbs, restecg, thalach, exang, oldpeak, slope, ca, thal, num]\n",
      "Index: []\n",
      "Outliers in num after capping:\n",
      " Empty DataFrame\n",
      "Columns: [age, sex, cp, trestbps, chol, fbs, restecg, thalach, exang, oldpeak, slope, ca, thal, num]\n",
      "Index: []\n"
     ]
    }
   ]
  },
  {
   "cell_type": "code",
   "source": [
    "# Visualize outliers using box plots\n",
    "plt.figure(figsize=(15, 10))\n",
    "for i, column in enumerate(numerical_columns, 1):\n",
    "    plt.subplot(len(numerical_columns) // 3 + 1, 3, i)\n",
    "    sns.boxplot(x=df[column])\n",
    "    plt.title(f'Box plot of {column}')\n",
    "plt.tight_layout()\n",
    "plt.show()"
   ],
   "metadata": {
    "colab": {
     "base_uri": "https://localhost:8080/",
     "height": 1000
    },
    "id": "ZO6NWAj0bZjw",
    "outputId": "85d6e6b0-b8d4-47fd-bd61-a3c35123dee9"
   },
   "id": "ZO6NWAj0bZjw",
   "execution_count": 179,
   "outputs": [
    {
     "output_type": "display_data",
     "data": {
      "text/plain": [
       "<Figure size 1500x1000 with 14 Axes>"
      ],
      "image/png": "[encoded data removed]"
     },
     "metadata": {}
    }
   ]
  },
  {
   "cell_type": "markdown",
   "metadata": {
    "id": "e6b49a83-1dd0-4e47-b6b1-8a6435eb9fb6"
   },
   "source": [
    "## 3.2 Drop textual data\n",
    "* Unnamed column has no useful information, need to drop\n",
    "* Column info is a summary information which can be found in other columns, thus can be dropped"
   ],
   "id": "e6b49a83-1dd0-4e47-b6b1-8a6435eb9fb6"
  },
  {
   "cell_type": "code",
   "metadata": {
    "id": "a5e55386-7c80-4711-aac1-c38a3e003f44",
    "colab": {
     "base_uri": "https://localhost:8080/",
     "height": 206
    },
    "outputId": "f66e92fa-5c15-400e-a60b-8f8934a6aab1"
   },
   "source": [
    "df.head()"
   ],
   "id": "a5e55386-7c80-4711-aac1-c38a3e003f44",
   "execution_count": 137,
   "outputs": [
    {
     "output_type": "execute_result",
     "data": {
      "text/plain": [
       "   age  sex  cp  trestbps  chol  fbs  restecg  thalach  exang  oldpeak  slope  \\\n",
       "0   63    1   1       145   233    1        2      150      0      2.3      3   \n",
       "1   67    1   4       160   286    0        2      108      1      1.5      2   \n",
       "2   67    1   4       120   229    0        2      129      1      2.6      2   \n",
       "3   37    1   3       130   250    0        0      187      0      3.5      3   \n",
       "4   41    0   2       130   204    0        2      172      0      1.4      1   \n",
       "\n",
       "    ca  thal  num  \n",
       "0  0.0   6.0    0  \n",
       "1  3.0   3.0    2  \n",
       "2  2.0   7.0    1  \n",
       "3  0.0   3.0    0  \n",
       "4  0.0   3.0    0  "
      ],
      "text/html": [
       "\n",
       "  <div id=\"df-0b20b961-92bc-4450-9dba-ab8daaee365e\" class=\"colab-df-container\">\n",
       "    <div>\n",
       "<style scoped>\n",
       "    .dataframe tbody tr th:only-of-type {\n",
       "        vertical-align: middle;\n",
       "    }\n",
       "\n",
       "    .dataframe tbody tr th {\n",
       "        vertical-align: top;\n",
       "    }\n",
       "\n",
       "    .dataframe thead th {\n",
       "        text-align: right;\n",
       "    }\n",
       "</style>\n",
       "<table border=\"1\" class=\"dataframe\">\n",
       "  <thead>\n",
       "    <tr style=\"text-align: right;\">\n",
       "      <th></th>\n",
       "      <th>age</th>\n",
       "      <th>sex</th>\n",
       "      <th>cp</th>\n",
       "      <th>trestbps</th>\n",
       "      <th>chol</th>\n",
       "      <th>fbs</th>\n",
       "      <th>restecg</th>\n",
       "      <th>thalach</th>\n",
       "      <th>exang</th>\n",
       "      <th>oldpeak</th>\n",
       "      <th>slope</th>\n",
       "      <th>ca</th>\n",
       "      <th>thal</th>\n",
       "      <th>num</th>\n",
       "    </tr>\n",
       "  </thead>\n",
       "  <tbody>\n",
       "    <tr>\n",
       "      <th>0</th>\n",
       "      <td>63</td>\n",
       "      <td>1</td>\n",
       "      <td>1</td>\n",
       "      <td>145</td>\n",
       "      <td>233</td>\n",
       "      <td>1</td>\n",
       "      <td>2</td>\n",
       "      <td>150</td>\n",
       "      <td>0</td>\n",
       "      <td>2.3</td>\n",
       "      <td>3</td>\n",
       "      <td>0.0</td>\n",
       "      <td>6.0</td>\n",
       "      <td>0</td>\n",
       "    </tr>\n",
       "    <tr>\n",
       "      <th>1</th>\n",
       "      <td>67</td>\n",
       "      <td>1</td>\n",
       "      <td>4</td>\n",
       "      <td>160</td>\n",
       "      <td>286</td>\n",
       "      <td>0</td>\n",
       "      <td>2</td>\n",
       "      <td>108</td>\n",
       "      <td>1</td>\n",
       "      <td>1.5</td>\n",
       "      <td>2</td>\n",
       "      <td>3.0</td>\n",
       "      <td>3.0</td>\n",
       "      <td>2</td>\n",
       "    </tr>\n",
       "    <tr>\n",
       "      <th>2</th>\n",
       "      <td>67</td>\n",
       "      <td>1</td>\n",
       "      <td>4</td>\n",
       "      <td>120</td>\n",
       "      <td>229</td>\n",
       "      <td>0</td>\n",
       "      <td>2</td>\n",
       "      <td>129</td>\n",
       "      <td>1</td>\n",
       "      <td>2.6</td>\n",
       "      <td>2</td>\n",
       "      <td>2.0</td>\n",
       "      <td>7.0</td>\n",
       "      <td>1</td>\n",
       "    </tr>\n",
       "    <tr>\n",
       "      <th>3</th>\n",
       "      <td>37</td>\n",
       "      <td>1</td>\n",
       "      <td>3</td>\n",
       "      <td>130</td>\n",
       "      <td>250</td>\n",
       "      <td>0</td>\n",
       "      <td>0</td>\n",
       "      <td>187</td>\n",
       "      <td>0</td>\n",
       "      <td>3.5</td>\n",
       "      <td>3</td>\n",
       "      <td>0.0</td>\n",
       "      <td>3.0</td>\n",
       "      <td>0</td>\n",
       "    </tr>\n",
       "    <tr>\n",
       "      <th>4</th>\n",
       "      <td>41</td>\n",
       "      <td>0</td>\n",
       "      <td>2</td>\n",
       "      <td>130</td>\n",
       "      <td>204</td>\n",
       "      <td>0</td>\n",
       "      <td>2</td>\n",
       "      <td>172</td>\n",
       "      <td>0</td>\n",
       "      <td>1.4</td>\n",
       "      <td>1</td>\n",
       "      <td>0.0</td>\n",
       "      <td>3.0</td>\n",
       "      <td>0</td>\n",
       "    </tr>\n",
       "  </tbody>\n",
       "</table>\n",
       "</div>\n",
       "    <div class=\"colab-df-buttons\">\n",
       "\n",
       "  <div class=\"colab-df-container\">\n",
       "    <button class=\"colab-df-convert\" onclick=\"convertToInteractive('df-0b20b961-92bc-4450-9dba-ab8daaee365e')\"\n",
       "            title=\"Convert this dataframe to an interactive table.\"\n",
       "            style=\"display:none;\">\n",
       "\n",
       "  <svg xmlns=\"http://www.w3.org/2000/svg\" height=\"24px\" viewBox=\"0 -960 960 960\">\n",
       "    <path d=\"M120-120v-720h720v720H120Zm60-500h600v-160H180v160Zm220 220h160v-160H400v160Zm0 220h160v-160H400v160ZM180-400h160v-160H180v160Zm440 0h160v-160H620v160ZM180-180h160v-160H180v160Zm440 0h160v-160H620v160Z\"/>\n",
       "  </svg>\n",
       "    </button>\n",
       "\n",
       "  <style>\n",
       "    .colab-df-container {\n",
       "      display:flex;\n",
       "      gap: 12px;\n",
       "    }\n",
       "\n",
       "    .colab-df-convert {\n",
       "      background-color: #E8F0FE;\n",
       "      border: none;\n",
       "      border-radius: 50%;\n",
       "      cursor: pointer;\n",
       "      display: none;\n",
       "      fill: #1967D2;\n",
       "      height: 32px;\n",
       "      padding: 0 0 0 0;\n",
       "      width: 32px;\n",
       "    }\n",
       "\n",
       "    .colab-df-convert:hover {\n",
       "      background-color: #E2EBFA;\n",
       "      box-shadow: 0px 1px 2px rgba(60, 64, 67, 0.3), 0px 1px 3px 1px rgba(60, 64, 67, 0.15);\n",
       "      fill: #174EA6;\n",
       "    }\n",
       "\n",
       "    .colab-df-buttons div {\n",
       "      margin-bottom: 4px;\n",
       "    }\n",
       "\n",
       "    [theme=dark] .colab-df-convert {\n",
       "      background-color: #3B4455;\n",
       "      fill: #D2E3FC;\n",
       "    }\n",
       "\n",
       "    [theme=dark] .colab-df-convert:hover {\n",
       "      background-color: #434B5C;\n",
       "      box-shadow: 0px 1px 3px 1px rgba(0, 0, 0, 0.15);\n",
       "      filter: drop-shadow(0px 1px 2px rgba(0, 0, 0, 0.3));\n",
       "      fill: #FFFFFF;\n",
       "    }\n",
       "  </style>\n",
       "\n",
       "    <script>\n",
       "      const buttonEl =\n",
       "        document.querySelector('#df-0b20b961-92bc-4450-9dba-ab8daaee365e button.colab-df-convert');\n",
       "      buttonEl.style.display =\n",
       "        google.colab.kernel.accessAllowed ? 'block' : 'none';\n",
       "\n",
       "      async function convertToInteractive(key) {\n",
       "        const element = document.querySelector('#df-0b20b961-92bc-4450-9dba-ab8daaee365e');\n",
       "        const dataTable =\n",
       "          await google.colab.kernel.invokeFunction('convertToInteractive',\n",
       "                                                    [key], {});\n",
       "        if (!dataTable) return;\n",
       "\n",
       "        const docLinkHtml = 'Like what you see? Visit the ' +\n",
       "          '<a target=\"_blank\" href=https://colab.research.google.com/notebooks/data_table.ipynb>data table notebook</a>'\n",
       "          + ' to learn more about interactive tables.';\n",
       "        element.innerHTML = '';\n",
       "        dataTable['output_type'] = 'display_data';\n",
       "        await google.colab.output.renderOutput(dataTable, element);\n",
       "        const docLink = document.createElement('div');\n",
       "        docLink.innerHTML = docLinkHtml;\n",
       "        element.appendChild(docLink);\n",
       "      }\n",
       "    </script>\n",
       "  </div>\n",
       "\n",
       "\n",
       "<div id=\"df-a0736f35-5c46-4811-beff-9dedc1fb7768\">\n",
       "  <button class=\"colab-df-quickchart\" onclick=\"quickchart('df-a0736f35-5c46-4811-beff-9dedc1fb7768')\"\n",
       "            title=\"Suggest charts\"\n",
       "            style=\"display:none;\">\n",
       "\n",
       "<svg xmlns=\"http://www.w3.org/2000/svg\" height=\"24px\"viewBox=\"0 0 24 24\"\n",
       "     width=\"24px\">\n",
       "    <g>\n",
       "        <path d=\"M19 3H5c-1.1 0-2 .9-2 2v14c0 1.1.9 2 2 2h14c1.1 0 2-.9 2-2V5c0-1.1-.9-2-2-2zM9 17H7v-7h2v7zm4 0h-2V7h2v10zm4 0h-2v-4h2v4z\"/>\n",
       "    </g>\n",
       "</svg>\n",
       "  </button>\n",
       "\n",
       "<style>\n",
       "  .colab-df-quickchart {\n",
       "      --bg-color: #E8F0FE;\n",
       "      --fill-color: #1967D2;\n",
       "      --hover-bg-color: #E2EBFA;\n",
       "      --hover-fill-color: #174EA6;\n",
       "      --disabled-fill-color: #AAA;\n",
       "      --disabled-bg-color: #DDD;\n",
       "  }\n",
       "\n",
       "  [theme=dark] .colab-df-quickchart {\n",
       "      --bg-color: #3B4455;\n",
       "      --fill-color: #D2E3FC;\n",
       "      --hover-bg-color: #434B5C;\n",
       "      --hover-fill-color: #FFFFFF;\n",
       "      --disabled-bg-color: #3B4455;\n",
       "      --disabled-fill-color: #666;\n",
       "  }\n",
       "\n",
       "  .colab-df-quickchart {\n",
       "    background-color: var(--bg-color);\n",
       "    border: none;\n",
       "    border-radius: 50%;\n",
       "    cursor: pointer;\n",
       "    display: none;\n",
       "    fill: var(--fill-color);\n",
       "    height: 32px;\n",
       "    padding: 0;\n",
       "    width: 32px;\n",
       "  }\n",
       "\n",
       "  .colab-df-quickchart:hover {\n",
       "    background-color: var(--hover-bg-color);\n",
       "    box-shadow: 0 1px 2px rgba(60, 64, 67, 0.3), 0 1px 3px 1px rgba(60, 64, 67, 0.15);\n",
       "    fill: var(--button-hover-fill-color);\n",
       "  }\n",
       "\n",
       "  .colab-df-quickchart-complete:disabled,\n",
       "  .colab-df-quickchart-complete:disabled:hover {\n",
       "    background-color: var(--disabled-bg-color);\n",
       "    fill: var(--disabled-fill-color);\n",
       "    box-shadow: none;\n",
       "  }\n",
       "\n",
       "  .colab-df-spinner {\n",
       "    border: 2px solid var(--fill-color);\n",
       "    border-color: transparent;\n",
       "    border-bottom-color: var(--fill-color);\n",
       "    animation:\n",
       "      spin 1s steps(1) infinite;\n",
       "  }\n",
       "\n",
       "  @keyframes spin {\n",
       "    0% {\n",
       "      border-color: transparent;\n",
       "      border-bottom-color: var(--fill-color);\n",
       "      border-left-color: var(--fill-color);\n",
       "    }\n",
       "    20% {\n",
       "      border-color: transparent;\n",
       "      border-left-color: var(--fill-color);\n",
       "      border-top-color: var(--fill-color);\n",
       "    }\n",
       "    30% {\n",
       "      border-color: transparent;\n",
       "      border-left-color: var(--fill-color);\n",
       "      border-top-color: var(--fill-color);\n",
       "      border-right-color: var(--fill-color);\n",
       "    }\n",
       "    40% {\n",
       "      border-color: transparent;\n",
       "      border-right-color: var(--fill-color);\n",
       "      border-top-color: var(--fill-color);\n",
       "    }\n",
       "    60% {\n",
       "      border-color: transparent;\n",
       "      border-right-color: var(--fill-color);\n",
       "    }\n",
       "    80% {\n",
       "      border-color: transparent;\n",
       "      border-right-color: var(--fill-color);\n",
       "      border-bottom-color: var(--fill-color);\n",
       "    }\n",
       "    90% {\n",
       "      border-color: transparent;\n",
       "      border-bottom-color: var(--fill-color);\n",
       "    }\n",
       "  }\n",
       "</style>\n",
       "\n",
       "  <script>\n",
       "    async function quickchart(key) {\n",
       "      const quickchartButtonEl =\n",
       "        document.querySelector('#' + key + ' button');\n",
       "      quickchartButtonEl.disabled = true;  // To prevent multiple clicks.\n",
       "      quickchartButtonEl.classList.add('colab-df-spinner');\n",
       "      try {\n",
       "        const charts = await google.colab.kernel.invokeFunction(\n",
       "            'suggestCharts', [key], {});\n",
       "      } catch (error) {\n",
       "        console.error('Error during call to suggestCharts:', error);\n",
       "      }\n",
       "      quickchartButtonEl.classList.remove('colab-df-spinner');\n",
       "      quickchartButtonEl.classList.add('colab-df-quickchart-complete');\n",
       "    }\n",
       "    (() => {\n",
       "      let quickchartButtonEl =\n",
       "        document.querySelector('#df-a0736f35-5c46-4811-beff-9dedc1fb7768 button');\n",
       "      quickchartButtonEl.style.display =\n",
       "        google.colab.kernel.accessAllowed ? 'block' : 'none';\n",
       "    })();\n",
       "  </script>\n",
       "</div>\n",
       "\n",
       "    </div>\n",
       "  </div>\n"
      ],
      "application/vnd.google.colaboratory.intrinsic+json": {
       "type": "dataframe",
       "variable_name": "df",
       "summary": "{\n  \"name\": \"df\",\n  \"rows\": 303,\n  \"fields\": [\n    {\n      \"column\": \"age\",\n      \"properties\": {\n        \"dtype\": \"number\",\n        \"std\": 9,\n        \"min\": 29,\n        \"max\": 77,\n        \"num_unique_values\": 41,\n        \"samples\": [\n          61,\n          64,\n          44\n        ],\n        \"semantic_type\": \"\",\n        \"description\": \"\"\n      }\n    },\n    {\n      \"column\": \"sex\",\n      \"properties\": {\n        \"dtype\": \"number\",\n        \"std\": 0,\n        \"min\": 0,\n        \"max\": 1,\n        \"num_unique_values\": 2,\n        \"samples\": [\n          0,\n          1\n        ],\n        \"semantic_type\": \"\",\n        \"description\": \"\"\n      }\n    },\n    {\n      \"column\": \"cp\",\n      \"properties\": {\n        \"dtype\": \"number\",\n        \"std\": 0,\n        \"min\": 1,\n        \"max\": 4,\n        \"num_unique_values\": 4,\n        \"samples\": [\n          4,\n          2\n        ],\n        \"semantic_type\": \"\",\n        \"description\": \"\"\n      }\n    },\n    {\n      \"column\": \"trestbps\",\n      \"properties\": {\n        \"dtype\": \"number\",\n        \"std\": 17,\n        \"min\": 94,\n        \"max\": 200,\n        \"num_unique_values\": 50,\n        \"samples\": [\n          124,\n          192\n        ],\n        \"semantic_type\": \"\",\n        \"description\": \"\"\n      }\n    },\n    {\n      \"column\": \"chol\",\n      \"properties\": {\n        \"dtype\": \"number\",\n        \"std\": 51,\n        \"min\": 126,\n        \"max\": 564,\n        \"num_unique_values\": 152,\n        \"samples\": [\n          321,\n          187\n        ],\n        \"semantic_type\": \"\",\n        \"description\": \"\"\n      }\n    },\n    {\n      \"column\": \"fbs\",\n      \"properties\": {\n        \"dtype\": \"number\",\n        \"std\": 0,\n        \"min\": 0,\n        \"max\": 1,\n        \"num_unique_values\": 2,\n        \"samples\": [\n          0,\n          1\n        ],\n        \"semantic_type\": \"\",\n        \"description\": \"\"\n      }\n    },\n    {\n      \"column\": \"restecg\",\n      \"properties\": {\n        \"dtype\": \"number\",\n        \"std\": 0,\n        \"min\": 0,\n        \"max\": 2,\n        \"num_unique_values\": 3,\n        \"samples\": [\n          2,\n          0\n        ],\n        \"semantic_type\": \"\",\n        \"description\": \"\"\n      }\n    },\n    {\n      \"column\": \"thalach\",\n      \"properties\": {\n        \"dtype\": \"number\",\n        \"std\": 22,\n        \"min\": 71,\n        \"max\": 202,\n        \"num_unique_values\": 91,\n        \"samples\": [\n          170,\n          114\n        ],\n        \"semantic_type\": \"\",\n        \"description\": \"\"\n      }\n    },\n    {\n      \"column\": \"exang\",\n      \"properties\": {\n        \"dtype\": \"number\",\n        \"std\": 0,\n        \"min\": 0,\n        \"max\": 1,\n        \"num_unique_values\": 2,\n        \"samples\": [\n          1,\n          0\n        ],\n        \"semantic_type\": \"\",\n        \"description\": \"\"\n      }\n    },\n    {\n      \"column\": \"oldpeak\",\n      \"properties\": {\n        \"dtype\": \"number\",\n        \"std\": 1.1610750220686348,\n        \"min\": 0.0,\n        \"max\": 6.2,\n        \"num_unique_values\": 40,\n        \"samples\": [\n          2.4,\n          0.2\n        ],\n        \"semantic_type\": \"\",\n        \"description\": \"\"\n      }\n    },\n    {\n      \"column\": \"slope\",\n      \"properties\": {\n        \"dtype\": \"number\",\n        \"std\": 0,\n        \"min\": 1,\n        \"max\": 3,\n        \"num_unique_values\": 3,\n        \"samples\": [\n          3,\n          2\n        ],\n        \"semantic_type\": \"\",\n        \"description\": \"\"\n      }\n    },\n    {\n      \"column\": \"ca\",\n      \"properties\": {\n        \"dtype\": \"number\",\n        \"std\": 0.9312094227120484,\n        \"min\": 0.0,\n        \"max\": 3.0,\n        \"num_unique_values\": 5,\n        \"samples\": [\n          3.0,\n          0.6722408026755853\n        ],\n        \"semantic_type\": \"\",\n        \"description\": \"\"\n      }\n    },\n    {\n      \"column\": \"thal\",\n      \"properties\": {\n        \"dtype\": \"number\",\n        \"std\": 1.9332722333492514,\n        \"min\": 3.0,\n        \"max\": 7.0,\n        \"num_unique_values\": 4,\n        \"samples\": [\n          3.0,\n          4.73421926910299\n        ],\n        \"semantic_type\": \"\",\n        \"description\": \"\"\n      }\n    },\n    {\n      \"column\": \"num\",\n      \"properties\": {\n        \"dtype\": \"number\",\n        \"std\": 1,\n        \"min\": 0,\n        \"max\": 4,\n        \"num_unique_values\": 5,\n        \"samples\": [\n          2,\n          4\n        ],\n        \"semantic_type\": \"\",\n        \"description\": \"\"\n      }\n    }\n  ]\n}"
      }
     },
     "metadata": {},
     "execution_count": 137
    }
   ]
  },
  {
   "cell_type": "markdown",
   "metadata": {
    "id": "99832823-624e-422d-837c-a7eaf29a4bda"
   },
   "source": [
    "## 3.3 Convert Categorical columns to  numerical values using OneHotEncoder or to_categorical()\n",
    "\n",
    "* `num`"
   ],
   "id": "99832823-624e-422d-837c-a7eaf29a4bda"
  },
  {
   "cell_type": "markdown",
   "metadata": {
    "id": "3ab395fe-cdf4-4c40-bcf8-c3058ccebe2f"
   },
   "source": [
    "## 3.4 Convert <Column> type to datatype"
   ],
   "id": "3ab395fe-cdf4-4c40-bcf8-c3058ccebe2f"
  },
  {
   "cell_type": "code",
   "metadata": {
    "id": "9db67bb3-bebc-40ad-bd39-a50e5bb627ce",
    "colab": {
     "base_uri": "https://localhost:8080/"
    },
    "outputId": "5b615daf-252b-4c39-d0dd-4fc1b87472fa"
   },
   "source": [
    "df.info()"
   ],
   "id": "9db67bb3-bebc-40ad-bd39-a50e5bb627ce",
   "execution_count": 138,
   "outputs": [
    {
     "output_type": "stream",
     "name": "stdout",
     "text": [
      "<class 'pandas.core.frame.DataFrame'>\n",
      "RangeIndex: 303 entries, 0 to 302\n",
      "Data columns (total 14 columns):\n",
      " #   Column    Non-Null Count  Dtype  \n",
      "---  ------    --------------  -----  \n",
      " 0   age       303 non-null    int64  \n",
      " 1   sex       303 non-null    int64  \n",
      " 2   cp        303 non-null    int64  \n",
      " 3   trestbps  303 non-null    int64  \n",
      " 4   chol      303 non-null    int64  \n",
      " 5   fbs       303 non-null    int64  \n",
      " 6   restecg   303 non-null    int64  \n",
      " 7   thalach   303 non-null    int64  \n",
      " 8   exang     303 non-null    int64  \n",
      " 9   oldpeak   303 non-null    float64\n",
      " 10  slope     303 non-null    int64  \n",
      " 11  ca        303 non-null    float64\n",
      " 12  thal      303 non-null    float64\n",
      " 13  num       303 non-null    int64  \n",
      "dtypes: float64(3), int64(11)\n",
      "memory usage: 33.3 KB\n"
     ]
    }
   ]
  },
  {
   "cell_type": "markdown",
   "metadata": {
    "id": "27f40120-f66b-4409-a7df-0af248c98291"
   },
   "source": [
    "# 4 Train Test split\n",
    "\n",
    "\n",
    "\n",
    "```\n",
    "# [X_train , y_train] --> ML Algorithm()\n",
    "\n",
    "X_test --> ML Algorithm() --> y_predicated_value\n",
    "\n",
    "y_predicated_value == y_test\n",
    "1. Calculate Accuracy\n",
    "2. create Confusion Matrix\n",
    "```\n"
   ],
   "id": "27f40120-f66b-4409-a7df-0af248c98291"
  },
  {
   "cell_type": "code",
   "source": [
    "from sklearn.model_selection import train_test_split, GridSearchCV\n",
    "from sklearn.preprocessing import StandardScaler, OneHotEncoder\n",
    "from sklearn.neighbors import KNeighborsClassifier\n",
    "from sklearn.metrics import confusion_matrix, f1_score, accuracy_score, precision_score\n",
    "from sklearn.compose import ColumnTransformer\n",
    "from sklearn.pipeline import Pipeline\n",
    "\n",
    "\n",
    "nums = ['age','thalach','oldpeak']\n",
    "cat = ['cp','slope','thal']\n",
    "\n",
    "# # Split the dataset\n",
    "# X = df.iloc[:, 0:13]\n",
    "# y = df.iloc[:, 13]\n",
    "\n",
    "# # Alternatively\n",
    "# X = df.drop('num', axis=1)  # Features (all columns except the target)\n",
    "# y = df['num'] # Multiple target (0, 1, 2, 3, 4)  # Binary target (0 = No CAD, 1 = CAD)\n",
    "\n",
    "# The 'num' column is the target and has 5 classes (0 to 4)\n",
    "X = df.drop('num', axis=1).values  # Features (all columns except 'num')\n",
    "y = df['num'].values  # Multi-class target (0 to 4)\n"
   ],
   "metadata": {
    "id": "G-K1RdYvb9pP"
   },
   "id": "G-K1RdYvb9pP",
   "execution_count": 139,
   "outputs": []
  },
  {
   "cell_type": "markdown",
   "source": [
    "### Unique target `num` Values"
   ],
   "metadata": {
    "id": "egpq_amgZzI3"
   },
   "id": "egpq_amgZzI3"
  },
  {
   "cell_type": "code",
   "source": [
    "np.unique(y)"
   ],
   "metadata": {
    "colab": {
     "base_uri": "https://localhost:8080/"
    },
    "id": "feJ0CbxETvwm",
    "outputId": "6d6f9945-606f-4c1e-c749-6db3b1f7b29c"
   },
   "id": "feJ0CbxETvwm",
   "execution_count": 140,
   "outputs": [
    {
     "output_type": "execute_result",
     "data": {
      "text/plain": [
       "array([0, 1, 2, 3, 4])"
      ]
     },
     "metadata": {},
     "execution_count": 140
    }
   ]
  },
  {
   "cell_type": "markdown",
   "source": [
    "# Classfication\n",
    "\n",
    "Keras binary classifier"
   ],
   "metadata": {
    "id": "kWELLiYY1oT9"
   },
   "id": "kWELLiYY1oT9"
  },
  {
   "cell_type": "markdown",
   "metadata": {
    "id": "ec750a12-a6d5-4cbf-a556-3ff5ff0a27c8"
   },
   "source": [
    "# 5. KNN Classifier"
   ],
   "id": "ec750a12-a6d5-4cbf-a556-3ff5ff0a27c8"
  },
  {
   "cell_type": "markdown",
   "source": [
    "### Pre-Processing - Feature Engineering"
   ],
   "metadata": {
    "id": "xwjb2Bw_FYzW"
   },
   "id": "xwjb2Bw_FYzW"
  },
  {
   "cell_type": "code",
   "source": [
    "# Setup the preprocessing pipeline\n",
    "preprocessor = ColumnTransformer(\n",
    "    transformers=[\n",
    "        ('num', StandardScaler(), nums),\n",
    "        ('cat', OneHotEncoder(), cat)\n",
    "    ])"
   ],
   "metadata": {
    "id": "qDvkVtqCFbNH"
   },
   "id": "qDvkVtqCFbNH",
   "execution_count": 14,
   "outputs": []
  },
  {
   "cell_type": "markdown",
   "source": [
    "### Setup Pipeline"
   ],
   "metadata": {
    "id": "XO5d1X7DDyc6"
   },
   "id": "XO5d1X7DDyc6"
  },
  {
   "cell_type": "code",
   "metadata": {
    "id": "36732e0a-e1c5-484b-8fc3-7a308eda809a"
   },
   "source": [
    "# Create the pipeline\n",
    "pipeline = Pipeline(steps=[('preprocessor', preprocessor),\n",
    "                           ('classifier', KNeighborsClassifier())])"
   ],
   "id": "36732e0a-e1c5-484b-8fc3-7a308eda809a",
   "execution_count": 15,
   "outputs": []
  },
  {
   "cell_type": "markdown",
   "metadata": {
    "id": "ee03c23d-303d-4d56-afb8-034899497b9f"
   },
   "source": [
    "### Hyperparameter setup"
   ],
   "id": "ee03c23d-303d-4d56-afb8-034899497b9f"
  },
  {
   "cell_type": "code",
   "metadata": {
    "id": "817535cc-6cce-4517-8ca7-de54d86c51d0"
   },
   "source": [
    "# Specify the hyperparameter space\n",
    "parameters = {'classifier__n_neighbors': [13],\n",
    "              'classifier__p': [2],\n",
    "              'classifier__metric': ['euclidean']}"
   ],
   "id": "817535cc-6cce-4517-8ca7-de54d86c51d0",
   "execution_count": 16,
   "outputs": []
  },
  {
   "cell_type": "markdown",
   "source": [
    "### Split Data"
   ],
   "metadata": {
    "id": "ZHPVDRYxwxM4"
   },
   "id": "ZHPVDRYxwxM4"
  },
  {
   "cell_type": "code",
   "source": [
    "# # Alternatively\n",
    "# Binary target (0 = No CAD, 1 = CAD)\n",
    "\n",
    "# The 'num' column is the target and has 5 classes (0 to 4)\n",
    "X = df.drop('num', axis=1)  # Features (all columns except the target 'num')\n",
    "y = df['num']  # Multi-class target (0, 1, 2, 3, 4)"
   ],
   "metadata": {
    "id": "rEYkhF2GM7Zn"
   },
   "id": "rEYkhF2GM7Zn",
   "execution_count": 19,
   "outputs": []
  },
  {
   "cell_type": "code",
   "source": [
    "from sklearn.model_selection import train_test_split\n",
    "\n",
    "X_train, X_test, y_train, y_test = train_test_split(X, y, random_state=0, test_size=0.2, shuffle=True)"
   ],
   "metadata": {
    "id": "rnD0AZqKwa0z"
   },
   "id": "rnD0AZqKwa0z",
   "execution_count": 20,
   "outputs": []
  },
  {
   "cell_type": "markdown",
   "metadata": {
    "id": "ba5a760b-9884-4036-92b7-63fa9f66a673"
   },
   "source": [
    "### Fit and predict"
   ],
   "id": "ba5a760b-9884-4036-92b7-63fa9f66a673"
  },
  {
   "cell_type": "code",
   "metadata": {
    "id": "6e808777-4d79-4183-89ca-9e1c4f97f29a",
    "colab": {
     "base_uri": "https://localhost:8080/",
     "height": 214
    },
    "outputId": "11b807ed-5368-4cbf-9ee0-7912efc37c04"
   },
   "source": [
    "# Set up GridSearchCV\n",
    "grid_search = GridSearchCV(pipeline, param_grid=parameters, cv=5)\n",
    "\n",
    "# Fit the model\n",
    "grid_search.fit(X_train, y_train)\n"
   ],
   "id": "6e808777-4d79-4183-89ca-9e1c4f97f29a",
   "execution_count": 21,
   "outputs": [
    {
     "output_type": "execute_result",
     "data": {
      "text/plain": [
       "GridSearchCV(cv=5,\n",
       "             estimator=Pipeline(steps=[('preprocessor',\n",
       "                                        ColumnTransformer(transformers=[('num',\n",
       "                                                                         StandardScaler(),\n",
       "                                                                         ['age',\n",
       "                                                                          'thalach',\n",
       "                                                                          'oldpeak']),\n",
       "                                                                        ('cat',\n",
       "                                                                         OneHotEncoder(),\n",
       "                                                                         ['cp',\n",
       "                                                                          'slope',\n",
       "                                                                          'thal'])])),\n",
       "                                       ('classifier', KNeighborsClassifier())]),\n",
       "             param_grid={'classifier__metric': ['euclidean'],\n",
       "                         'classifier__n_neighbors': [13],\n",
       "                         'classifier__p': [2]})"
      ],
      "text/html": [
       "<style>#sk-container-id-1 {color: black;}#sk-container-id-1 pre{padding: 0;}#sk-container-id-1 div.sk-toggleable {background-color: white;}#sk-container-id-1 label.sk-toggleable__label {cursor: pointer;display: block;width: 100%;margin-bottom: 0;padding: 0.3em;box-sizing: border-box;text-align: center;}#sk-container-id-1 label.sk-toggleable__label-arrow:before {content: \"▸\";float: left;margin-right: 0.25em;color: #696969;}#sk-container-id-1 label.sk-toggleable__label-arrow:hover:before {color: black;}#sk-container-id-1 div.sk-estimator:hover label.sk-toggleable__label-arrow:before {color: black;}#sk-container-id-1 div.sk-toggleable__content {max-height: 0;max-width: 0;overflow: hidden;text-align: left;background-color: #f0f8ff;}#sk-container-id-1 div.sk-toggleable__content pre {margin: 0.2em;color: black;border-radius: 0.25em;background-color: #f0f8ff;}#sk-container-id-1 input.sk-toggleable__control:checked~div.sk-toggleable__content {max-height: 200px;max-width: 100%;overflow: auto;}#sk-container-id-1 input.sk-toggleable__control:checked~label.sk-toggleable__label-arrow:before {content: \"▾\";}#sk-container-id-1 div.sk-estimator input.sk-toggleable__control:checked~label.sk-toggleable__label {background-color: #d4ebff;}#sk-container-id-1 div.sk-label input.sk-toggleable__control:checked~label.sk-toggleable__label {background-color: #d4ebff;}#sk-container-id-1 input.sk-hidden--visually {border: 0;clip: rect(1px 1px 1px 1px);clip: rect(1px, 1px, 1px, 1px);height: 1px;margin: -1px;overflow: hidden;padding: 0;position: absolute;width: 1px;}#sk-container-id-1 div.sk-estimator {font-family: monospace;background-color: #f0f8ff;border: 1px dotted black;border-radius: 0.25em;box-sizing: border-box;margin-bottom: 0.5em;}#sk-container-id-1 div.sk-estimator:hover {background-color: #d4ebff;}#sk-container-id-1 div.sk-parallel-item::after {content: \"\";width: 100%;border-bottom: 1px solid gray;flex-grow: 1;}#sk-container-id-1 div.sk-label:hover label.sk-toggleable__label {background-color: #d4ebff;}#sk-container-id-1 div.sk-serial::before {content: \"\";position: absolute;border-left: 1px solid gray;box-sizing: border-box;top: 0;bottom: 0;left: 50%;z-index: 0;}#sk-container-id-1 div.sk-serial {display: flex;flex-direction: column;align-items: center;background-color: white;padding-right: 0.2em;padding-left: 0.2em;position: relative;}#sk-container-id-1 div.sk-item {position: relative;z-index: 1;}#sk-container-id-1 div.sk-parallel {display: flex;align-items: stretch;justify-content: center;background-color: white;position: relative;}#sk-container-id-1 div.sk-item::before, #sk-container-id-1 div.sk-parallel-item::before {content: \"\";position: absolute;border-left: 1px solid gray;box-sizing: border-box;top: 0;bottom: 0;left: 50%;z-index: -1;}#sk-container-id-1 div.sk-parallel-item {display: flex;flex-direction: column;z-index: 1;position: relative;background-color: white;}#sk-container-id-1 div.sk-parallel-item:first-child::after {align-self: flex-end;width: 50%;}#sk-container-id-1 div.sk-parallel-item:last-child::after {align-self: flex-start;width: 50%;}#sk-container-id-1 div.sk-parallel-item:only-child::after {width: 0;}#sk-container-id-1 div.sk-dashed-wrapped {border: 1px dashed gray;margin: 0 0.4em 0.5em 0.4em;box-sizing: border-box;padding-bottom: 0.4em;background-color: white;}#sk-container-id-1 div.sk-label label {font-family: monospace;font-weight: bold;display: inline-block;line-height: 1.2em;}#sk-container-id-1 div.sk-label-container {text-align: center;}#sk-container-id-1 div.sk-container {/* jupyter's `normalize.less` sets `[hidden] { display: none; }` but bootstrap.min.css set `[hidden] { display: none !important; }` so we also need the `!important` here to be able to override the default hidden behavior on the sphinx rendered scikit-learn.org. See: https://github.com/scikit-learn/scikit-learn/issues/21755 */display: inline-block !important;position: relative;}#sk-container-id-1 div.sk-text-repr-fallback {display: none;}</style><div id=\"sk-container-id-1\" class=\"sk-top-container\"><div class=\"sk-text-repr-fallback\"><pre>GridSearchCV(cv=5,\n",
       "             estimator=Pipeline(steps=[(&#x27;preprocessor&#x27;,\n",
       "                                        ColumnTransformer(transformers=[(&#x27;num&#x27;,\n",
       "                                                                         StandardScaler(),\n",
       "                                                                         [&#x27;age&#x27;,\n",
       "                                                                          &#x27;thalach&#x27;,\n",
       "                                                                          &#x27;oldpeak&#x27;]),\n",
       "                                                                        (&#x27;cat&#x27;,\n",
       "                                                                         OneHotEncoder(),\n",
       "                                                                         [&#x27;cp&#x27;,\n",
       "                                                                          &#x27;slope&#x27;,\n",
       "                                                                          &#x27;thal&#x27;])])),\n",
       "                                       (&#x27;classifier&#x27;, KNeighborsClassifier())]),\n",
       "             param_grid={&#x27;classifier__metric&#x27;: [&#x27;euclidean&#x27;],\n",
       "                         &#x27;classifier__n_neighbors&#x27;: [13],\n",
       "                         &#x27;classifier__p&#x27;: [2]})</pre><b>In a Jupyter environment, please rerun this cell to show the HTML representation or trust the notebook. <br />On GitHub, the HTML representation is unable to render, please try loading this page with nbviewer.org.</b></div><div class=\"sk-container\" hidden><div class=\"sk-item sk-dashed-wrapped\"><div class=\"sk-label-container\"><div class=\"sk-label sk-toggleable\"><input class=\"sk-toggleable__control sk-hidden--visually\" id=\"sk-estimator-id-1\" type=\"checkbox\" ><label for=\"sk-estimator-id-1\" class=\"sk-toggleable__label sk-toggleable__label-arrow\">GridSearchCV</label><div class=\"sk-toggleable__content\"><pre>GridSearchCV(cv=5,\n",
       "             estimator=Pipeline(steps=[(&#x27;preprocessor&#x27;,\n",
       "                                        ColumnTransformer(transformers=[(&#x27;num&#x27;,\n",
       "                                                                         StandardScaler(),\n",
       "                                                                         [&#x27;age&#x27;,\n",
       "                                                                          &#x27;thalach&#x27;,\n",
       "                                                                          &#x27;oldpeak&#x27;]),\n",
       "                                                                        (&#x27;cat&#x27;,\n",
       "                                                                         OneHotEncoder(),\n",
       "                                                                         [&#x27;cp&#x27;,\n",
       "                                                                          &#x27;slope&#x27;,\n",
       "                                                                          &#x27;thal&#x27;])])),\n",
       "                                       (&#x27;classifier&#x27;, KNeighborsClassifier())]),\n",
       "             param_grid={&#x27;classifier__metric&#x27;: [&#x27;euclidean&#x27;],\n",
       "                         &#x27;classifier__n_neighbors&#x27;: [13],\n",
       "                         &#x27;classifier__p&#x27;: [2]})</pre></div></div></div><div class=\"sk-parallel\"><div class=\"sk-parallel-item\"><div class=\"sk-item\"><div class=\"sk-label-container\"><div class=\"sk-label sk-toggleable\"><input class=\"sk-toggleable__control sk-hidden--visually\" id=\"sk-estimator-id-2\" type=\"checkbox\" ><label for=\"sk-estimator-id-2\" class=\"sk-toggleable__label sk-toggleable__label-arrow\">estimator: Pipeline</label><div class=\"sk-toggleable__content\"><pre>Pipeline(steps=[(&#x27;preprocessor&#x27;,\n",
       "                 ColumnTransformer(transformers=[(&#x27;num&#x27;, StandardScaler(),\n",
       "                                                  [&#x27;age&#x27;, &#x27;thalach&#x27;,\n",
       "                                                   &#x27;oldpeak&#x27;]),\n",
       "                                                 (&#x27;cat&#x27;, OneHotEncoder(),\n",
       "                                                  [&#x27;cp&#x27;, &#x27;slope&#x27;, &#x27;thal&#x27;])])),\n",
       "                (&#x27;classifier&#x27;, KNeighborsClassifier())])</pre></div></div></div><div class=\"sk-serial\"><div class=\"sk-item\"><div class=\"sk-serial\"><div class=\"sk-item sk-dashed-wrapped\"><div class=\"sk-label-container\"><div class=\"sk-label sk-toggleable\"><input class=\"sk-toggleable__control sk-hidden--visually\" id=\"sk-estimator-id-3\" type=\"checkbox\" ><label for=\"sk-estimator-id-3\" class=\"sk-toggleable__label sk-toggleable__label-arrow\">preprocessor: ColumnTransformer</label><div class=\"sk-toggleable__content\"><pre>ColumnTransformer(transformers=[(&#x27;num&#x27;, StandardScaler(),\n",
       "                                 [&#x27;age&#x27;, &#x27;thalach&#x27;, &#x27;oldpeak&#x27;]),\n",
       "                                (&#x27;cat&#x27;, OneHotEncoder(),\n",
       "                                 [&#x27;cp&#x27;, &#x27;slope&#x27;, &#x27;thal&#x27;])])</pre></div></div></div><div class=\"sk-parallel\"><div class=\"sk-parallel-item\"><div class=\"sk-item\"><div class=\"sk-label-container\"><div class=\"sk-label sk-toggleable\"><input class=\"sk-toggleable__control sk-hidden--visually\" id=\"sk-estimator-id-4\" type=\"checkbox\" ><label for=\"sk-estimator-id-4\" class=\"sk-toggleable__label sk-toggleable__label-arrow\">num</label><div class=\"sk-toggleable__content\"><pre>[&#x27;age&#x27;, &#x27;thalach&#x27;, &#x27;oldpeak&#x27;]</pre></div></div></div><div class=\"sk-serial\"><div class=\"sk-item\"><div class=\"sk-estimator sk-toggleable\"><input class=\"sk-toggleable__control sk-hidden--visually\" id=\"sk-estimator-id-5\" type=\"checkbox\" ><label for=\"sk-estimator-id-5\" class=\"sk-toggleable__label sk-toggleable__label-arrow\">StandardScaler</label><div class=\"sk-toggleable__content\"><pre>StandardScaler()</pre></div></div></div></div></div></div><div class=\"sk-parallel-item\"><div class=\"sk-item\"><div class=\"sk-label-container\"><div class=\"sk-label sk-toggleable\"><input class=\"sk-toggleable__control sk-hidden--visually\" id=\"sk-estimator-id-6\" type=\"checkbox\" ><label for=\"sk-estimator-id-6\" class=\"sk-toggleable__label sk-toggleable__label-arrow\">cat</label><div class=\"sk-toggleable__content\"><pre>[&#x27;cp&#x27;, &#x27;slope&#x27;, &#x27;thal&#x27;]</pre></div></div></div><div class=\"sk-serial\"><div class=\"sk-item\"><div class=\"sk-estimator sk-toggleable\"><input class=\"sk-toggleable__control sk-hidden--visually\" id=\"sk-estimator-id-7\" type=\"checkbox\" ><label for=\"sk-estimator-id-7\" class=\"sk-toggleable__label sk-toggleable__label-arrow\">OneHotEncoder</label><div class=\"sk-toggleable__content\"><pre>OneHotEncoder()</pre></div></div></div></div></div></div></div></div><div class=\"sk-item\"><div class=\"sk-estimator sk-toggleable\"><input class=\"sk-toggleable__control sk-hidden--visually\" id=\"sk-estimator-id-8\" type=\"checkbox\" ><label for=\"sk-estimator-id-8\" class=\"sk-toggleable__label sk-toggleable__label-arrow\">KNeighborsClassifier</label><div class=\"sk-toggleable__content\"><pre>KNeighborsClassifier()</pre></div></div></div></div></div></div></div></div></div></div></div></div>"
      ]
     },
     "metadata": {},
     "execution_count": 21
    }
   ]
  },
  {
   "cell_type": "markdown",
   "metadata": {
    "id": "7aeaa7b9-e657-41b9-bac6-147fff793f11"
   },
   "source": [
    "### Score"
   ],
   "id": "7aeaa7b9-e657-41b9-bac6-147fff793f11"
  },
  {
   "cell_type": "code",
   "metadata": {
    "id": "f5d7012c-b793-4f2c-8840-54a342fbaa57",
    "colab": {
     "base_uri": "https://localhost:8080/"
    },
    "outputId": "49296193-0332-4427-8d7b-7ca88e8aaebd"
   },
   "source": [
    "# Predict on the test data\n",
    "y_pred = grid_search.predict(X_test)\n",
    "\n",
    "# Evaluate the model\n",
    "print(f\"Best parameters found: {grid_search.best_params_}\")\n",
    "print(f\"Test accuracy: {grid_search.score(X_test, y_test)}\")"
   ],
   "id": "f5d7012c-b793-4f2c-8840-54a342fbaa57",
   "execution_count": 22,
   "outputs": [
    {
     "output_type": "stream",
     "name": "stdout",
     "text": [
      "Best parameters found: {'classifier__metric': 'euclidean', 'classifier__n_neighbors': 13, 'classifier__p': 2}\n",
      "Test accuracy: 0.6229508196721312\n"
     ]
    }
   ]
  },
  {
   "cell_type": "markdown",
   "metadata": {
    "id": "71ab0e37-5266-46c6-b69c-b0c0097ead0e"
   },
   "source": [
    "# 6. Keras binary classifier"
   ],
   "id": "71ab0e37-5266-46c6-b69c-b0c0097ead0e"
  },
  {
   "cell_type": "markdown",
   "source": [
    "### Preprocessing - Feature Engineering"
   ],
   "metadata": {
    "id": "I_UFnaSqFrFS"
   },
   "id": "I_UFnaSqFrFS"
  },
  {
   "cell_type": "code",
   "source": [
    "# The 'num' column is the target and has 5 classes (0 to 4)\n",
    "X = df.drop('num', axis=1).values  # Features (all columns except 'num')\n",
    "y = df['num'].values  # Multi-class target (0 to 4)"
   ],
   "metadata": {
    "id": "v_lRbek6KF_4"
   },
   "id": "v_lRbek6KF_4",
   "execution_count": 180,
   "outputs": []
  },
  {
   "cell_type": "markdown",
   "source": [
    "### One-hot encode the target variable for multi-class classification"
   ],
   "metadata": {
    "id": "MUGnoGAizlpC"
   },
   "id": "MUGnoGAizlpC"
  },
  {
   "cell_type": "markdown",
   "source": [
    "**One-Hot Encoding of y:** The target y is now one-hot encoded to match the shape of the model's output, which has 5 neurons in the output layer due to the 5 possible classes.\n",
    "\n",
    "\n",
    "**One-hot encoding** is used to convert categorical variables into a format that can be provided to machine learning algorithms to improve predictions. In this case, the target variable num represents the presence of heart disease and has integer values from 0 to 4. These integers represent different categories, not ordinal values, so they should not be treated as continuous numerical values.\n"
   ],
   "metadata": {
    "id": "lnABUBPf6w36"
   },
   "id": "lnABUBPf6w36"
  },
  {
   "cell_type": "code",
   "source": [
    "# One-hot encode the target variable for multi-class classification\n",
    "encoder = OneHotEncoder(sparse=False)\n",
    "y_encoded = encoder.fit_transform(y.reshape(-1, 1))  # Reshape y to a 2D array and one-hot encode"
   ],
   "metadata": {
    "colab": {
     "base_uri": "https://localhost:8080/"
    },
    "id": "xPGvhda21bR8",
    "outputId": "b7767dba-16bf-48ad-df2e-151525dbde29"
   },
   "id": "xPGvhda21bR8",
   "execution_count": 181,
   "outputs": [
    {
     "output_type": "stream",
     "name": "stderr",
     "text": [
      "/usr/local/lib/python3.10/dist-packages/sklearn/preprocessing/_encoders.py:975: FutureWarning: `sparse` was renamed to `sparse_output` in version 1.2 and will be removed in 1.4. `sparse_output` is ignored unless you leave `sparse` to its default value.\n",
      "  warnings.warn(\n"
     ]
    }
   ]
  },
  {
   "cell_type": "code",
   "source": [
    "# Unique target values\n",
    "np.unique(y_encoded)"
   ],
   "metadata": {
    "id": "s972VG8A5Jbs",
    "colab": {
     "base_uri": "https://localhost:8080/"
    },
    "outputId": "6e803a56-d84c-4ee1-de96-40efcc515278"
   },
   "id": "s972VG8A5Jbs",
   "execution_count": 182,
   "outputs": [
    {
     "output_type": "execute_result",
     "data": {
      "text/plain": [
       "array([0., 1.])"
      ]
     },
     "metadata": {},
     "execution_count": 182
    }
   ]
  },
  {
   "cell_type": "markdown",
   "source": [
    "### Split the Dataset"
   ],
   "metadata": {
    "id": "D447Jbr3FeCO"
   },
   "id": "D447Jbr3FeCO"
  },
  {
   "cell_type": "code",
   "source": [
    "from sklearn.model_selection import train_test_split\n",
    "\n",
    "X_train, X_test, y_train, y_test = train_test_split(X, y_encoded, random_state=0, test_size=0.2, shuffle=True)"
   ],
   "metadata": {
    "id": "nnNwRPESSYYe"
   },
   "id": "nnNwRPESSYYe",
   "execution_count": 183,
   "outputs": []
  },
  {
   "cell_type": "markdown",
   "source": [
    "### Visualise the Splitting Dataset"
   ],
   "metadata": {
    "id": "VrQINrubPeCf"
   },
   "id": "VrQINrubPeCf"
  },
  {
   "cell_type": "code",
   "source": [
    "# Function to plot the distribution of the target variable\n",
    "def plot_distribution(y, title):\n",
    "    plt.figure(figsize=(8, 6))\n",
    "    plt.hist(y, bins=5, edgecolor='k', alpha=0.7)\n",
    "    plt.title(title)\n",
    "    plt.xlabel('Class')\n",
    "    plt.ylabel('Frequency')\n",
    "    plt.show()\n",
    "\n",
    "# Visualize the distribution of the target variable\n",
    "plot_distribution(y, 'Original Data Distribution')\n",
    "plot_distribution(y_encoded, 'Encoded Data Distribution')\n",
    "plot_distribution(y_train, 'Training Data Distribution')\n",
    "plot_distribution(y_test, 'Testing Data Distribution')"
   ],
   "metadata": {
    "colab": {
     "base_uri": "https://localhost:8080/",
     "height": 0
    },
    "id": "4n5ZvB1sPUS8",
    "outputId": "40793556-0c7a-483e-c072-86947ec498af"
   },
   "id": "4n5ZvB1sPUS8",
   "execution_count": 184,
   "outputs": [
    {
     "output_type": "display_data",
     "data": {
      "text/plain": [
       "<Figure size 800x600 with 1 Axes>"
      ],
      "image/png": "[encoded data removed]"
     },
     "metadata": {}
    },
    {
     "output_type": "display_data",
     "data": {
      "text/plain": [
       "<Figure size 800x600 with 1 Axes>"
      ],
      "image/png": "[encoded data removed]"
     },
     "metadata": {}
    },
    {
     "output_type": "display_data",
     "data": {
      "text/plain": [
       "<Figure size 800x600 with 1 Axes>"
      ],
      "image/png": "[encoded data removed]"
     },
     "metadata": {}
    },
    {
     "output_type": "display_data",
     "data": {
      "text/plain": [
       "<Figure size 800x600 with 1 Axes>"
      ],
      "image/png": "[encoded data removed]"
     },
     "metadata": {}
    }
   ]
  },
  {
   "cell_type": "code",
   "source": [
    "# Scale the features (important for neural networks)\n",
    "scaler = StandardScaler()\n",
    "X_train = scaler.fit_transform(X_train)\n",
    "X_test = scaler.transform(X_test)"
   ],
   "metadata": {
    "id": "85mlsHCwFs8M"
   },
   "id": "85mlsHCwFs8M",
   "execution_count": 185,
   "outputs": []
  },
  {
   "cell_type": "markdown",
   "source": [
    "### Setup Keras Model"
   ],
   "metadata": {
    "id": "x2EQY1pfFKMj"
   },
   "id": "x2EQY1pfFKMj"
  },
  {
   "cell_type": "code",
   "source": [
    "from tensorflow.keras.models import Sequential\n",
    "from tensorflow.keras.layers import Dense\n",
    "from tensorflow.keras.optimizers import Adam\n",
    "from tensorflow.keras.losses import BinaryCrossentropy\n",
    "from tensorflow.keras.losses import CategoricalCrossentropy\n",
    "from tensorflow.keras.metrics import Accuracy"
   ],
   "metadata": {
    "id": "ODVYNYmREN5f"
   },
   "id": "ODVYNYmREN5f",
   "execution_count": 186,
   "outputs": []
  },
  {
   "cell_type": "code",
   "metadata": {
    "id": "cccd15e1-ce00-40a2-a046-be34b24443a7"
   },
   "source": [
    "# Define the Keras binary classifier model\n",
    "model = Sequential()"
   ],
   "id": "cccd15e1-ce00-40a2-a046-be34b24443a7",
   "execution_count": 187,
   "outputs": []
  },
  {
   "cell_type": "markdown",
   "source": [
    "### Add Layers\n",
    "\n",
    "the output layer to have 5 neurons (one for each class of target [0,4]), and use the `softmax` activation function instead of `sigmoid`."
   ],
   "metadata": {
    "id": "UzvvXaWuGCbd"
   },
   "id": "UzvvXaWuGCbd"
  },
  {
   "cell_type": "code",
   "source": [
    "# Add layers to the model\n",
    "model.add(Dense(64, activation='relu', input_shape=(X_train.shape[1],)))  # Input layer with 64 neurons\n",
    "model.add(Dense(32, activation='relu'))  # Hidden layer with 32 neurons\n",
    "model.add(Dense(5, activation='softmax'))  # Output layer for multi-class classification (5 neurons)\n"
   ],
   "metadata": {
    "colab": {
     "base_uri": "https://localhost:8080/"
    },
    "id": "0QoQSxG-GFGS",
    "outputId": "57563aa4-74a3-431f-cfdb-67e21c8d6e27"
   },
   "id": "0QoQSxG-GFGS",
   "execution_count": 188,
   "outputs": [
    {
     "output_type": "stream",
     "name": "stderr",
     "text": [
      "/usr/local/lib/python3.10/dist-packages/keras/src/layers/core/dense.py:87: UserWarning: Do not pass an `input_shape`/`input_dim` argument to a layer. When using Sequential models, prefer using an `Input(shape)` object as the first layer in the model instead.\n",
      "  super().__init__(activity_regularizer=activity_regularizer, **kwargs)\n"
     ]
    }
   ]
  },
  {
   "cell_type": "markdown",
   "source": [
    "### Compile the model\n",
    "\n",
    "use **loss function** to `CategoricalCrossentropy` for multi-class classification and `BinaryCrossentropy` for binary-classfication"
   ],
   "metadata": {
    "id": "Nai1BSK2GEML"
   },
   "id": "Nai1BSK2GEML"
  },
  {
   "cell_type": "code",
   "source": [
    "# Compile the model\n",
    "model.compile(optimizer=Adam(learning_rate=0.001),\n",
    "              loss=CategoricalCrossentropy(),\n",
    "              metrics=['accuracy'])"
   ],
   "metadata": {
    "id": "8UgwiNUEGQ1l"
   },
   "id": "8UgwiNUEGQ1l",
   "execution_count": 189,
   "outputs": []
  },
  {
   "cell_type": "markdown",
   "source": [
    "### Fit and predict"
   ],
   "metadata": {
    "id": "2VSXzKvGGVqS"
   },
   "id": "2VSXzKvGGVqS"
  },
  {
   "cell_type": "code",
   "source": [
    "# Train the model\n",
    "history = model.fit(X_train, y_train, epochs=50, batch_size=32, validation_data=(X_test, y_test))"
   ],
   "metadata": {
    "colab": {
     "base_uri": "https://localhost:8080/"
    },
    "id": "1yUo-qRDGVCb",
    "outputId": "0459d114-6f55-4f3e-a3e3-6250d54d5fe2"
   },
   "id": "1yUo-qRDGVCb",
   "execution_count": 190,
   "outputs": [
    {
     "output_type": "stream",
     "name": "stdout",
     "text": [
      "Epoch 1/50\n",
      "\u001B[1m8/8\u001B[0m \u001B[32m━━━━━━━━━━━━━━━━━━━━\u001B[0m\u001B[37m\u001B[0m \u001B[1m1s\u001B[0m 34ms/step - accuracy: 0.4924 - loss: 1.4082 - val_accuracy: 0.5082 - val_loss: 1.2932\n",
      "Epoch 2/50\n",
      "\u001B[1m8/8\u001B[0m \u001B[32m━━━━━━━━━━━━━━━━━━━━\u001B[0m\u001B[37m\u001B[0m \u001B[1m0s\u001B[0m 8ms/step - accuracy: 0.5285 - loss: 1.2821 - val_accuracy: 0.5574 - val_loss: 1.1893\n",
      "Epoch 3/50\n",
      "\u001B[1m8/8\u001B[0m \u001B[32m━━━━━━━━━━━━━━━━━━━━\u001B[0m\u001B[37m\u001B[0m \u001B[1m0s\u001B[0m 8ms/step - accuracy: 0.5471 - loss: 1.1688 - val_accuracy: 0.5574 - val_loss: 1.1151\n",
      "Epoch 4/50\n",
      "\u001B[1m8/8\u001B[0m \u001B[32m━━━━━━━━━━━━━━━━━━━━\u001B[0m\u001B[37m\u001B[0m \u001B[1m0s\u001B[0m 9ms/step - accuracy: 0.5807 - loss: 1.0870 - val_accuracy: 0.6066 - val_loss: 1.0659\n",
      "Epoch 5/50\n",
      "\u001B[1m8/8\u001B[0m \u001B[32m━━━━━━━━━━━━━━━━━━━━\u001B[0m\u001B[37m\u001B[0m \u001B[1m0s\u001B[0m 6ms/step - accuracy: 0.5760 - loss: 1.0434 - val_accuracy: 0.6066 - val_loss: 1.0341\n",
      "Epoch 6/50\n",
      "\u001B[1m8/8\u001B[0m \u001B[32m━━━━━━━━━━━━━━━━━━━━\u001B[0m\u001B[37m\u001B[0m \u001B[1m0s\u001B[0m 9ms/step - accuracy: 0.5759 - loss: 0.9747 - val_accuracy: 0.6230 - val_loss: 1.0122\n",
      "Epoch 7/50\n",
      "\u001B[1m8/8\u001B[0m \u001B[32m━━━━━━━━━━━━━━━━━━━━\u001B[0m\u001B[37m\u001B[0m \u001B[1m0s\u001B[0m 8ms/step - accuracy: 0.5885 - loss: 0.9662 - val_accuracy: 0.6557 - val_loss: 0.9979\n",
      "Epoch 8/50\n",
      "\u001B[1m8/8\u001B[0m \u001B[32m━━━━━━━━━━━━━━━━━━━━\u001B[0m\u001B[37m\u001B[0m \u001B[1m0s\u001B[0m 6ms/step - accuracy: 0.6499 - loss: 0.9031 - val_accuracy: 0.6557 - val_loss: 0.9850\n",
      "Epoch 9/50\n",
      "\u001B[1m8/8\u001B[0m \u001B[32m━━━━━━━━━━━━━━━━━━━━\u001B[0m\u001B[37m\u001B[0m \u001B[1m0s\u001B[0m 6ms/step - accuracy: 0.6133 - loss: 0.9304 - val_accuracy: 0.6557 - val_loss: 0.9763\n",
      "Epoch 10/50\n",
      "\u001B[1m8/8\u001B[0m \u001B[32m━━━━━━━━━━━━━━━━━━━━\u001B[0m\u001B[37m\u001B[0m \u001B[1m0s\u001B[0m 7ms/step - accuracy: 0.6323 - loss: 0.9038 - val_accuracy: 0.6557 - val_loss: 0.9654\n",
      "Epoch 11/50\n",
      "\u001B[1m8/8\u001B[0m \u001B[32m━━━━━━━━━━━━━━━━━━━━\u001B[0m\u001B[37m\u001B[0m \u001B[1m0s\u001B[0m 6ms/step - accuracy: 0.6437 - loss: 0.8857 - val_accuracy: 0.6557 - val_loss: 0.9612\n",
      "Epoch 12/50\n",
      "\u001B[1m8/8\u001B[0m \u001B[32m━━━━━━━━━━━━━━━━━━━━\u001B[0m\u001B[37m\u001B[0m \u001B[1m0s\u001B[0m 6ms/step - accuracy: 0.6691 - loss: 0.8411 - val_accuracy: 0.6557 - val_loss: 0.9589\n",
      "Epoch 13/50\n",
      "\u001B[1m8/8\u001B[0m \u001B[32m━━━━━━━━━━━━━━━━━━━━\u001B[0m\u001B[37m\u001B[0m \u001B[1m0s\u001B[0m 8ms/step - accuracy: 0.6899 - loss: 0.8444 - val_accuracy: 0.6557 - val_loss: 0.9548\n",
      "Epoch 14/50\n",
      "\u001B[1m8/8\u001B[0m \u001B[32m━━━━━━━━━━━━━━━━━━━━\u001B[0m\u001B[37m\u001B[0m \u001B[1m0s\u001B[0m 6ms/step - accuracy: 0.6578 - loss: 0.8427 - val_accuracy: 0.6557 - val_loss: 0.9507\n",
      "Epoch 15/50\n",
      "\u001B[1m8/8\u001B[0m \u001B[32m━━━━━━━━━━━━━━━━━━━━\u001B[0m\u001B[37m\u001B[0m \u001B[1m0s\u001B[0m 7ms/step - accuracy: 0.6717 - loss: 0.8198 - val_accuracy: 0.6557 - val_loss: 0.9492\n",
      "Epoch 16/50\n",
      "\u001B[1m8/8\u001B[0m \u001B[32m━━━━━━━━━━━━━━━━━━━━\u001B[0m\u001B[37m\u001B[0m \u001B[1m0s\u001B[0m 9ms/step - accuracy: 0.7008 - loss: 0.7838 - val_accuracy: 0.6557 - val_loss: 0.9509\n",
      "Epoch 17/50\n",
      "\u001B[1m8/8\u001B[0m \u001B[32m━━━━━━━━━━━━━━━━━━━━\u001B[0m\u001B[37m\u001B[0m \u001B[1m0s\u001B[0m 11ms/step - accuracy: 0.6853 - loss: 0.7631 - val_accuracy: 0.6393 - val_loss: 0.9478\n",
      "Epoch 18/50\n",
      "\u001B[1m8/8\u001B[0m \u001B[32m━━━━━━━━━━━━━━━━━━━━\u001B[0m\u001B[37m\u001B[0m \u001B[1m0s\u001B[0m 8ms/step - accuracy: 0.6631 - loss: 0.8315 - val_accuracy: 0.6393 - val_loss: 0.9479\n",
      "Epoch 19/50\n",
      "\u001B[1m8/8\u001B[0m \u001B[32m━━━━━━━━━━━━━━━━━━━━\u001B[0m\u001B[37m\u001B[0m \u001B[1m0s\u001B[0m 9ms/step - accuracy: 0.6693 - loss: 0.8033 - val_accuracy: 0.6393 - val_loss: 0.9543\n",
      "Epoch 20/50\n",
      "\u001B[1m8/8\u001B[0m \u001B[32m━━━━━━━━━━━━━━━━━━━━\u001B[0m\u001B[37m\u001B[0m \u001B[1m0s\u001B[0m 6ms/step - accuracy: 0.6809 - loss: 0.7845 - val_accuracy: 0.6393 - val_loss: 0.9645\n",
      "Epoch 21/50\n",
      "\u001B[1m8/8\u001B[0m \u001B[32m━━━━━━━━━━━━━━━━━━━━\u001B[0m\u001B[37m\u001B[0m \u001B[1m0s\u001B[0m 6ms/step - accuracy: 0.7071 - loss: 0.7521 - val_accuracy: 0.6230 - val_loss: 0.9626\n",
      "Epoch 22/50\n",
      "\u001B[1m8/8\u001B[0m \u001B[32m━━━━━━━━━━━━━━━━━━━━\u001B[0m\u001B[37m\u001B[0m \u001B[1m0s\u001B[0m 6ms/step - accuracy: 0.7038 - loss: 0.7442 - val_accuracy: 0.6721 - val_loss: 0.9656\n",
      "Epoch 23/50\n",
      "\u001B[1m8/8\u001B[0m \u001B[32m━━━━━━━━━━━━━━━━━━━━\u001B[0m\u001B[37m\u001B[0m \u001B[1m0s\u001B[0m 6ms/step - accuracy: 0.7457 - loss: 0.6601 - val_accuracy: 0.6393 - val_loss: 0.9764\n",
      "Epoch 24/50\n",
      "\u001B[1m8/8\u001B[0m \u001B[32m━━━━━━━━━━━━━━━━━━━━\u001B[0m\u001B[37m\u001B[0m \u001B[1m0s\u001B[0m 9ms/step - accuracy: 0.7364 - loss: 0.6805 - val_accuracy: 0.6557 - val_loss: 0.9799\n",
      "Epoch 25/50\n",
      "\u001B[1m8/8\u001B[0m \u001B[32m━━━━━━━━━━━━━━━━━━━━\u001B[0m\u001B[37m\u001B[0m \u001B[1m0s\u001B[0m 6ms/step - accuracy: 0.7080 - loss: 0.7293 - val_accuracy: 0.6557 - val_loss: 0.9774\n",
      "Epoch 26/50\n",
      "\u001B[1m8/8\u001B[0m \u001B[32m━━━━━━━━━━━━━━━━━━━━\u001B[0m\u001B[37m\u001B[0m \u001B[1m0s\u001B[0m 6ms/step - accuracy: 0.7776 - loss: 0.6490 - val_accuracy: 0.6557 - val_loss: 0.9805\n",
      "Epoch 27/50\n",
      "\u001B[1m8/8\u001B[0m \u001B[32m━━━━━━━━━━━━━━━━━━━━\u001B[0m\u001B[37m\u001B[0m \u001B[1m0s\u001B[0m 8ms/step - accuracy: 0.7311 - loss: 0.6767 - val_accuracy: 0.6557 - val_loss: 0.9858\n",
      "Epoch 28/50\n",
      "\u001B[1m8/8\u001B[0m \u001B[32m━━━━━━━━━━━━━━━━━━━━\u001B[0m\u001B[37m\u001B[0m \u001B[1m0s\u001B[0m 8ms/step - accuracy: 0.7333 - loss: 0.6965 - val_accuracy: 0.6557 - val_loss: 0.9886\n",
      "Epoch 29/50\n",
      "\u001B[1m8/8\u001B[0m \u001B[32m━━━━━━━━━━━━━━━━━━━━\u001B[0m\u001B[37m\u001B[0m \u001B[1m0s\u001B[0m 6ms/step - accuracy: 0.7823 - loss: 0.6327 - val_accuracy: 0.6557 - val_loss: 0.9956\n",
      "Epoch 30/50\n",
      "\u001B[1m8/8\u001B[0m \u001B[32m━━━━━━━━━━━━━━━━━━━━\u001B[0m\u001B[37m\u001B[0m \u001B[1m0s\u001B[0m 9ms/step - accuracy: 0.7746 - loss: 0.6212 - val_accuracy: 0.6557 - val_loss: 0.9978\n",
      "Epoch 31/50\n",
      "\u001B[1m8/8\u001B[0m \u001B[32m━━━━━━━━━━━━━━━━━━━━\u001B[0m\u001B[37m\u001B[0m \u001B[1m0s\u001B[0m 9ms/step - accuracy: 0.7690 - loss: 0.6411 - val_accuracy: 0.6393 - val_loss: 1.0036\n",
      "Epoch 32/50\n",
      "\u001B[1m8/8\u001B[0m \u001B[32m━━━━━━━━━━━━━━━━━━━━\u001B[0m\u001B[37m\u001B[0m \u001B[1m0s\u001B[0m 6ms/step - accuracy: 0.7851 - loss: 0.6070 - val_accuracy: 0.6393 - val_loss: 1.0126\n",
      "Epoch 33/50\n",
      "\u001B[1m8/8\u001B[0m \u001B[32m━━━━━━━━━━━━━━━━━━━━\u001B[0m\u001B[37m\u001B[0m \u001B[1m0s\u001B[0m 8ms/step - accuracy: 0.7457 - loss: 0.6564 - val_accuracy: 0.6393 - val_loss: 1.0094\n",
      "Epoch 34/50\n",
      "\u001B[1m8/8\u001B[0m \u001B[32m━━━━━━━━━━━━━━━━━━━━\u001B[0m\u001B[37m\u001B[0m \u001B[1m0s\u001B[0m 6ms/step - accuracy: 0.7861 - loss: 0.6008 - val_accuracy: 0.6393 - val_loss: 1.0210\n",
      "Epoch 35/50\n",
      "\u001B[1m8/8\u001B[0m \u001B[32m━━━━━━━━━━━━━━━━━━━━\u001B[0m\u001B[37m\u001B[0m \u001B[1m0s\u001B[0m 6ms/step - accuracy: 0.7479 - loss: 0.6471 - val_accuracy: 0.6393 - val_loss: 1.0223\n",
      "Epoch 36/50\n",
      "\u001B[1m8/8\u001B[0m \u001B[32m━━━━━━━━━━━━━━━━━━━━\u001B[0m\u001B[37m\u001B[0m \u001B[1m0s\u001B[0m 7ms/step - accuracy: 0.7876 - loss: 0.5746 - val_accuracy: 0.6393 - val_loss: 1.0333\n",
      "Epoch 37/50\n",
      "\u001B[1m8/8\u001B[0m \u001B[32m━━━━━━━━━━━━━━━━━━━━\u001B[0m\u001B[37m\u001B[0m \u001B[1m0s\u001B[0m 8ms/step - accuracy: 0.8074 - loss: 0.5614 - val_accuracy: 0.6393 - val_loss: 1.0371\n",
      "Epoch 38/50\n",
      "\u001B[1m8/8\u001B[0m \u001B[32m━━━━━━━━━━━━━━━━━━━━\u001B[0m\u001B[37m\u001B[0m \u001B[1m0s\u001B[0m 6ms/step - accuracy: 0.8054 - loss: 0.5622 - val_accuracy: 0.6393 - val_loss: 1.0423\n",
      "Epoch 39/50\n",
      "\u001B[1m8/8\u001B[0m \u001B[32m━━━━━━━━━━━━━━━━━━━━\u001B[0m\u001B[37m\u001B[0m \u001B[1m0s\u001B[0m 7ms/step - accuracy: 0.8087 - loss: 0.5500 - val_accuracy: 0.6230 - val_loss: 1.0422\n",
      "Epoch 40/50\n",
      "\u001B[1m8/8\u001B[0m \u001B[32m━━━━━━━━━━━━━━━━━━━━\u001B[0m\u001B[37m\u001B[0m \u001B[1m0s\u001B[0m 7ms/step - accuracy: 0.7792 - loss: 0.5850 - val_accuracy: 0.6230 - val_loss: 1.0516\n",
      "Epoch 41/50\n",
      "\u001B[1m8/8\u001B[0m \u001B[32m━━━━━━━━━━━━━━━━━━━━\u001B[0m\u001B[37m\u001B[0m \u001B[1m0s\u001B[0m 10ms/step - accuracy: 0.7951 - loss: 0.5600 - val_accuracy: 0.6230 - val_loss: 1.0623\n",
      "Epoch 42/50\n",
      "\u001B[1m8/8\u001B[0m \u001B[32m━━━━━━━━━━━━━━━━━━━━\u001B[0m\u001B[37m\u001B[0m \u001B[1m0s\u001B[0m 6ms/step - accuracy: 0.7737 - loss: 0.5941 - val_accuracy: 0.6230 - val_loss: 1.0632\n",
      "Epoch 43/50\n",
      "\u001B[1m8/8\u001B[0m \u001B[32m━━━━━━━━━━━━━━━━━━━━\u001B[0m\u001B[37m\u001B[0m \u001B[1m0s\u001B[0m 7ms/step - accuracy: 0.8184 - loss: 0.5093 - val_accuracy: 0.6230 - val_loss: 1.0661\n",
      "Epoch 44/50\n",
      "\u001B[1m8/8\u001B[0m \u001B[32m━━━━━━━━━━━━━━━━━━━━\u001B[0m\u001B[37m\u001B[0m \u001B[1m0s\u001B[0m 6ms/step - accuracy: 0.7893 - loss: 0.5271 - val_accuracy: 0.6230 - val_loss: 1.0748\n",
      "Epoch 45/50\n",
      "\u001B[1m8/8\u001B[0m \u001B[32m━━━━━━━━━━━━━━━━━━━━\u001B[0m\u001B[37m\u001B[0m \u001B[1m0s\u001B[0m 10ms/step - accuracy: 0.7811 - loss: 0.5532 - val_accuracy: 0.6230 - val_loss: 1.0709\n",
      "Epoch 46/50\n",
      "\u001B[1m8/8\u001B[0m \u001B[32m━━━━━━━━━━━━━━━━━━━━\u001B[0m\u001B[37m\u001B[0m \u001B[1m0s\u001B[0m 8ms/step - accuracy: 0.8093 - loss: 0.5360 - val_accuracy: 0.6230 - val_loss: 1.0818\n",
      "Epoch 47/50\n",
      "\u001B[1m8/8\u001B[0m \u001B[32m━━━━━━━━━━━━━━━━━━━━\u001B[0m\u001B[37m\u001B[0m \u001B[1m0s\u001B[0m 7ms/step - accuracy: 0.7975 - loss: 0.5506 - val_accuracy: 0.6230 - val_loss: 1.0934\n",
      "Epoch 48/50\n",
      "\u001B[1m8/8\u001B[0m \u001B[32m━━━━━━━━━━━━━━━━━━━━\u001B[0m\u001B[37m\u001B[0m \u001B[1m0s\u001B[0m 8ms/step - accuracy: 0.7937 - loss: 0.5287 - val_accuracy: 0.6230 - val_loss: 1.1032\n",
      "Epoch 49/50\n",
      "\u001B[1m8/8\u001B[0m \u001B[32m━━━━━━━━━━━━━━━━━━━━\u001B[0m\u001B[37m\u001B[0m \u001B[1m0s\u001B[0m 6ms/step - accuracy: 0.7993 - loss: 0.5007 - val_accuracy: 0.6230 - val_loss: 1.1059\n",
      "Epoch 50/50\n",
      "\u001B[1m8/8\u001B[0m \u001B[32m━━━━━━━━━━━━━━━━━━━━\u001B[0m\u001B[37m\u001B[0m \u001B[1m0s\u001B[0m 8ms/step - accuracy: 0.8403 - loss: 0.4827 - val_accuracy: 0.6393 - val_loss: 1.0974\n"
     ]
    }
   ]
  },
  {
   "cell_type": "markdown",
   "source": [
    "### Evaluate the model"
   ],
   "metadata": {
    "id": "6kn3K_1ZF-Sq"
   },
   "id": "6kn3K_1ZF-Sq"
  },
  {
   "cell_type": "code",
   "source": [
    "# Evaluate the accuracy or any other metric of interest\n",
    "from sklearn.metrics import classification_report\n",
    "\n",
    "\n",
    "# Evaluate the model on the test set\n",
    "test_loss, test_accuracy = model.evaluate(X_test, y_test)\n",
    "print(f\"Test Accuracy: {test_accuracy:.4f}\")\n",
    "print(f\"Test Loss: {test_loss:.4f}\")"
   ],
   "metadata": {
    "colab": {
     "base_uri": "https://localhost:8080/"
    },
    "id": "1XP4bMWYGAhF",
    "outputId": "7866a0f2-2e4e-48af-fbcd-bd2fa0ab7c70"
   },
   "id": "1XP4bMWYGAhF",
   "execution_count": 191,
   "outputs": [
    {
     "output_type": "stream",
     "name": "stdout",
     "text": [
      "\u001B[1m2/2\u001B[0m \u001B[32m━━━━━━━━━━━━━━━━━━━━\u001B[0m\u001B[37m\u001B[0m \u001B[1m0s\u001B[0m 8ms/step - accuracy: 0.6241 - loss: 1.1143 \n",
      "Test Accuracy: 0.6393\n",
      "Test Loss: 1.0974\n"
     ]
    }
   ]
  },
  {
   "cell_type": "markdown",
   "metadata": {
    "id": "e5b4d690-7e3f-4ef2-8399-fd1f951c2f7a"
   },
   "source": [
    "### Score"
   ],
   "id": "e5b4d690-7e3f-4ef2-8399-fd1f951c2f7a"
  },
  {
   "cell_type": "code",
   "metadata": {
    "id": "0ba2424b-5da1-44c5-9b58-224c3ad69fa7",
    "colab": {
     "base_uri": "https://localhost:8080/"
    },
    "outputId": "a24be8c3-b1e3-4f53-926b-056f3211533d"
   },
   "source": [
    "# Predict on new data (test set)\n",
    "predictions = model.predict(X_test)\n",
    "predicted_classes = np.argmax(predictions, axis=1)\n",
    "true_classes = np.argmax(y_test, axis=1)\n",
    "\n",
    "# Evaluate the predictions using classification metrics\n",
    "print(classification_report(true_classes, predicted_classes))\n",
    "\n",
    "# Optionally, print the predicted classes for the first 10 examples\n",
    "print(predicted_classes[:10])"
   ],
   "id": "0ba2424b-5da1-44c5-9b58-224c3ad69fa7",
   "execution_count": 192,
   "outputs": [
    {
     "output_type": "stream",
     "name": "stdout",
     "text": [
      "\u001B[1m2/2\u001B[0m \u001B[32m━━━━━━━━━━━━━━━━━━━━\u001B[0m\u001B[37m\u001B[0m \u001B[1m0s\u001B[0m 39ms/step\n",
      "              precision    recall  f1-score   support\n",
      "\n",
      "           0       0.78      0.91      0.84        35\n",
      "           1       0.50      0.31      0.38        13\n",
      "           2       0.20      0.17      0.18         6\n",
      "           3       0.29      0.50      0.36         4\n",
      "           4       0.00      0.00      0.00         3\n",
      "\n",
      "    accuracy                           0.64        61\n",
      "   macro avg       0.35      0.38      0.35        61\n",
      "weighted avg       0.59      0.64      0.61        61\n",
      "\n",
      "[0 0 1 1 1 0 3 1 3 0]\n"
     ]
    },
    {
     "output_type": "stream",
     "name": "stderr",
     "text": [
      "/usr/local/lib/python3.10/dist-packages/sklearn/metrics/_classification.py:1471: UndefinedMetricWarning: Precision and F-score are ill-defined and being set to 0.0 in labels with no predicted samples. Use `zero_division` parameter to control this behavior.\n",
      "  _warn_prf(average, modifier, msg_start, len(result))\n",
      "/usr/local/lib/python3.10/dist-packages/sklearn/metrics/_classification.py:1471: UndefinedMetricWarning: Precision and F-score are ill-defined and being set to 0.0 in labels with no predicted samples. Use `zero_division` parameter to control this behavior.\n",
      "  _warn_prf(average, modifier, msg_start, len(result))\n",
      "/usr/local/lib/python3.10/dist-packages/sklearn/metrics/_classification.py:1471: UndefinedMetricWarning: Precision and F-score are ill-defined and being set to 0.0 in labels with no predicted samples. Use `zero_division` parameter to control this behavior.\n",
      "  _warn_prf(average, modifier, msg_start, len(result))\n"
     ]
    }
   ]
  },
  {
   "cell_type": "markdown",
   "source": [
    "### Confusion Matrix"
   ],
   "metadata": {
    "id": "0WcS5o6LRygv"
   },
   "id": "0WcS5o6LRygv"
  },
  {
   "cell_type": "code",
   "source": [
    "from sklearn.metrics import confusion_matrix\n",
    "import seaborn as sns\n",
    "import matplotlib.pyplot as plt\n",
    "\n",
    "# Generate the confusion matrix\n",
    "conf_matrix = confusion_matrix(true_classes, predicted_classes)\n",
    "\n",
    "# Plot the confusion matrix\n",
    "sns.heatmap(conf_matrix, annot=True, fmt='d', cmap=\"Blues\")\n",
    "plt.xlabel('Predicted Classes')\n",
    "plt.ylabel('True Classes')\n",
    "plt.title('Confusion Matrix')\n",
    "plt.show()"
   ],
   "metadata": {
    "colab": {
     "base_uri": "https://localhost:8080/",
     "height": 0
    },
    "id": "vea-5q_pQz3V",
    "outputId": "d5328c06-f9cb-4185-cc3e-be60be41a3dd"
   },
   "id": "vea-5q_pQz3V",
   "execution_count": 193,
   "outputs": [
    {
     "output_type": "display_data",
     "data": {
      "text/plain": [
       "<Figure size 640x480 with 2 Axes>"
      ],
      "image/png": "[encoded data removed]"
     },
     "metadata": {}
    }
   ]
  },
  {
   "cell_type": "markdown",
   "source": [
    "## Insights to Expect:\n",
    "1. **Accuracy:**  The test accuracy will show how well the model performs on multi-class classification. Compare training and validation accuracies to check for potential overfitting.\n",
    "\n",
    "\n",
    "2. **Classification Report:** This will include precision, recall, and F1-score for each of the 5 classes, providing detailed performance metrics.\n",
    "\n",
    "3. **Class Imbalance:** If some classes are underrepresented, you might notice poorer performance (lower recall or precision) for those specific classes. If this is the case, you could consider techniques like class weighting or data augmentation."
   ],
   "metadata": {
    "id": "By9_H7A9LM5F"
   },
   "id": "By9_H7A9LM5F"
  },
  {
   "cell_type": "markdown",
   "source": [
    " # Improvement : Check for Class Imbalance:"
   ],
   "metadata": {
    "id": "tAhunR3HLoHb"
   },
   "id": "tAhunR3HLoHb"
  },
  {
   "cell_type": "code",
   "source": [
    "# Check the distribution of the 'num' target column\n",
    "class_distribution = df['num'].value_counts()\n",
    "print(class_distribution)"
   ],
   "metadata": {
    "id": "jbaoQp4NPGjN",
    "colab": {
     "base_uri": "https://localhost:8080/"
    },
    "outputId": "c70adeff-1c68-4ad7-bb5b-88e46cb5c2a4"
   },
   "id": "jbaoQp4NPGjN",
   "execution_count": 108,
   "outputs": [
    {
     "output_type": "stream",
     "name": "stdout",
     "text": [
      "num\n",
      "0    164\n",
      "1     55\n",
      "2     36\n",
      "3     35\n",
      "4     13\n",
      "Name: count, dtype: int64\n"
     ]
    }
   ]
  },
  {
   "cell_type": "markdown",
   "source": [
    "**a. Class Weights:**\n",
    "In Keras, you can pass a `class_weight` parameter to the `fit()` function. This tells the model to give more importance to the minority classes, thus helping to balance the learning.\n",
    "\n",
    "The **class_weight** dictionary adjusts the model’s loss function to give higher weight to underrepresented classes, making the model more sensitive to those classes."
   ],
   "metadata": {
    "id": "Hur1k1mkL34t"
   },
   "id": "Hur1k1mkL34t"
  },
  {
   "cell_type": "markdown",
   "source": [
    "##  Strategies to Handle Class Imbalance:"
   ],
   "metadata": {
    "id": "RySWW5QR31vE"
   },
   "id": "RySWW5QR31vE"
  },
  {
   "cell_type": "markdown",
   "source": [
    "### 1. Class Weights:\n",
    "\n",
    "In Keras, you can pass a `class_weight` parameter to the **fit()** function. This tells the model to give more importance to the minority classes, thus helping to balance the learning."
   ],
   "metadata": {
    "id": "9pLqAJYU3-Ed"
   },
   "id": "9pLqAJYU3-Ed"
  },
  {
   "cell_type": "code",
   "source": [
    "from sklearn.utils import class_weight\n",
    "\n",
    "# Compute class weights based on the distribution of target: 'num'\n",
    "class_weights = class_weight.compute_class_weight('balanced',\n",
    "                                                  classes=np.unique(df['num']),\n",
    "                                                  y=df['num'])\n",
    "class_weight_dict = dict(enumerate(class_weights))\n",
    "print(class_weight_dict)"
   ],
   "metadata": {
    "colab": {
     "base_uri": "https://localhost:8080/"
    },
    "id": "vMrpzgEsLzV0",
    "outputId": "9addc390-d902-4fcd-a538-7f17b91d990f"
   },
   "id": "vMrpzgEsLzV0",
   "execution_count": 109,
   "outputs": [
    {
     "output_type": "stream",
     "name": "stdout",
     "text": [
      "{0: 0.3695121951219512, 1: 1.1018181818181818, 2: 1.6833333333333333, 3: 1.7314285714285715, 4: 4.661538461538462}\n"
     ]
    }
   ]
  },
  {
   "cell_type": "markdown",
   "source": [
    "Note: The **class_weight** dictionary adjusts the model’s loss function to give higher weight to underrepresented classes, making the model more sensitive to those classes"
   ],
   "metadata": {
    "id": "JIY0SPYW4Wmz"
   },
   "id": "JIY0SPYW4Wmz"
  },
  {
   "cell_type": "code",
   "source": [
    "# Pass the class weights to the fit function\n",
    "history = model.fit(X_train, y_train, epochs=50, batch_size=32, validation_data=(X_test, y_test),\n",
    "                    class_weight=class_weight_dict)"
   ],
   "metadata": {
    "colab": {
     "base_uri": "https://localhost:8080/"
    },
    "id": "TsObO7AS4TAk",
    "outputId": "148e1478-bcd0-4caa-a435-061da8668941"
   },
   "id": "TsObO7AS4TAk",
   "execution_count": 110,
   "outputs": [
    {
     "output_type": "stream",
     "name": "stdout",
     "text": [
      "Epoch 1/50\n",
      "\u001B[1m8/8\u001B[0m \u001B[32m━━━━━━━━━━━━━━━━━━━━\u001B[0m\u001B[37m\u001B[0m \u001B[1m1s\u001B[0m 13ms/step - accuracy: 0.4612 - loss: 1.4933 - val_accuracy: 0.5246 - val_loss: 1.3490\n",
      "Epoch 2/50\n",
      "\u001B[1m8/8\u001B[0m \u001B[32m━━━━━━━━━━━━━━━━━━━━\u001B[0m\u001B[37m\u001B[0m \u001B[1m0s\u001B[0m 6ms/step - accuracy: 0.5401 - loss: 1.3335 - val_accuracy: 0.4754 - val_loss: 1.5212\n",
      "Epoch 3/50\n",
      "\u001B[1m8/8\u001B[0m \u001B[32m━━━━━━━━━━━━━━━━━━━━\u001B[0m\u001B[37m\u001B[0m \u001B[1m0s\u001B[0m 6ms/step - accuracy: 0.5198 - loss: 1.3927 - val_accuracy: 0.5246 - val_loss: 1.3872\n",
      "Epoch 4/50\n",
      "\u001B[1m8/8\u001B[0m \u001B[32m━━━━━━━━━━━━━━━━━━━━\u001B[0m\u001B[37m\u001B[0m \u001B[1m0s\u001B[0m 8ms/step - accuracy: 0.5074 - loss: 1.4730 - val_accuracy: 0.4590 - val_loss: 1.3601\n",
      "Epoch 5/50\n",
      "\u001B[1m8/8\u001B[0m \u001B[32m━━━━━━━━━━━━━━━━━━━━\u001B[0m\u001B[37m\u001B[0m \u001B[1m0s\u001B[0m 6ms/step - accuracy: 0.5247 - loss: 1.5625 - val_accuracy: 0.5738 - val_loss: 1.1895\n",
      "Epoch 6/50\n",
      "\u001B[1m8/8\u001B[0m \u001B[32m━━━━━━━━━━━━━━━━━━━━\u001B[0m\u001B[37m\u001B[0m \u001B[1m0s\u001B[0m 6ms/step - accuracy: 0.5398 - loss: 1.4444 - val_accuracy: 0.4426 - val_loss: 1.4680\n",
      "Epoch 7/50\n",
      "\u001B[1m8/8\u001B[0m \u001B[32m━━━━━━━━━━━━━━━━━━━━\u001B[0m\u001B[37m\u001B[0m \u001B[1m0s\u001B[0m 7ms/step - accuracy: 0.4552 - loss: 1.3776 - val_accuracy: 0.5574 - val_loss: 1.4100\n",
      "Epoch 8/50\n",
      "\u001B[1m8/8\u001B[0m \u001B[32m━━━━━━━━━━━━━━━━━━━━\u001B[0m\u001B[37m\u001B[0m \u001B[1m0s\u001B[0m 8ms/step - accuracy: 0.5816 - loss: 1.3984 - val_accuracy: 0.5246 - val_loss: 1.3388\n",
      "Epoch 9/50\n",
      "\u001B[1m8/8\u001B[0m \u001B[32m━━━━━━━━━━━━━━━━━━━━\u001B[0m\u001B[37m\u001B[0m \u001B[1m0s\u001B[0m 8ms/step - accuracy: 0.5059 - loss: 1.3221 - val_accuracy: 0.5246 - val_loss: 1.1985\n",
      "Epoch 10/50\n",
      "\u001B[1m8/8\u001B[0m \u001B[32m━━━━━━━━━━━━━━━━━━━━\u001B[0m\u001B[37m\u001B[0m \u001B[1m0s\u001B[0m 6ms/step - accuracy: 0.5308 - loss: 1.5119 - val_accuracy: 0.5246 - val_loss: 1.2104\n",
      "Epoch 11/50\n",
      "\u001B[1m8/8\u001B[0m \u001B[32m━━━━━━━━━━━━━━━━━━━━\u001B[0m\u001B[37m\u001B[0m \u001B[1m0s\u001B[0m 9ms/step - accuracy: 0.5158 - loss: 1.6214 - val_accuracy: 0.4918 - val_loss: 1.2147\n",
      "Epoch 12/50\n",
      "\u001B[1m8/8\u001B[0m \u001B[32m━━━━━━━━━━━━━━━━━━━━\u001B[0m\u001B[37m\u001B[0m \u001B[1m0s\u001B[0m 6ms/step - accuracy: 0.5575 - loss: 1.3959 - val_accuracy: 0.5738 - val_loss: 1.1444\n",
      "Epoch 13/50\n",
      "\u001B[1m8/8\u001B[0m \u001B[32m━━━━━━━━━━━━━━━━━━━━\u001B[0m\u001B[37m\u001B[0m \u001B[1m0s\u001B[0m 9ms/step - accuracy: 0.5716 - loss: 1.3735 - val_accuracy: 0.5410 - val_loss: 1.2942\n",
      "Epoch 14/50\n",
      "\u001B[1m8/8\u001B[0m \u001B[32m━━━━━━━━━━━━━━━━━━━━\u001B[0m\u001B[37m\u001B[0m \u001B[1m0s\u001B[0m 6ms/step - accuracy: 0.5955 - loss: 1.3833 - val_accuracy: 0.4918 - val_loss: 1.3940\n",
      "Epoch 15/50\n",
      "\u001B[1m8/8\u001B[0m \u001B[32m━━━━━━━━━━━━━━━━━━━━\u001B[0m\u001B[37m\u001B[0m \u001B[1m0s\u001B[0m 6ms/step - accuracy: 0.4899 - loss: 1.3061 - val_accuracy: 0.5738 - val_loss: 1.2755\n",
      "Epoch 16/50\n",
      "\u001B[1m8/8\u001B[0m \u001B[32m━━━━━━━━━━━━━━━━━━━━\u001B[0m\u001B[37m\u001B[0m \u001B[1m0s\u001B[0m 8ms/step - accuracy: 0.5367 - loss: 1.5436 - val_accuracy: 0.4754 - val_loss: 1.3520\n",
      "Epoch 17/50\n",
      "\u001B[1m8/8\u001B[0m \u001B[32m━━━━━━━━━━━━━━━━━━━━\u001B[0m\u001B[37m\u001B[0m \u001B[1m0s\u001B[0m 8ms/step - accuracy: 0.5305 - loss: 1.2868 - val_accuracy: 0.4918 - val_loss: 1.3115\n",
      "Epoch 18/50\n",
      "\u001B[1m8/8\u001B[0m \u001B[32m━━━━━━━━━━━━━━━━━━━━\u001B[0m\u001B[37m\u001B[0m \u001B[1m0s\u001B[0m 8ms/step - accuracy: 0.5484 - loss: 1.2934 - val_accuracy: 0.5574 - val_loss: 1.3950\n",
      "Epoch 19/50\n",
      "\u001B[1m8/8\u001B[0m \u001B[32m━━━━━━━━━━━━━━━━━━━━\u001B[0m\u001B[37m\u001B[0m \u001B[1m0s\u001B[0m 8ms/step - accuracy: 0.5673 - loss: 1.4990 - val_accuracy: 0.4262 - val_loss: 1.7649\n",
      "Epoch 20/50\n",
      "\u001B[1m8/8\u001B[0m \u001B[32m━━━━━━━━━━━━━━━━━━━━\u001B[0m\u001B[37m\u001B[0m \u001B[1m0s\u001B[0m 6ms/step - accuracy: 0.3970 - loss: 1.5403 - val_accuracy: 0.5246 - val_loss: 1.1480\n",
      "Epoch 21/50\n",
      "\u001B[1m8/8\u001B[0m \u001B[32m━━━━━━━━━━━━━━━━━━━━\u001B[0m\u001B[37m\u001B[0m \u001B[1m0s\u001B[0m 6ms/step - accuracy: 0.6047 - loss: 1.4011 - val_accuracy: 0.4754 - val_loss: 1.3560\n",
      "Epoch 22/50\n",
      "\u001B[1m8/8\u001B[0m \u001B[32m━━━━━━━━━━━━━━━━━━━━\u001B[0m\u001B[37m\u001B[0m \u001B[1m0s\u001B[0m 9ms/step - accuracy: 0.4160 - loss: 1.5176 - val_accuracy: 0.4918 - val_loss: 1.8863\n",
      "Epoch 23/50\n",
      "\u001B[1m8/8\u001B[0m \u001B[32m━━━━━━━━━━━━━━━━━━━━\u001B[0m\u001B[37m\u001B[0m \u001B[1m0s\u001B[0m 8ms/step - accuracy: 0.5358 - loss: 1.8460 - val_accuracy: 0.4262 - val_loss: 1.5258\n",
      "Epoch 24/50\n",
      "\u001B[1m8/8\u001B[0m \u001B[32m━━━━━━━━━━━━━━━━━━━━\u001B[0m\u001B[37m\u001B[0m \u001B[1m0s\u001B[0m 6ms/step - accuracy: 0.3740 - loss: 1.9010 - val_accuracy: 0.5902 - val_loss: 1.2571\n",
      "Epoch 25/50\n",
      "\u001B[1m8/8\u001B[0m \u001B[32m━━━━━━━━━━━━━━━━━━━━\u001B[0m\u001B[37m\u001B[0m \u001B[1m0s\u001B[0m 7ms/step - accuracy: 0.4686 - loss: 2.2080 - val_accuracy: 0.4262 - val_loss: 1.7281\n",
      "Epoch 26/50\n",
      "\u001B[1m8/8\u001B[0m \u001B[32m━━━━━━━━━━━━━━━━━━━━\u001B[0m\u001B[37m\u001B[0m \u001B[1m0s\u001B[0m 9ms/step - accuracy: 0.5857 - loss: 1.4906 - val_accuracy: 0.4426 - val_loss: 1.5147\n",
      "Epoch 27/50\n",
      "\u001B[1m8/8\u001B[0m \u001B[32m━━━━━━━━━━━━━━━━━━━━\u001B[0m\u001B[37m\u001B[0m \u001B[1m0s\u001B[0m 8ms/step - accuracy: 0.4630 - loss: 1.3203 - val_accuracy: 0.5902 - val_loss: 1.1387\n",
      "Epoch 28/50\n",
      "\u001B[1m8/8\u001B[0m \u001B[32m━━━━━━━━━━━━━━━━━━━━\u001B[0m\u001B[37m\u001B[0m \u001B[1m0s\u001B[0m 8ms/step - accuracy: 0.6238 - loss: 1.4070 - val_accuracy: 0.4754 - val_loss: 1.2717\n",
      "Epoch 29/50\n",
      "\u001B[1m8/8\u001B[0m \u001B[32m━━━━━━━━━━━━━━━━━━━━\u001B[0m\u001B[37m\u001B[0m \u001B[1m0s\u001B[0m 9ms/step - accuracy: 0.5483 - loss: 1.3256 - val_accuracy: 0.5574 - val_loss: 1.2950\n",
      "Epoch 30/50\n",
      "\u001B[1m8/8\u001B[0m \u001B[32m━━━━━━━━━━━━━━━━━━━━\u001B[0m\u001B[37m\u001B[0m \u001B[1m0s\u001B[0m 9ms/step - accuracy: 0.5349 - loss: 1.4154 - val_accuracy: 0.5738 - val_loss: 1.1577\n",
      "Epoch 31/50\n",
      "\u001B[1m8/8\u001B[0m \u001B[32m━━━━━━━━━━━━━━━━━━━━\u001B[0m\u001B[37m\u001B[0m \u001B[1m0s\u001B[0m 9ms/step - accuracy: 0.5926 - loss: 1.3936 - val_accuracy: 0.5410 - val_loss: 1.2333\n",
      "Epoch 32/50\n",
      "\u001B[1m8/8\u001B[0m \u001B[32m━━━━━━━━━━━━━━━━━━━━\u001B[0m\u001B[37m\u001B[0m \u001B[1m0s\u001B[0m 6ms/step - accuracy: 0.6047 - loss: 1.3012 - val_accuracy: 0.5902 - val_loss: 1.2597\n",
      "Epoch 33/50\n",
      "\u001B[1m8/8\u001B[0m \u001B[32m━━━━━━━━━━━━━━━━━━━━\u001B[0m\u001B[37m\u001B[0m \u001B[1m0s\u001B[0m 6ms/step - accuracy: 0.6062 - loss: 1.3178 - val_accuracy: 0.4918 - val_loss: 1.3653\n",
      "Epoch 34/50\n",
      "\u001B[1m8/8\u001B[0m \u001B[32m━━━━━━━━━━━━━━━━━━━━\u001B[0m\u001B[37m\u001B[0m \u001B[1m0s\u001B[0m 6ms/step - accuracy: 0.5452 - loss: 1.3367 - val_accuracy: 0.5902 - val_loss: 1.2071\n",
      "Epoch 35/50\n",
      "\u001B[1m8/8\u001B[0m \u001B[32m━━━━━━━━━━━━━━━━━━━━\u001B[0m\u001B[37m\u001B[0m \u001B[1m0s\u001B[0m 6ms/step - accuracy: 0.5351 - loss: 1.4086 - val_accuracy: 0.4754 - val_loss: 1.5668\n",
      "Epoch 36/50\n",
      "\u001B[1m8/8\u001B[0m \u001B[32m━━━━━━━━━━━━━━━━━━━━\u001B[0m\u001B[37m\u001B[0m \u001B[1m0s\u001B[0m 10ms/step - accuracy: 0.5122 - loss: 1.5681 - val_accuracy: 0.5246 - val_loss: 1.2516\n",
      "Epoch 37/50\n",
      "\u001B[1m8/8\u001B[0m \u001B[32m━━━━━━━━━━━━━━━━━━━━\u001B[0m\u001B[37m\u001B[0m \u001B[1m0s\u001B[0m 7ms/step - accuracy: 0.5634 - loss: 1.3791 - val_accuracy: 0.5246 - val_loss: 1.1592\n",
      "Epoch 38/50\n",
      "\u001B[1m8/8\u001B[0m \u001B[32m━━━━━━━━━━━━━━━━━━━━\u001B[0m\u001B[37m\u001B[0m \u001B[1m0s\u001B[0m 6ms/step - accuracy: 0.5498 - loss: 1.3360 - val_accuracy: 0.5574 - val_loss: 1.1343\n",
      "Epoch 39/50\n",
      "\u001B[1m8/8\u001B[0m \u001B[32m━━━━━━━━━━━━━━━━━━━━\u001B[0m\u001B[37m\u001B[0m \u001B[1m0s\u001B[0m 6ms/step - accuracy: 0.6325 - loss: 1.5092 - val_accuracy: 0.5410 - val_loss: 1.1455\n",
      "Epoch 40/50\n",
      "\u001B[1m8/8\u001B[0m \u001B[32m━━━━━━━━━━━━━━━━━━━━\u001B[0m\u001B[37m\u001B[0m \u001B[1m0s\u001B[0m 6ms/step - accuracy: 0.6179 - loss: 1.3532 - val_accuracy: 0.5574 - val_loss: 1.1901\n",
      "Epoch 41/50\n",
      "\u001B[1m8/8\u001B[0m \u001B[32m━━━━━━━━━━━━━━━━━━━━\u001B[0m\u001B[37m\u001B[0m \u001B[1m0s\u001B[0m 7ms/step - accuracy: 0.5879 - loss: 1.3479 - val_accuracy: 0.5738 - val_loss: 1.1076\n",
      "Epoch 42/50\n",
      "\u001B[1m8/8\u001B[0m \u001B[32m━━━━━━━━━━━━━━━━━━━━\u001B[0m\u001B[37m\u001B[0m \u001B[1m0s\u001B[0m 6ms/step - accuracy: 0.6475 - loss: 1.2907 - val_accuracy: 0.4918 - val_loss: 1.2356\n",
      "Epoch 43/50\n",
      "\u001B[1m8/8\u001B[0m \u001B[32m━━━━━━━━━━━━━━━━━━━━\u001B[0m\u001B[37m\u001B[0m \u001B[1m0s\u001B[0m 6ms/step - accuracy: 0.4555 - loss: 1.3154 - val_accuracy: 0.5574 - val_loss: 1.4270\n",
      "Epoch 44/50\n",
      "\u001B[1m8/8\u001B[0m \u001B[32m━━━━━━━━━━━━━━━━━━━━\u001B[0m\u001B[37m\u001B[0m \u001B[1m0s\u001B[0m 6ms/step - accuracy: 0.6029 - loss: 1.4651 - val_accuracy: 0.4262 - val_loss: 1.4310\n",
      "Epoch 45/50\n",
      "\u001B[1m8/8\u001B[0m \u001B[32m━━━━━━━━━━━━━━━━━━━━\u001B[0m\u001B[37m\u001B[0m \u001B[1m0s\u001B[0m 6ms/step - accuracy: 0.5317 - loss: 1.2540 - val_accuracy: 0.5738 - val_loss: 1.0980\n",
      "Epoch 46/50\n",
      "\u001B[1m8/8\u001B[0m \u001B[32m━━━━━━━━━━━━━━━━━━━━\u001B[0m\u001B[37m\u001B[0m \u001B[1m0s\u001B[0m 6ms/step - accuracy: 0.5951 - loss: 1.2592 - val_accuracy: 0.4098 - val_loss: 1.6923\n",
      "Epoch 47/50\n",
      "\u001B[1m8/8\u001B[0m \u001B[32m━━━━━━━━━━━━━━━━━━━━\u001B[0m\u001B[37m\u001B[0m \u001B[1m0s\u001B[0m 10ms/step - accuracy: 0.4862 - loss: 1.4722 - val_accuracy: 0.6066 - val_loss: 1.1038\n",
      "Epoch 48/50\n",
      "\u001B[1m8/8\u001B[0m \u001B[32m━━━━━━━━━━━━━━━━━━━━\u001B[0m\u001B[37m\u001B[0m \u001B[1m0s\u001B[0m 7ms/step - accuracy: 0.6379 - loss: 1.2384 - val_accuracy: 0.4754 - val_loss: 1.2848\n",
      "Epoch 49/50\n",
      "\u001B[1m8/8\u001B[0m \u001B[32m━━━━━━━━━━━━━━━━━━━━\u001B[0m\u001B[37m\u001B[0m \u001B[1m0s\u001B[0m 8ms/step - accuracy: 0.5521 - loss: 1.3704 - val_accuracy: 0.5738 - val_loss: 1.0707\n",
      "Epoch 50/50\n",
      "\u001B[1m8/8\u001B[0m \u001B[32m━━━━━━━━━━━━━━━━━━━━\u001B[0m\u001B[37m\u001B[0m \u001B[1m0s\u001B[0m 11ms/step - accuracy: 0.6066 - loss: 1.4030 - val_accuracy: 0.4590 - val_loss: 1.3519\n"
     ]
    }
   ]
  },
  {
   "cell_type": "code",
   "source": [
    "# Evaluate the accuracy or any other metric of interest\n",
    "from sklearn.metrics import classification_report\n",
    "\n",
    "# Evaluate the model on the test set\n",
    "test_loss, test_accuracy = model.evaluate(X_test, y_test)\n",
    "print(f\"Test Accuracy: {test_accuracy:.4f}\")\n",
    "print(f\"Test Loss: {test_loss:.4f}\")"
   ],
   "metadata": {
    "id": "HW6fssA2MVJH",
    "colab": {
     "base_uri": "https://localhost:8080/"
    },
    "outputId": "14b16810-4ad3-444b-f94e-e3e003931680"
   },
   "id": "HW6fssA2MVJH",
   "execution_count": 111,
   "outputs": [
    {
     "output_type": "stream",
     "name": "stdout",
     "text": [
      "\u001B[1m2/2\u001B[0m \u001B[32m━━━━━━━━━━━━━━━━━━━━\u001B[0m\u001B[37m\u001B[0m \u001B[1m0s\u001B[0m 10ms/step - accuracy: 0.4414 - loss: 1.4175\n",
      "Test Accuracy: 0.4590\n",
      "Test Loss: 1.3519\n"
     ]
    }
   ]
  },
  {
   "cell_type": "code",
   "source": [
    "# Predict on new data (test set)\n",
    "predictions = model.predict(X_test)\n",
    "predicted_classes = np.argmax(predictions, axis=1)\n",
    "true_classes = np.argmax(y_test, axis=1)\n",
    "\n",
    "# Evaluate the predictions using classification metrics\n",
    "print(classification_report(true_classes, predicted_classes))\n",
    "\n",
    "# Optionally, print the predicted classes for the first 10 examples\n",
    "print(predicted_classes[:10])"
   ],
   "metadata": {
    "colab": {
     "base_uri": "https://localhost:8080/"
    },
    "id": "VghGqeu6RM2j",
    "outputId": "d69abd6c-9c33-415d-b8a5-52d2c826a7f6"
   },
   "id": "VghGqeu6RM2j",
   "execution_count": 112,
   "outputs": [
    {
     "output_type": "stream",
     "name": "stdout",
     "text": [
      "\u001B[1m2/2\u001B[0m \u001B[32m━━━━━━━━━━━━━━━━━━━━\u001B[0m\u001B[37m\u001B[0m \u001B[1m0s\u001B[0m 5ms/step \n",
      "              precision    recall  f1-score   support\n",
      "\n",
      "           0       0.82      0.66      0.73        35\n",
      "           1       0.20      0.15      0.17        13\n",
      "           2       0.29      0.33      0.31         6\n",
      "           3       0.08      0.25      0.12         4\n",
      "           4       0.00      0.00      0.00         3\n",
      "\n",
      "    accuracy                           0.46        61\n",
      "   macro avg       0.28      0.28      0.27        61\n",
      "weighted avg       0.55      0.46      0.49        61\n",
      "\n",
      "[0 4 1 3 1 2 2 3 2 3]\n"
     ]
    }
   ]
  },
  {
   "cell_type": "code",
   "source": [
    "from sklearn.metrics import confusion_matrix\n",
    "import seaborn as sns\n",
    "import matplotlib.pyplot as plt\n",
    "\n",
    "# Generate the confusion matrix\n",
    "conf_matrix = confusion_matrix(true_classes, predicted_classes)\n",
    "\n",
    "# Plot the confusion matrix\n",
    "sns.heatmap(conf_matrix, annot=True, fmt='d', cmap=\"Blues\")\n",
    "plt.xlabel('Predicted Classes')\n",
    "plt.ylabel('True Classes')\n",
    "plt.title('Confusion Matrix')\n",
    "plt.show()\n"
   ],
   "metadata": {
    "colab": {
     "base_uri": "https://localhost:8080/",
     "height": 472
    },
    "id": "GE-lyFFhMXLZ",
    "outputId": "c43ed5ce-ab24-42fc-8069-1cb27078b777"
   },
   "id": "GE-lyFFhMXLZ",
   "execution_count": 113,
   "outputs": [
    {
     "output_type": "display_data",
     "data": {
      "text/plain": [
       "<Figure size 640x480 with 2 Axes>"
      ],
      "image/png": "[encoded data removed]"
     },
     "metadata": {}
    }
   ]
  },
  {
   "cell_type": "markdown",
   "source": [
    "The **confusion matrix** you provided shows that the model is predicting all samples as class `0` (the first class) and is not making any predictions for classes `1, 2, 3, or 4`. This suggests a severe class imbalance issue or that the model has learned to always predict the majority class (`class 0`), which dominates the dataset.\n",
    "\n",
    "Insights and Recommendations:\n",
    "\n",
    "1. **Class Imbalance:**\n",
    "Your dataset likely has a significant imbalance, where the majority of samples belong to class 0 and fewer samples belong to classes 1, 2, 3, and 4. This causes the model to prioritize accuracy for class 0 while ignoring the minority classes.\n",
    "\n",
    "2. **Class Weights Adjustment:**\n",
    "It seems that applying class weights did not significantly improve the model's performance across the minority classes. This could mean that the class imbalance is so severe that class weights alone are not enough to solve the problem."
   ],
   "metadata": {
    "id": "T1gRoIoFM83X"
   },
   "id": "T1gRoIoFM83X"
  },
  {
   "cell_type": "markdown",
   "source": [
    "### 2. Oversampling/Undersampling:\n",
    "\n",
    "Oversampling involves increasing the number of samples in the minority classes, while undersampling involves reducing the number of samples in the majority class.\n",
    "\n",
    "Library : `imbalanced-learn` library (`imblearn`) to perform\n",
    "1. oversampling (e.g., SMOTE) or\n",
    "2. undersampling:"
   ],
   "metadata": {
    "id": "RHegRjYMIrpY"
   },
   "id": "RHegRjYMIrpY"
  },
  {
   "cell_type": "code",
   "source": [
    "! pip install imblearn"
   ],
   "metadata": {
    "colab": {
     "base_uri": "https://localhost:8080/"
    },
    "id": "0rua3MUkIuV2",
    "outputId": "7391e567-c676-463a-b85c-0e9d009bf432"
   },
   "id": "0rua3MUkIuV2",
   "execution_count": 114,
   "outputs": [
    {
     "output_type": "stream",
     "name": "stdout",
     "text": [
      "Collecting imblearn\n",
      "  Downloading imblearn-0.0-py2.py3-none-any.whl.metadata (355 bytes)\n",
      "Requirement already satisfied: imbalanced-learn in /usr/local/lib/python3.10/dist-packages (from imblearn) (0.12.3)\n",
      "Requirement already satisfied: numpy>=1.17.3 in /usr/local/lib/python3.10/dist-packages (from imbalanced-learn->imblearn) (1.26.4)\n",
      "Requirement already satisfied: scipy>=1.5.0 in /usr/local/lib/python3.10/dist-packages (from imbalanced-learn->imblearn) (1.13.1)\n",
      "Requirement already satisfied: scikit-learn>=1.0.2 in /usr/local/lib/python3.10/dist-packages (from imbalanced-learn->imblearn) (1.3.2)\n",
      "Requirement already satisfied: joblib>=1.1.1 in /usr/local/lib/python3.10/dist-packages (from imbalanced-learn->imblearn) (1.4.2)\n",
      "Requirement already satisfied: threadpoolctl>=2.0.0 in /usr/local/lib/python3.10/dist-packages (from imbalanced-learn->imblearn) (3.5.0)\n",
      "Downloading imblearn-0.0-py2.py3-none-any.whl (1.9 kB)\n",
      "Installing collected packages: imblearn\n",
      "Successfully installed imblearn-0.0\n"
     ]
    }
   ]
  },
  {
   "cell_type": "markdown",
   "source": [
    "### 2.1 SMOTE (Synthetic Minority Oversampling Technique):\n",
    "\n",
    "Instead of only relying on class weights, apply SMOTE to oversample the minority classes. This technique generates synthetic examples for the underrepresented classes, allowing the model to better learn these classes.\n",
    "\n",
    "NOte: Make sure there are no NULL/ `NAN` values in the features"
   ],
   "metadata": {
    "id": "L10wsS2dNRYn"
   },
   "id": "L10wsS2dNRYn"
  },
  {
   "cell_type": "code",
   "source": [
    "# Apply SMOTE for class imbalance\n",
    "from imblearn.over_sampling import SMOTE\n",
    "sm = SMOTE(random_state=42)\n",
    "X_resampled, y_resampled = sm.fit_resample(X_train, y_train)"
   ],
   "metadata": {
    "id": "4gmEKfp6NSH9"
   },
   "id": "4gmEKfp6NSH9",
   "execution_count": 115,
   "outputs": []
  },
  {
   "cell_type": "code",
   "source": [
    "np.unique(y)"
   ],
   "metadata": {
    "colab": {
     "base_uri": "https://localhost:8080/"
    },
    "id": "HCCigsmQTiGb",
    "outputId": "0d4eca52-0a4f-44e5-8bcf-5ed5d71af270"
   },
   "id": "HCCigsmQTiGb",
   "execution_count": 116,
   "outputs": [
    {
     "output_type": "execute_result",
     "data": {
      "text/plain": [
       "array([0, 1, 2, 3, 4])"
      ]
     },
     "metadata": {},
     "execution_count": 116
    }
   ]
  },
  {
   "cell_type": "code",
   "source": [
    "unique, counts = np.unique(y_train, return_counts=True)\n",
    "\n",
    "dict(zip(unique, counts))"
   ],
   "metadata": {
    "colab": {
     "base_uri": "https://localhost:8080/"
    },
    "id": "AZCBEeX3SV7q",
    "outputId": "2ddf73cf-249c-4fd4-b1d1-582b37e8e2eb"
   },
   "id": "AZCBEeX3SV7q",
   "execution_count": 117,
   "outputs": [
    {
     "output_type": "execute_result",
     "data": {
      "text/plain": [
       "{0.0: 968, 1.0: 242}"
      ]
     },
     "metadata": {},
     "execution_count": 117
    }
   ]
  },
  {
   "cell_type": "code",
   "source": [
    "import numpy as np\n",
    "unique, counts = np.unique(y_resampled, return_counts=True)\n",
    "\n",
    "dict(zip(unique, counts))"
   ],
   "metadata": {
    "colab": {
     "base_uri": "https://localhost:8080/"
    },
    "id": "iclQyshC4ulj",
    "outputId": "f668c51e-ef15-4d82-aaf4-3673a7499fda"
   },
   "id": "iclQyshC4ulj",
   "execution_count": 118,
   "outputs": [
    {
     "output_type": "execute_result",
     "data": {
      "text/plain": [
       "{0: 2580, 1: 645}"
      ]
     },
     "metadata": {},
     "execution_count": 118
    }
   ]
  },
  {
   "cell_type": "markdown",
   "source": [
    "You can see all the Target Labels have the same number of events"
   ],
   "metadata": {
    "id": "jVqhNwXh5Ama"
   },
   "id": "jVqhNwXh5Ama"
  },
  {
   "cell_type": "code",
   "source": [
    "import pandas as pd\n",
    "import numpy as np\n",
    "from sklearn.model_selection import train_test_split\n",
    "from sklearn.preprocessing import StandardScaler, OneHotEncoder\n",
    "from tensorflow.keras.models import Sequential\n",
    "from tensorflow.keras.layers import Dense\n",
    "from tensorflow.keras.optimizers import Adam\n",
    "from tensorflow.keras.losses import CategoricalCrossentropy\n",
    "from sklearn.metrics import classification_report\n",
    "\n",
    "# Load your dataset and handle missing values in 'ca' and 'thal'\n",
    "missing_values_columns = ['ca', 'thal']\n",
    "imputer = SimpleImputer(strategy='mean')  # Impute missing values with the mean\n",
    "df[missing_values_columns] = imputer.fit_transform(df[missing_values_columns])\n",
    "\n",
    "# Define features and target\n",
    "X = df.drop('num', axis=1).values\n",
    "y = df['num'].values\n",
    "\n",
    "# One-hot encode the target variable (Option 1)\n",
    "encoder = OneHotEncoder(sparse=False)\n",
    "y = encoder.fit_transform(y.reshape(-1, 1))  # One-hot encode y\n",
    "\n",
    "# Alternatively, you can use to_categorical (Option 2)\n",
    "# y = to_categorical(y, num_classes=5)\n",
    "\n",
    "# Split the dataset into training and testing sets\n",
    "X_train, X_test, y_train, y_test = train_test_split(X, y, test_size=0.2, random_state=42)\n",
    "\n",
    "# Scale the features (important for neural networks)\n",
    "scaler = StandardScaler()\n",
    "X_train = scaler.fit_transform(X_train)\n",
    "X_test = scaler.transform(X_test)\n",
    "\n",
    "# # Apply SMOTE for class imbalance\n",
    "from imblearn.over_sampling import SMOTE\n",
    "sm = SMOTE(random_state=42)\n",
    "X_resampled, y_resampled = sm.fit_resample(X_train, y_train)\n",
    "\n",
    "\n",
    "# print the resampled y and x\n",
    "unique, counts = np.unique(y_resampled, return_counts=True)\n",
    "print(dict(zip(unique, counts)))\n",
    "\n",
    "\n",
    "# Define the Keras multi-class classifier model\n",
    "model = Sequential()\n",
    "model.add(Dense(64, activation='relu', input_shape=(X_resampled.shape[1],)))\n",
    "model.add(Dense(32, activation='relu'))\n",
    "model.add(Dense(5, activation='softmax'))  # Output layer for multi-class classification\n",
    "\n",
    "# Compile the model\n",
    "model.compile(optimizer=Adam(learning_rate=0.001),\n",
    "              loss=CategoricalCrossentropy(),\n",
    "              metrics=['accuracy'])\n",
    "\n",
    "# Train the model\n",
    "history = model.fit(X_resampled, y_resampled, epochs=50, batch_size=32, validation_data=(X_test, y_test))\n",
    "\n",
    "\n"
   ],
   "metadata": {
    "colab": {
     "base_uri": "https://localhost:8080/"
    },
    "id": "zcmE0thq5BLF",
    "outputId": "29b7c978-61d8-49e7-8775-cac1d3cead3b"
   },
   "id": "zcmE0thq5BLF",
   "execution_count": 123,
   "outputs": [
    {
     "output_type": "stream",
     "name": "stdout",
     "text": [
      "{0: 2700, 1: 675}\n",
      "Epoch 1/50\n"
     ]
    },
    {
     "output_type": "stream",
     "name": "stderr",
     "text": [
      "/usr/local/lib/python3.10/dist-packages/sklearn/preprocessing/_encoders.py:975: FutureWarning: `sparse` was renamed to `sparse_output` in version 1.2 and will be removed in 1.4. `sparse_output` is ignored unless you leave `sparse` to its default value.\n",
      "  warnings.warn(\n",
      "/usr/local/lib/python3.10/dist-packages/keras/src/layers/core/dense.py:87: UserWarning: Do not pass an `input_shape`/`input_dim` argument to a layer. When using Sequential models, prefer using an `Input(shape)` object as the first layer in the model instead.\n",
      "  super().__init__(activity_regularizer=activity_regularizer, **kwargs)\n"
     ]
    },
    {
     "output_type": "stream",
     "name": "stdout",
     "text": [
      "\u001B[1m22/22\u001B[0m \u001B[32m━━━━━━━━━━━━━━━━━━━━\u001B[0m\u001B[37m\u001B[0m \u001B[1m2s\u001B[0m 21ms/step - accuracy: 0.2920 - loss: 1.5857 - val_accuracy: 0.3443 - val_loss: 1.5242\n",
      "Epoch 2/50\n",
      "\u001B[1m22/22\u001B[0m \u001B[32m━━━━━━━━━━━━━━━━━━━━\u001B[0m\u001B[37m\u001B[0m \u001B[1m0s\u001B[0m 6ms/step - accuracy: 0.4591 - loss: 1.4040 - val_accuracy: 0.4590 - val_loss: 1.3550\n",
      "Epoch 3/50\n",
      "\u001B[1m22/22\u001B[0m \u001B[32m━━━━━━━━━━━━━━━━━━━━\u001B[0m\u001B[37m\u001B[0m \u001B[1m0s\u001B[0m 6ms/step - accuracy: 0.5643 - loss: 1.2336 - val_accuracy: 0.5246 - val_loss: 1.2263\n",
      "Epoch 4/50\n",
      "\u001B[1m22/22\u001B[0m \u001B[32m━━━━━━━━━━━━━━━━━━━━\u001B[0m\u001B[37m\u001B[0m \u001B[1m0s\u001B[0m 6ms/step - accuracy: 0.5854 - loss: 1.1296 - val_accuracy: 0.5082 - val_loss: 1.1551\n",
      "Epoch 5/50\n",
      "\u001B[1m22/22\u001B[0m \u001B[32m━━━━━━━━━━━━━━━━━━━━\u001B[0m\u001B[37m\u001B[0m \u001B[1m0s\u001B[0m 6ms/step - accuracy: 0.6733 - loss: 0.9831 - val_accuracy: 0.4918 - val_loss: 1.1425\n",
      "Epoch 6/50\n",
      "\u001B[1m22/22\u001B[0m \u001B[32m━━━━━━━━━━━━━━━━━━━━\u001B[0m\u001B[37m\u001B[0m \u001B[1m0s\u001B[0m 7ms/step - accuracy: 0.6741 - loss: 0.9473 - val_accuracy: 0.5410 - val_loss: 1.1140\n",
      "Epoch 7/50\n",
      "\u001B[1m22/22\u001B[0m \u001B[32m━━━━━━━━━━━━━━━━━━━━\u001B[0m\u001B[37m\u001B[0m \u001B[1m0s\u001B[0m 7ms/step - accuracy: 0.6711 - loss: 0.8925 - val_accuracy: 0.5246 - val_loss: 1.1153\n",
      "Epoch 8/50\n",
      "\u001B[1m22/22\u001B[0m \u001B[32m━━━━━━━━━━━━━━━━━━━━\u001B[0m\u001B[37m\u001B[0m \u001B[1m0s\u001B[0m 3ms/step - accuracy: 0.6978 - loss: 0.8500 - val_accuracy: 0.5082 - val_loss: 1.1314\n",
      "Epoch 9/50\n",
      "\u001B[1m22/22\u001B[0m \u001B[32m━━━━━━━━━━━━━━━━━━━━\u001B[0m\u001B[37m\u001B[0m \u001B[1m0s\u001B[0m 4ms/step - accuracy: 0.7140 - loss: 0.7821 - val_accuracy: 0.4590 - val_loss: 1.1517\n",
      "Epoch 10/50\n",
      "\u001B[1m22/22\u001B[0m \u001B[32m━━━━━━━━━━━━━━━━━━━━\u001B[0m\u001B[37m\u001B[0m \u001B[1m0s\u001B[0m 6ms/step - accuracy: 0.7426 - loss: 0.7564 - val_accuracy: 0.4754 - val_loss: 1.1768\n",
      "Epoch 11/50\n",
      "\u001B[1m22/22\u001B[0m \u001B[32m━━━━━━━━━━━━━━━━━━━━\u001B[0m\u001B[37m\u001B[0m \u001B[1m0s\u001B[0m 3ms/step - accuracy: 0.8025 - loss: 0.7033 - val_accuracy: 0.4754 - val_loss: 1.2163\n",
      "Epoch 12/50\n",
      "\u001B[1m22/22\u001B[0m \u001B[32m━━━━━━━━━━━━━━━━━━━━\u001B[0m\u001B[37m\u001B[0m \u001B[1m0s\u001B[0m 7ms/step - accuracy: 0.8032 - loss: 0.6187 - val_accuracy: 0.4590 - val_loss: 1.2410\n",
      "Epoch 13/50\n",
      "\u001B[1m22/22\u001B[0m \u001B[32m━━━━━━━━━━━━━━━━━━━━\u001B[0m\u001B[37m\u001B[0m \u001B[1m0s\u001B[0m 6ms/step - accuracy: 0.8201 - loss: 0.6162 - val_accuracy: 0.4754 - val_loss: 1.2623\n",
      "Epoch 14/50\n",
      "\u001B[1m22/22\u001B[0m \u001B[32m━━━━━━━━━━━━━━━━━━━━\u001B[0m\u001B[37m\u001B[0m \u001B[1m0s\u001B[0m 8ms/step - accuracy: 0.8314 - loss: 0.5981 - val_accuracy: 0.4918 - val_loss: 1.2985\n",
      "Epoch 15/50\n",
      "\u001B[1m22/22\u001B[0m \u001B[32m━━━━━━━━━━━━━━━━━━━━\u001B[0m\u001B[37m\u001B[0m \u001B[1m0s\u001B[0m 10ms/step - accuracy: 0.8453 - loss: 0.5419 - val_accuracy: 0.4918 - val_loss: 1.3331\n",
      "Epoch 16/50\n",
      "\u001B[1m22/22\u001B[0m \u001B[32m━━━━━━━━━━━━━━━━━━━━\u001B[0m\u001B[37m\u001B[0m \u001B[1m0s\u001B[0m 10ms/step - accuracy: 0.8288 - loss: 0.5709 - val_accuracy: 0.4918 - val_loss: 1.3633\n",
      "Epoch 17/50\n",
      "\u001B[1m22/22\u001B[0m \u001B[32m━━━━━━━━━━━━━━━━━━━━\u001B[0m\u001B[37m\u001B[0m \u001B[1m1s\u001B[0m 11ms/step - accuracy: 0.8616 - loss: 0.4858 - val_accuracy: 0.4918 - val_loss: 1.4009\n",
      "Epoch 18/50\n",
      "\u001B[1m22/22\u001B[0m \u001B[32m━━━━━━━━━━━━━━━━━━━━\u001B[0m\u001B[37m\u001B[0m \u001B[1m0s\u001B[0m 10ms/step - accuracy: 0.8776 - loss: 0.4805 - val_accuracy: 0.4918 - val_loss: 1.4296\n",
      "Epoch 19/50\n",
      "\u001B[1m22/22\u001B[0m \u001B[32m━━━━━━━━━━━━━━━━━━━━\u001B[0m\u001B[37m\u001B[0m \u001B[1m1s\u001B[0m 10ms/step - accuracy: 0.8685 - loss: 0.4505 - val_accuracy: 0.4918 - val_loss: 1.4577\n",
      "Epoch 20/50\n",
      "\u001B[1m22/22\u001B[0m \u001B[32m━━━━━━━━━━━━━━━━━━━━\u001B[0m\u001B[37m\u001B[0m \u001B[1m0s\u001B[0m 9ms/step - accuracy: 0.8763 - loss: 0.4732 - val_accuracy: 0.4918 - val_loss: 1.4903\n",
      "Epoch 21/50\n",
      "\u001B[1m22/22\u001B[0m \u001B[32m━━━━━━━━━━━━━━━━━━━━\u001B[0m\u001B[37m\u001B[0m \u001B[1m0s\u001B[0m 12ms/step - accuracy: 0.8858 - loss: 0.4031 - val_accuracy: 0.4918 - val_loss: 1.5103\n",
      "Epoch 22/50\n",
      "\u001B[1m22/22\u001B[0m \u001B[32m━━━━━━━━━━━━━━━━━━━━\u001B[0m\u001B[37m\u001B[0m \u001B[1m0s\u001B[0m 5ms/step - accuracy: 0.9011 - loss: 0.3917 - val_accuracy: 0.4918 - val_loss: 1.5297\n",
      "Epoch 23/50\n",
      "\u001B[1m22/22\u001B[0m \u001B[32m━━━━━━━━━━━━━━━━━━━━\u001B[0m\u001B[37m\u001B[0m \u001B[1m0s\u001B[0m 8ms/step - accuracy: 0.8913 - loss: 0.4050 - val_accuracy: 0.4918 - val_loss: 1.5663\n",
      "Epoch 24/50\n",
      "\u001B[1m22/22\u001B[0m \u001B[32m━━━━━━━━━━━━━━━━━━━━\u001B[0m\u001B[37m\u001B[0m \u001B[1m0s\u001B[0m 7ms/step - accuracy: 0.9209 - loss: 0.3624 - val_accuracy: 0.4918 - val_loss: 1.5877\n",
      "Epoch 25/50\n",
      "\u001B[1m22/22\u001B[0m \u001B[32m━━━━━━━━━━━━━━━━━━━━\u001B[0m\u001B[37m\u001B[0m \u001B[1m0s\u001B[0m 5ms/step - accuracy: 0.8917 - loss: 0.3806 - val_accuracy: 0.5082 - val_loss: 1.6136\n",
      "Epoch 26/50\n",
      "\u001B[1m22/22\u001B[0m \u001B[32m━━━━━━━━━━━━━━━━━━━━\u001B[0m\u001B[37m\u001B[0m \u001B[1m0s\u001B[0m 6ms/step - accuracy: 0.9256 - loss: 0.3173 - val_accuracy: 0.4918 - val_loss: 1.6528\n",
      "Epoch 27/50\n",
      "\u001B[1m22/22\u001B[0m \u001B[32m━━━━━━━━━━━━━━━━━━━━\u001B[0m\u001B[37m\u001B[0m \u001B[1m0s\u001B[0m 6ms/step - accuracy: 0.9161 - loss: 0.3316 - val_accuracy: 0.4918 - val_loss: 1.6695\n",
      "Epoch 28/50\n",
      "\u001B[1m22/22\u001B[0m \u001B[32m━━━━━━━━━━━━━━━━━━━━\u001B[0m\u001B[37m\u001B[0m \u001B[1m0s\u001B[0m 5ms/step - accuracy: 0.9276 - loss: 0.3005 - val_accuracy: 0.4918 - val_loss: 1.7308\n",
      "Epoch 29/50\n",
      "\u001B[1m22/22\u001B[0m \u001B[32m━━━━━━━━━━━━━━━━━━━━\u001B[0m\u001B[37m\u001B[0m \u001B[1m0s\u001B[0m 3ms/step - accuracy: 0.9319 - loss: 0.3097 - val_accuracy: 0.4918 - val_loss: 1.7564\n",
      "Epoch 30/50\n",
      "\u001B[1m22/22\u001B[0m \u001B[32m━━━━━━━━━━━━━━━━━━━━\u001B[0m\u001B[37m\u001B[0m \u001B[1m0s\u001B[0m 3ms/step - accuracy: 0.9297 - loss: 0.2989 - val_accuracy: 0.4754 - val_loss: 1.7980\n",
      "Epoch 31/50\n",
      "\u001B[1m22/22\u001B[0m \u001B[32m━━━━━━━━━━━━━━━━━━━━\u001B[0m\u001B[37m\u001B[0m \u001B[1m0s\u001B[0m 4ms/step - accuracy: 0.9423 - loss: 0.2679 - val_accuracy: 0.4754 - val_loss: 1.8286\n",
      "Epoch 32/50\n",
      "\u001B[1m22/22\u001B[0m \u001B[32m━━━━━━━━━━━━━━━━━━━━\u001B[0m\u001B[37m\u001B[0m \u001B[1m0s\u001B[0m 3ms/step - accuracy: 0.9538 - loss: 0.2522 - val_accuracy: 0.4590 - val_loss: 1.8254\n",
      "Epoch 33/50\n",
      "\u001B[1m22/22\u001B[0m \u001B[32m━━━━━━━━━━━━━━━━━━━━\u001B[0m\u001B[37m\u001B[0m \u001B[1m0s\u001B[0m 3ms/step - accuracy: 0.9396 - loss: 0.2572 - val_accuracy: 0.4590 - val_loss: 1.8878\n",
      "Epoch 34/50\n",
      "\u001B[1m22/22\u001B[0m \u001B[32m━━━━━━━━━━━━━━━━━━━━\u001B[0m\u001B[37m\u001B[0m \u001B[1m0s\u001B[0m 4ms/step - accuracy: 0.9518 - loss: 0.2359 - val_accuracy: 0.4590 - val_loss: 1.9181\n",
      "Epoch 35/50\n",
      "\u001B[1m22/22\u001B[0m \u001B[32m━━━━━━━━━━━━━━━━━━━━\u001B[0m\u001B[37m\u001B[0m \u001B[1m0s\u001B[0m 3ms/step - accuracy: 0.9529 - loss: 0.2190 - val_accuracy: 0.4590 - val_loss: 1.9456\n",
      "Epoch 36/50\n",
      "\u001B[1m22/22\u001B[0m \u001B[32m━━━━━━━━━━━━━━━━━━━━\u001B[0m\u001B[37m\u001B[0m \u001B[1m0s\u001B[0m 3ms/step - accuracy: 0.9553 - loss: 0.2126 - val_accuracy: 0.4754 - val_loss: 1.9852\n",
      "Epoch 37/50\n",
      "\u001B[1m22/22\u001B[0m \u001B[32m━━━━━━━━━━━━━━━━━━━━\u001B[0m\u001B[37m\u001B[0m \u001B[1m0s\u001B[0m 3ms/step - accuracy: 0.9635 - loss: 0.2045 - val_accuracy: 0.4754 - val_loss: 2.0091\n",
      "Epoch 38/50\n",
      "\u001B[1m22/22\u001B[0m \u001B[32m━━━━━━━━━━━━━━━━━━━━\u001B[0m\u001B[37m\u001B[0m \u001B[1m0s\u001B[0m 4ms/step - accuracy: 0.9617 - loss: 0.2021 - val_accuracy: 0.4754 - val_loss: 2.0267\n",
      "Epoch 39/50\n",
      "\u001B[1m22/22\u001B[0m \u001B[32m━━━━━━━━━━━━━━━━━━━━\u001B[0m\u001B[37m\u001B[0m \u001B[1m0s\u001B[0m 4ms/step - accuracy: 0.9673 - loss: 0.1930 - val_accuracy: 0.4754 - val_loss: 2.0700\n",
      "Epoch 40/50\n",
      "\u001B[1m22/22\u001B[0m \u001B[32m━━━━━━━━━━━━━━━━━━━━\u001B[0m\u001B[37m\u001B[0m \u001B[1m0s\u001B[0m 4ms/step - accuracy: 0.9744 - loss: 0.1784 - val_accuracy: 0.4754 - val_loss: 2.0816\n",
      "Epoch 41/50\n",
      "\u001B[1m22/22\u001B[0m \u001B[32m━━━━━━━━━━━━━━━━━━━━\u001B[0m\u001B[37m\u001B[0m \u001B[1m0s\u001B[0m 4ms/step - accuracy: 0.9676 - loss: 0.1775 - val_accuracy: 0.4754 - val_loss: 2.1167\n",
      "Epoch 42/50\n",
      "\u001B[1m22/22\u001B[0m \u001B[32m━━━━━━━━━━━━━━━━━━━━\u001B[0m\u001B[37m\u001B[0m \u001B[1m0s\u001B[0m 3ms/step - accuracy: 0.9766 - loss: 0.1608 - val_accuracy: 0.4754 - val_loss: 2.1400\n",
      "Epoch 43/50\n",
      "\u001B[1m22/22\u001B[0m \u001B[32m━━━━━━━━━━━━━━━━━━━━\u001B[0m\u001B[37m\u001B[0m \u001B[1m0s\u001B[0m 4ms/step - accuracy: 0.9688 - loss: 0.1647 - val_accuracy: 0.4590 - val_loss: 2.1756\n",
      "Epoch 44/50\n",
      "\u001B[1m22/22\u001B[0m \u001B[32m━━━━━━━━━━━━━━━━━━━━\u001B[0m\u001B[37m\u001B[0m \u001B[1m0s\u001B[0m 3ms/step - accuracy: 0.9782 - loss: 0.1595 - val_accuracy: 0.4754 - val_loss: 2.2011\n",
      "Epoch 45/50\n",
      "\u001B[1m22/22\u001B[0m \u001B[32m━━━━━━━━━━━━━━━━━━━━\u001B[0m\u001B[37m\u001B[0m \u001B[1m0s\u001B[0m 4ms/step - accuracy: 0.9782 - loss: 0.1409 - val_accuracy: 0.4754 - val_loss: 2.2140\n",
      "Epoch 46/50\n",
      "\u001B[1m22/22\u001B[0m \u001B[32m━━━━━━━━━━━━━━━━━━━━\u001B[0m\u001B[37m\u001B[0m \u001B[1m0s\u001B[0m 4ms/step - accuracy: 0.9792 - loss: 0.1454 - val_accuracy: 0.4754 - val_loss: 2.2585\n",
      "Epoch 47/50\n",
      "\u001B[1m22/22\u001B[0m \u001B[32m━━━━━━━━━━━━━━━━━━━━\u001B[0m\u001B[37m\u001B[0m \u001B[1m0s\u001B[0m 4ms/step - accuracy: 0.9822 - loss: 0.1360 - val_accuracy: 0.4426 - val_loss: 2.2592\n",
      "Epoch 48/50\n",
      "\u001B[1m22/22\u001B[0m \u001B[32m━━━━━━━━━━━━━━━━━━━━\u001B[0m\u001B[37m\u001B[0m \u001B[1m0s\u001B[0m 4ms/step - accuracy: 0.9828 - loss: 0.1285 - val_accuracy: 0.4590 - val_loss: 2.2869\n",
      "Epoch 49/50\n",
      "\u001B[1m22/22\u001B[0m \u001B[32m━━━━━━━━━━━━━━━━━━━━\u001B[0m\u001B[37m\u001B[0m \u001B[1m0s\u001B[0m 5ms/step - accuracy: 0.9893 - loss: 0.1096 - val_accuracy: 0.4426 - val_loss: 2.3178\n",
      "Epoch 50/50\n",
      "\u001B[1m22/22\u001B[0m \u001B[32m━━━━━━━━━━━━━━━━━━━━\u001B[0m\u001B[37m\u001B[0m \u001B[1m0s\u001B[0m 4ms/step - accuracy: 0.9811 - loss: 0.1231 - val_accuracy: 0.4590 - val_loss: 2.3443\n"
     ]
    }
   ]
  },
  {
   "cell_type": "code",
   "source": [
    "# Evaluate the model on the test set\n",
    "test_loss, test_accuracy = model.evaluate(X_test, y_test)\n",
    "print(f\"Test Accuracy: {test_accuracy:.4f}\")"
   ],
   "metadata": {
    "colab": {
     "base_uri": "https://localhost:8080/"
    },
    "id": "ae8qywP1XfeQ",
    "outputId": "47d9153e-cfff-4abf-aa30-f8c215d5bf58"
   },
   "id": "ae8qywP1XfeQ",
   "execution_count": 125,
   "outputs": [
    {
     "output_type": "stream",
     "name": "stdout",
     "text": [
      "\u001B[1m2/2\u001B[0m \u001B[32m━━━━━━━━━━━━━━━━━━━━\u001B[0m\u001B[37m\u001B[0m \u001B[1m0s\u001B[0m 12ms/step - accuracy: 0.4518 - loss: 2.4685\n",
      "Test Accuracy: 0.4590\n"
     ]
    }
   ]
  },
  {
   "cell_type": "code",
   "source": [
    "from sklearn.metrics import confusion_matrix\n",
    "import seaborn as sns\n",
    "import matplotlib.pyplot as plt\n",
    "\n",
    "# Generate the confusion matrix\n",
    "conf_matrix = confusion_matrix(true_classes, predicted_classes)\n",
    "\n",
    "# Plot the confusion matrix\n",
    "sns.heatmap(conf_matrix, annot=True, fmt='d', cmap=\"Blues\")\n",
    "plt.xlabel('Predicted Classes')\n",
    "plt.ylabel('True Classes')\n",
    "plt.title('Confusion Matrix')\n",
    "plt.show()"
   ],
   "metadata": {
    "colab": {
     "base_uri": "https://localhost:8080/",
     "height": 472
    },
    "id": "phD1iVPx4f1P",
    "outputId": "9527385d-e535-470c-c3d5-cfa06a76ecab"
   },
   "id": "phD1iVPx4f1P",
   "execution_count": 128,
   "outputs": [
    {
     "output_type": "display_data",
     "data": {
      "text/plain": [
       "<Figure size 640x480 with 2 Axes>"
      ],
      "image/png": "[encoded data removed]"
     },
     "metadata": {}
    }
   ]
  },
  {
   "cell_type": "code",
   "source": [
    "# Predict on new data (test set)\n",
    "predictions = model.predict(X_test)\n",
    "predicted_classes = np.argmax(predictions, axis=1)\n",
    "true_classes = np.argmax(y_test, axis=1)\n",
    "\n",
    "# Evaluate the predictions using classification metrics\n",
    "print(classification_report(true_classes, predicted_classes))\n",
    "\n",
    "# Optionally, print the predicted classes for the first 10 examples\n",
    "print(predicted_classes[:10])"
   ],
   "metadata": {
    "colab": {
     "base_uri": "https://localhost:8080/"
    },
    "id": "GY-cW_QM9eZO",
    "outputId": "1c42c7fe-8a39-447f-ea2c-b7ed3d5d4f3a"
   },
   "id": "GY-cW_QM9eZO",
   "execution_count": 129,
   "outputs": [
    {
     "output_type": "stream",
     "name": "stdout",
     "text": [
      "\u001B[1m2/2\u001B[0m \u001B[32m━━━━━━━━━━━━━━━━━━━━\u001B[0m\u001B[37m\u001B[0m \u001B[1m0s\u001B[0m 15ms/step\n",
      "              precision    recall  f1-score   support\n",
      "\n",
      "           0       0.85      0.79      0.82        29\n",
      "           1       0.10      0.08      0.09        12\n",
      "           2       0.17      0.22      0.19         9\n",
      "           3       0.18      0.29      0.22         7\n",
      "           4       0.00      0.00      0.00         4\n",
      "\n",
      "    accuracy                           0.46        61\n",
      "   macro avg       0.26      0.28      0.27        61\n",
      "weighted avg       0.47      0.46      0.46        61\n",
      "\n",
      "[3 0 2 1 1 3 2 1 0 1]\n"
     ]
    }
   ]
  },
  {
   "cell_type": "markdown",
   "source": [
    "### 2.2 Data Augmentation or Undersampling:\n",
    "\n",
    "If oversampling doesn't work, you could try undersampling the majority class (class `0`) to balance the dataset."
   ],
   "metadata": {
    "id": "9T5kxFG9J6H2"
   },
   "id": "9T5kxFG9J6H2"
  },
  {
   "cell_type": "markdown",
   "metadata": {
    "id": "e1928565-50dc-4128-b77b-5f12d7584004"
   },
   "source": [
    "# 9. Conclusion\n",
    "The Keras Classifier and KNN Classifier gives us the best accuracy scores: 0.766"
   ],
   "id": "e1928565-50dc-4128-b77b-5f12d7584004"
  }
 ]
}
